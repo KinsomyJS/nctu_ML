{
 "cells": [
  {
   "cell_type": "markdown",
   "metadata": {},
   "source": [
    "# assignment3 water treatment plant"
   ]
  },
  {
   "cell_type": "code",
   "execution_count": 21,
   "metadata": {
    "collapsed": true
   },
   "outputs": [],
   "source": [
    "import graphlab\n",
    "import math"
   ]
  },
  {
   "cell_type": "code",
   "execution_count": 3,
   "metadata": {
    "collapsed": false
   },
   "outputs": [
    {
     "data": {
      "text/html": [
       "<pre>Finished parsing file /Users/kinsomy/课件/机器学习概论/assignment3/data1.csv</pre>"
      ],
      "text/plain": [
       "Finished parsing file /Users/kinsomy/课件/机器学习概论/assignment3/data1.csv"
      ]
     },
     "metadata": {},
     "output_type": "display_data"
    },
    {
     "data": {
      "text/html": [
       "<pre>Parsing completed. Parsed 13 lines in 0.012915 secs.</pre>"
      ],
      "text/plain": [
       "Parsing completed. Parsed 13 lines in 0.012915 secs."
      ]
     },
     "metadata": {},
     "output_type": "display_data"
    },
    {
     "name": "stdout",
     "output_type": "stream",
     "text": [
      "------------------------------------------------------\n",
      "Inferred types from first 100 line(s) of file as \n",
      "column_type_hints=[int,int,float,int,float,float,float,str]\n",
      "If parsing fails due to incorrect types, you can correct\n",
      "the inferred type list above and pass it to read_csv in\n",
      "the column_type_hints argument\n",
      "------------------------------------------------------\n"
     ]
    },
    {
     "data": {
      "text/html": [
       "<pre>Finished parsing file /Users/kinsomy/课件/机器学习概论/assignment3/data1.csv</pre>"
      ],
      "text/plain": [
       "Finished parsing file /Users/kinsomy/课件/机器学习概论/assignment3/data1.csv"
      ]
     },
     "metadata": {},
     "output_type": "display_data"
    },
    {
     "data": {
      "text/html": [
       "<pre>Parsing completed. Parsed 13 lines in 0.013015 secs.</pre>"
      ],
      "text/plain": [
       "Parsing completed. Parsed 13 lines in 0.013015 secs."
      ]
     },
     "metadata": {},
     "output_type": "display_data"
    },
    {
     "data": {
      "text/html": [
       "<div style=\"max-height:1000px;max-width:1500px;overflow:auto;\"><table frame=\"box\" rules=\"cols\">\n",
       "    <tr>\n",
       "        <th style=\"padding-left: 1em; padding-right: 1em; text-align: center\">ID</th>\n",
       "        <th style=\"padding-left: 1em; padding-right: 1em; text-align: center\">SS-IN</th>\n",
       "        <th style=\"padding-left: 1em; padding-right: 1em; text-align: center\">SED-IN</th>\n",
       "        <th style=\"padding-left: 1em; padding-right: 1em; text-align: center\">COND-IN</th>\n",
       "        <th style=\"padding-left: 1em; padding-right: 1em; text-align: center\">SS-OUT</th>\n",
       "        <th style=\"padding-left: 1em; padding-right: 1em; text-align: center\">SED-OUT</th>\n",
       "        <th style=\"padding-left: 1em; padding-right: 1em; text-align: center\">COND-OUT</th>\n",
       "        <th style=\"padding-left: 1em; padding-right: 1em; text-align: center\">STATUS</th>\n",
       "    </tr>\n",
       "    <tr>\n",
       "        <td style=\"padding-left: 1em; padding-right: 1em; text-align: center; vertical-align: top\">1</td>\n",
       "        <td style=\"padding-left: 1em; padding-right: 1em; text-align: center; vertical-align: top\">168</td>\n",
       "        <td style=\"padding-left: 1em; padding-right: 1em; text-align: center; vertical-align: top\">3.0</td>\n",
       "        <td style=\"padding-left: 1em; padding-right: 1em; text-align: center; vertical-align: top\">1814</td>\n",
       "        <td style=\"padding-left: 1em; padding-right: 1em; text-align: center; vertical-align: top\">15.0</td>\n",
       "        <td style=\"padding-left: 1em; padding-right: 1em; text-align: center; vertical-align: top\">0.001</td>\n",
       "        <td style=\"padding-left: 1em; padding-right: 1em; text-align: center; vertical-align: top\">1879.0</td>\n",
       "        <td style=\"padding-left: 1em; padding-right: 1em; text-align: center; vertical-align: top\">ok</td>\n",
       "    </tr>\n",
       "    <tr>\n",
       "        <td style=\"padding-left: 1em; padding-right: 1em; text-align: center; vertical-align: top\">2</td>\n",
       "        <td style=\"padding-left: 1em; padding-right: 1em; text-align: center; vertical-align: top\">156</td>\n",
       "        <td style=\"padding-left: 1em; padding-right: 1em; text-align: center; vertical-align: top\">3.0</td>\n",
       "        <td style=\"padding-left: 1em; padding-right: 1em; text-align: center; vertical-align: top\">1358</td>\n",
       "        <td style=\"padding-left: 1em; padding-right: 1em; text-align: center; vertical-align: top\">14.0</td>\n",
       "        <td style=\"padding-left: 1em; padding-right: 1em; text-align: center; vertical-align: top\">0.01</td>\n",
       "        <td style=\"padding-left: 1em; padding-right: 1em; text-align: center; vertical-align: top\">1425.0</td>\n",
       "        <td style=\"padding-left: 1em; padding-right: 1em; text-align: center; vertical-align: top\">ok</td>\n",
       "    </tr>\n",
       "    <tr>\n",
       "        <td style=\"padding-left: 1em; padding-right: 1em; text-align: center; vertical-align: top\">3</td>\n",
       "        <td style=\"padding-left: 1em; padding-right: 1em; text-align: center; vertical-align: top\">176</td>\n",
       "        <td style=\"padding-left: 1em; padding-right: 1em; text-align: center; vertical-align: top\">3.5</td>\n",
       "        <td style=\"padding-left: 1em; padding-right: 1em; text-align: center; vertical-align: top\">2200</td>\n",
       "        <td style=\"padding-left: 1em; padding-right: 1em; text-align: center; vertical-align: top\">16.0</td>\n",
       "        <td style=\"padding-left: 1em; padding-right: 1em; text-align: center; vertical-align: top\">0.005</td>\n",
       "        <td style=\"padding-left: 1em; padding-right: 1em; text-align: center; vertical-align: top\">2140.0</td>\n",
       "        <td style=\"padding-left: 1em; padding-right: 1em; text-align: center; vertical-align: top\">ok</td>\n",
       "    </tr>\n",
       "    <tr>\n",
       "        <td style=\"padding-left: 1em; padding-right: 1em; text-align: center; vertical-align: top\">4</td>\n",
       "        <td style=\"padding-left: 1em; padding-right: 1em; text-align: center; vertical-align: top\">256</td>\n",
       "        <td style=\"padding-left: 1em; padding-right: 1em; text-align: center; vertical-align: top\">3.0</td>\n",
       "        <td style=\"padding-left: 1em; padding-right: 1em; text-align: center; vertical-align: top\">2070</td>\n",
       "        <td style=\"padding-left: 1em; padding-right: 1em; text-align: center; vertical-align: top\">27.0</td>\n",
       "        <td style=\"padding-left: 1em; padding-right: 1em; text-align: center; vertical-align: top\">0.2</td>\n",
       "        <td style=\"padding-left: 1em; padding-right: 1em; text-align: center; vertical-align: top\">2700.0</td>\n",
       "        <td style=\"padding-left: 1em; padding-right: 1em; text-align: center; vertical-align: top\">ok</td>\n",
       "    </tr>\n",
       "    <tr>\n",
       "        <td style=\"padding-left: 1em; padding-right: 1em; text-align: center; vertical-align: top\">5</td>\n",
       "        <td style=\"padding-left: 1em; padding-right: 1em; text-align: center; vertical-align: top\">230</td>\n",
       "        <td style=\"padding-left: 1em; padding-right: 1em; text-align: center; vertical-align: top\">5.0</td>\n",
       "        <td style=\"padding-left: 1em; padding-right: 1em; text-align: center; vertical-align: top\">1410</td>\n",
       "        <td style=\"padding-left: 1em; padding-right: 1em; text-align: center; vertical-align: top\">131.0</td>\n",
       "        <td style=\"padding-left: 1em; padding-right: 1em; text-align: center; vertical-align: top\">3.5</td>\n",
       "        <td style=\"padding-left: 1em; padding-right: 1em; text-align: center; vertical-align: top\">1575.0</td>\n",
       "        <td style=\"padding-left: 1em; padding-right: 1em; text-align: center; vertical-align: top\">settler</td>\n",
       "    </tr>\n",
       "    <tr>\n",
       "        <td style=\"padding-left: 1em; padding-right: 1em; text-align: center; vertical-align: top\">6</td>\n",
       "        <td style=\"padding-left: 1em; padding-right: 1em; text-align: center; vertical-align: top\">116</td>\n",
       "        <td style=\"padding-left: 1em; padding-right: 1em; text-align: center; vertical-align: top\">3.0</td>\n",
       "        <td style=\"padding-left: 1em; padding-right: 1em; text-align: center; vertical-align: top\">1238</td>\n",
       "        <td style=\"padding-left: 1em; padding-right: 1em; text-align: center; vertical-align: top\">104.0</td>\n",
       "        <td style=\"padding-left: 1em; padding-right: 1em; text-align: center; vertical-align: top\">0.06</td>\n",
       "        <td style=\"padding-left: 1em; padding-right: 1em; text-align: center; vertical-align: top\">1221.0</td>\n",
       "        <td style=\"padding-left: 1em; padding-right: 1em; text-align: center; vertical-align: top\">settler</td>\n",
       "    </tr>\n",
       "    <tr>\n",
       "        <td style=\"padding-left: 1em; padding-right: 1em; text-align: center; vertical-align: top\">7</td>\n",
       "        <td style=\"padding-left: 1em; padding-right: 1em; text-align: center; vertical-align: top\">242</td>\n",
       "        <td style=\"padding-left: 1em; padding-right: 1em; text-align: center; vertical-align: top\">7.0</td>\n",
       "        <td style=\"padding-left: 1em; padding-right: 1em; text-align: center; vertical-align: top\">1315</td>\n",
       "        <td style=\"padding-left: 1em; padding-right: 1em; text-align: center; vertical-align: top\">104.0</td>\n",
       "        <td style=\"padding-left: 1em; padding-right: 1em; text-align: center; vertical-align: top\">0.01</td>\n",
       "        <td style=\"padding-left: 1em; padding-right: 1em; text-align: center; vertical-align: top\">1434.0</td>\n",
       "        <td style=\"padding-left: 1em; padding-right: 1em; text-align: center; vertical-align: top\">settler</td>\n",
       "    </tr>\n",
       "    <tr>\n",
       "        <td style=\"padding-left: 1em; padding-right: 1em; text-align: center; vertical-align: top\">8</td>\n",
       "        <td style=\"padding-left: 1em; padding-right: 1em; text-align: center; vertical-align: top\">242</td>\n",
       "        <td style=\"padding-left: 1em; padding-right: 1em; text-align: center; vertical-align: top\">4.5</td>\n",
       "        <td style=\"padding-left: 1em; padding-right: 1em; text-align: center; vertical-align: top\">1183</td>\n",
       "        <td style=\"padding-left: 1em; padding-right: 1em; text-align: center; vertical-align: top\">78.0</td>\n",
       "        <td style=\"padding-left: 1em; padding-right: 1em; text-align: center; vertical-align: top\">0.02</td>\n",
       "        <td style=\"padding-left: 1em; padding-right: 1em; text-align: center; vertical-align: top\">1374.0</td>\n",
       "        <td style=\"padding-left: 1em; padding-right: 1em; text-align: center; vertical-align: top\">settler</td>\n",
       "    </tr>\n",
       "    <tr>\n",
       "        <td style=\"padding-left: 1em; padding-right: 1em; text-align: center; vertical-align: top\">9</td>\n",
       "        <td style=\"padding-left: 1em; padding-right: 1em; text-align: center; vertical-align: top\">174</td>\n",
       "        <td style=\"padding-left: 1em; padding-right: 1em; text-align: center; vertical-align: top\">2.5</td>\n",
       "        <td style=\"padding-left: 1em; padding-right: 1em; text-align: center; vertical-align: top\">1110</td>\n",
       "        <td style=\"padding-left: 1em; padding-right: 1em; text-align: center; vertical-align: top\">73.0</td>\n",
       "        <td style=\"padding-left: 1em; padding-right: 1em; text-align: center; vertical-align: top\">1.5</td>\n",
       "        <td style=\"padding-left: 1em; padding-right: 1em; text-align: center; vertical-align: top\">1256.0</td>\n",
       "        <td style=\"padding-left: 1em; padding-right: 1em; text-align: center; vertical-align: top\">settler</td>\n",
       "    </tr>\n",
       "    <tr>\n",
       "        <td style=\"padding-left: 1em; padding-right: 1em; text-align: center; vertical-align: top\">10</td>\n",
       "        <td style=\"padding-left: 1em; padding-right: 1em; text-align: center; vertical-align: top\">1004</td>\n",
       "        <td style=\"padding-left: 1em; padding-right: 1em; text-align: center; vertical-align: top\">35.0</td>\n",
       "        <td style=\"padding-left: 1em; padding-right: 1em; text-align: center; vertical-align: top\">1218</td>\n",
       "        <td style=\"padding-left: 1em; padding-right: 1em; text-align: center; vertical-align: top\">81.0</td>\n",
       "        <td style=\"padding-left: 1em; padding-right: 1em; text-align: center; vertical-align: top\">1172.0</td>\n",
       "        <td style=\"padding-left: 1em; padding-right: 1em; text-align: center; vertical-align: top\">33.3</td>\n",
       "        <td style=\"padding-left: 1em; padding-right: 1em; text-align: center; vertical-align: top\">solids</td>\n",
       "    </tr>\n",
       "</table>\n",
       "[13 rows x 8 columns]<br/>Note: Only the head of the SFrame is printed.<br/>You can use print_rows(num_rows=m, num_columns=n) to print more rows and columns.\n",
       "</div>"
      ],
      "text/plain": [
       "Columns:\n",
       "\tID\tint\n",
       "\tSS-IN\tint\n",
       "\tSED-IN\tfloat\n",
       "\tCOND-IN\tint\n",
       "\tSS-OUT\tfloat\n",
       "\tSED-OUT\tfloat\n",
       "\tCOND-OUT\tfloat\n",
       "\tSTATUS\tstr\n",
       "\n",
       "Rows: 13\n",
       "\n",
       "Data:\n",
       "+----+-------+--------+---------+--------+---------+----------+---------+\n",
       "| ID | SS-IN | SED-IN | COND-IN | SS-OUT | SED-OUT | COND-OUT |  STATUS |\n",
       "+----+-------+--------+---------+--------+---------+----------+---------+\n",
       "| 1  |  168  |  3.0   |   1814  |  15.0  |  0.001  |  1879.0  |    ok   |\n",
       "| 2  |  156  |  3.0   |   1358  |  14.0  |   0.01  |  1425.0  |    ok   |\n",
       "| 3  |  176  |  3.5   |   2200  |  16.0  |  0.005  |  2140.0  |    ok   |\n",
       "| 4  |  256  |  3.0   |   2070  |  27.0  |   0.2   |  2700.0  |    ok   |\n",
       "| 5  |  230  |  5.0   |   1410  | 131.0  |   3.5   |  1575.0  | settler |\n",
       "| 6  |  116  |  3.0   |   1238  | 104.0  |   0.06  |  1221.0  | settler |\n",
       "| 7  |  242  |  7.0   |   1315  | 104.0  |   0.01  |  1434.0  | settler |\n",
       "| 8  |  242  |  4.5   |   1183  |  78.0  |   0.02  |  1374.0  | settler |\n",
       "| 9  |  174  |  2.5   |   1110  |  73.0  |   1.5   |  1256.0  | settler |\n",
       "| 10 |  1004 |  35.0  |   1218  |  81.0  |  1172.0 |   33.3   |  solids |\n",
       "+----+-------+--------+---------+--------+---------+----------+---------+\n",
       "[13 rows x 8 columns]\n",
       "Note: Only the head of the SFrame is printed.\n",
       "You can use print_rows(num_rows=m, num_columns=n) to print more rows and columns."
      ]
     },
     "execution_count": 3,
     "metadata": {},
     "output_type": "execute_result"
    }
   ],
   "source": [
    "data_qow = graphlab.SFrame.read_csv('data1.csv')\n",
    "data_qow"
   ]
  },
  {
   "cell_type": "markdown",
   "metadata": {},
   "source": [
    "## using normal distributed"
   ]
  },
  {
   "cell_type": "code",
   "execution_count": 10,
   "metadata": {
    "collapsed": false
   },
   "outputs": [],
   "source": [
    "status_ok = data_qow[data_qow['STATUS'] == 'ok']\n",
    "status_settler = data_qow[data_qow['STATUS'] == 'settler']\n",
    "status_solids = data_qow[data_qow['STATUS'] == 'solids']"
   ]
  },
  {
   "cell_type": "code",
   "execution_count": 11,
   "metadata": {
    "collapsed": false
   },
   "outputs": [
    {
     "data": {
      "text/html": [
       "<div style=\"max-height:1000px;max-width:1500px;overflow:auto;\"><table frame=\"box\" rules=\"cols\">\n",
       "    <tr>\n",
       "        <th style=\"padding-left: 1em; padding-right: 1em; text-align: center\">ID</th>\n",
       "        <th style=\"padding-left: 1em; padding-right: 1em; text-align: center\">SS-IN</th>\n",
       "        <th style=\"padding-left: 1em; padding-right: 1em; text-align: center\">SED-IN</th>\n",
       "        <th style=\"padding-left: 1em; padding-right: 1em; text-align: center\">COND-IN</th>\n",
       "        <th style=\"padding-left: 1em; padding-right: 1em; text-align: center\">SS-OUT</th>\n",
       "        <th style=\"padding-left: 1em; padding-right: 1em; text-align: center\">SED-OUT</th>\n",
       "        <th style=\"padding-left: 1em; padding-right: 1em; text-align: center\">COND-OUT</th>\n",
       "        <th style=\"padding-left: 1em; padding-right: 1em; text-align: center\">STATUS</th>\n",
       "    </tr>\n",
       "    <tr>\n",
       "        <td style=\"padding-left: 1em; padding-right: 1em; text-align: center; vertical-align: top\">1</td>\n",
       "        <td style=\"padding-left: 1em; padding-right: 1em; text-align: center; vertical-align: top\">168</td>\n",
       "        <td style=\"padding-left: 1em; padding-right: 1em; text-align: center; vertical-align: top\">3.0</td>\n",
       "        <td style=\"padding-left: 1em; padding-right: 1em; text-align: center; vertical-align: top\">1814</td>\n",
       "        <td style=\"padding-left: 1em; padding-right: 1em; text-align: center; vertical-align: top\">15.0</td>\n",
       "        <td style=\"padding-left: 1em; padding-right: 1em; text-align: center; vertical-align: top\">0.001</td>\n",
       "        <td style=\"padding-left: 1em; padding-right: 1em; text-align: center; vertical-align: top\">1879.0</td>\n",
       "        <td style=\"padding-left: 1em; padding-right: 1em; text-align: center; vertical-align: top\">ok</td>\n",
       "    </tr>\n",
       "    <tr>\n",
       "        <td style=\"padding-left: 1em; padding-right: 1em; text-align: center; vertical-align: top\">2</td>\n",
       "        <td style=\"padding-left: 1em; padding-right: 1em; text-align: center; vertical-align: top\">156</td>\n",
       "        <td style=\"padding-left: 1em; padding-right: 1em; text-align: center; vertical-align: top\">3.0</td>\n",
       "        <td style=\"padding-left: 1em; padding-right: 1em; text-align: center; vertical-align: top\">1358</td>\n",
       "        <td style=\"padding-left: 1em; padding-right: 1em; text-align: center; vertical-align: top\">14.0</td>\n",
       "        <td style=\"padding-left: 1em; padding-right: 1em; text-align: center; vertical-align: top\">0.01</td>\n",
       "        <td style=\"padding-left: 1em; padding-right: 1em; text-align: center; vertical-align: top\">1425.0</td>\n",
       "        <td style=\"padding-left: 1em; padding-right: 1em; text-align: center; vertical-align: top\">ok</td>\n",
       "    </tr>\n",
       "    <tr>\n",
       "        <td style=\"padding-left: 1em; padding-right: 1em; text-align: center; vertical-align: top\">3</td>\n",
       "        <td style=\"padding-left: 1em; padding-right: 1em; text-align: center; vertical-align: top\">176</td>\n",
       "        <td style=\"padding-left: 1em; padding-right: 1em; text-align: center; vertical-align: top\">3.5</td>\n",
       "        <td style=\"padding-left: 1em; padding-right: 1em; text-align: center; vertical-align: top\">2200</td>\n",
       "        <td style=\"padding-left: 1em; padding-right: 1em; text-align: center; vertical-align: top\">16.0</td>\n",
       "        <td style=\"padding-left: 1em; padding-right: 1em; text-align: center; vertical-align: top\">0.005</td>\n",
       "        <td style=\"padding-left: 1em; padding-right: 1em; text-align: center; vertical-align: top\">2140.0</td>\n",
       "        <td style=\"padding-left: 1em; padding-right: 1em; text-align: center; vertical-align: top\">ok</td>\n",
       "    </tr>\n",
       "    <tr>\n",
       "        <td style=\"padding-left: 1em; padding-right: 1em; text-align: center; vertical-align: top\">4</td>\n",
       "        <td style=\"padding-left: 1em; padding-right: 1em; text-align: center; vertical-align: top\">256</td>\n",
       "        <td style=\"padding-left: 1em; padding-right: 1em; text-align: center; vertical-align: top\">3.0</td>\n",
       "        <td style=\"padding-left: 1em; padding-right: 1em; text-align: center; vertical-align: top\">2070</td>\n",
       "        <td style=\"padding-left: 1em; padding-right: 1em; text-align: center; vertical-align: top\">27.0</td>\n",
       "        <td style=\"padding-left: 1em; padding-right: 1em; text-align: center; vertical-align: top\">0.2</td>\n",
       "        <td style=\"padding-left: 1em; padding-right: 1em; text-align: center; vertical-align: top\">2700.0</td>\n",
       "        <td style=\"padding-left: 1em; padding-right: 1em; text-align: center; vertical-align: top\">ok</td>\n",
       "    </tr>\n",
       "</table>\n",
       "[? rows x 8 columns]<br/>Note: Only the head of the SFrame is printed. This SFrame is lazily evaluated.<br/>You can use sf.materialize() to force materialization.\n",
       "</div>"
      ],
      "text/plain": [
       "Columns:\n",
       "\tID\tint\n",
       "\tSS-IN\tint\n",
       "\tSED-IN\tfloat\n",
       "\tCOND-IN\tint\n",
       "\tSS-OUT\tfloat\n",
       "\tSED-OUT\tfloat\n",
       "\tCOND-OUT\tfloat\n",
       "\tSTATUS\tstr\n",
       "\n",
       "Rows: Unknown\n",
       "\n",
       "Data:\n",
       "+----+-------+--------+---------+--------+---------+----------+--------+\n",
       "| ID | SS-IN | SED-IN | COND-IN | SS-OUT | SED-OUT | COND-OUT | STATUS |\n",
       "+----+-------+--------+---------+--------+---------+----------+--------+\n",
       "| 1  |  168  |  3.0   |   1814  |  15.0  |  0.001  |  1879.0  |   ok   |\n",
       "| 2  |  156  |  3.0   |   1358  |  14.0  |   0.01  |  1425.0  |   ok   |\n",
       "| 3  |  176  |  3.5   |   2200  |  16.0  |  0.005  |  2140.0  |   ok   |\n",
       "| 4  |  256  |  3.0   |   2070  |  27.0  |   0.2   |  2700.0  |   ok   |\n",
       "+----+-------+--------+---------+--------+---------+----------+--------+\n",
       "[? rows x 8 columns]\n",
       "Note: Only the head of the SFrame is printed. This SFrame is lazily evaluated.\n",
       "You can use sf.materialize() to force materialization."
      ]
     },
     "execution_count": 11,
     "metadata": {},
     "output_type": "execute_result"
    }
   ],
   "source": [
    "status_ok"
   ]
  },
  {
   "cell_type": "code",
   "execution_count": 12,
   "metadata": {
    "collapsed": false
   },
   "outputs": [
    {
     "data": {
      "text/html": [
       "<div style=\"max-height:1000px;max-width:1500px;overflow:auto;\"><table frame=\"box\" rules=\"cols\">\n",
       "    <tr>\n",
       "        <th style=\"padding-left: 1em; padding-right: 1em; text-align: center\">ID</th>\n",
       "        <th style=\"padding-left: 1em; padding-right: 1em; text-align: center\">SS-IN</th>\n",
       "        <th style=\"padding-left: 1em; padding-right: 1em; text-align: center\">SED-IN</th>\n",
       "        <th style=\"padding-left: 1em; padding-right: 1em; text-align: center\">COND-IN</th>\n",
       "        <th style=\"padding-left: 1em; padding-right: 1em; text-align: center\">SS-OUT</th>\n",
       "        <th style=\"padding-left: 1em; padding-right: 1em; text-align: center\">SED-OUT</th>\n",
       "        <th style=\"padding-left: 1em; padding-right: 1em; text-align: center\">COND-OUT</th>\n",
       "        <th style=\"padding-left: 1em; padding-right: 1em; text-align: center\">STATUS</th>\n",
       "    </tr>\n",
       "    <tr>\n",
       "        <td style=\"padding-left: 1em; padding-right: 1em; text-align: center; vertical-align: top\">5</td>\n",
       "        <td style=\"padding-left: 1em; padding-right: 1em; text-align: center; vertical-align: top\">230</td>\n",
       "        <td style=\"padding-left: 1em; padding-right: 1em; text-align: center; vertical-align: top\">5.0</td>\n",
       "        <td style=\"padding-left: 1em; padding-right: 1em; text-align: center; vertical-align: top\">1410</td>\n",
       "        <td style=\"padding-left: 1em; padding-right: 1em; text-align: center; vertical-align: top\">131.0</td>\n",
       "        <td style=\"padding-left: 1em; padding-right: 1em; text-align: center; vertical-align: top\">3.5</td>\n",
       "        <td style=\"padding-left: 1em; padding-right: 1em; text-align: center; vertical-align: top\">1575.0</td>\n",
       "        <td style=\"padding-left: 1em; padding-right: 1em; text-align: center; vertical-align: top\">settler</td>\n",
       "    </tr>\n",
       "    <tr>\n",
       "        <td style=\"padding-left: 1em; padding-right: 1em; text-align: center; vertical-align: top\">6</td>\n",
       "        <td style=\"padding-left: 1em; padding-right: 1em; text-align: center; vertical-align: top\">116</td>\n",
       "        <td style=\"padding-left: 1em; padding-right: 1em; text-align: center; vertical-align: top\">3.0</td>\n",
       "        <td style=\"padding-left: 1em; padding-right: 1em; text-align: center; vertical-align: top\">1238</td>\n",
       "        <td style=\"padding-left: 1em; padding-right: 1em; text-align: center; vertical-align: top\">104.0</td>\n",
       "        <td style=\"padding-left: 1em; padding-right: 1em; text-align: center; vertical-align: top\">0.06</td>\n",
       "        <td style=\"padding-left: 1em; padding-right: 1em; text-align: center; vertical-align: top\">1221.0</td>\n",
       "        <td style=\"padding-left: 1em; padding-right: 1em; text-align: center; vertical-align: top\">settler</td>\n",
       "    </tr>\n",
       "    <tr>\n",
       "        <td style=\"padding-left: 1em; padding-right: 1em; text-align: center; vertical-align: top\">7</td>\n",
       "        <td style=\"padding-left: 1em; padding-right: 1em; text-align: center; vertical-align: top\">242</td>\n",
       "        <td style=\"padding-left: 1em; padding-right: 1em; text-align: center; vertical-align: top\">7.0</td>\n",
       "        <td style=\"padding-left: 1em; padding-right: 1em; text-align: center; vertical-align: top\">1315</td>\n",
       "        <td style=\"padding-left: 1em; padding-right: 1em; text-align: center; vertical-align: top\">104.0</td>\n",
       "        <td style=\"padding-left: 1em; padding-right: 1em; text-align: center; vertical-align: top\">0.01</td>\n",
       "        <td style=\"padding-left: 1em; padding-right: 1em; text-align: center; vertical-align: top\">1434.0</td>\n",
       "        <td style=\"padding-left: 1em; padding-right: 1em; text-align: center; vertical-align: top\">settler</td>\n",
       "    </tr>\n",
       "    <tr>\n",
       "        <td style=\"padding-left: 1em; padding-right: 1em; text-align: center; vertical-align: top\">8</td>\n",
       "        <td style=\"padding-left: 1em; padding-right: 1em; text-align: center; vertical-align: top\">242</td>\n",
       "        <td style=\"padding-left: 1em; padding-right: 1em; text-align: center; vertical-align: top\">4.5</td>\n",
       "        <td style=\"padding-left: 1em; padding-right: 1em; text-align: center; vertical-align: top\">1183</td>\n",
       "        <td style=\"padding-left: 1em; padding-right: 1em; text-align: center; vertical-align: top\">78.0</td>\n",
       "        <td style=\"padding-left: 1em; padding-right: 1em; text-align: center; vertical-align: top\">0.02</td>\n",
       "        <td style=\"padding-left: 1em; padding-right: 1em; text-align: center; vertical-align: top\">1374.0</td>\n",
       "        <td style=\"padding-left: 1em; padding-right: 1em; text-align: center; vertical-align: top\">settler</td>\n",
       "    </tr>\n",
       "    <tr>\n",
       "        <td style=\"padding-left: 1em; padding-right: 1em; text-align: center; vertical-align: top\">9</td>\n",
       "        <td style=\"padding-left: 1em; padding-right: 1em; text-align: center; vertical-align: top\">174</td>\n",
       "        <td style=\"padding-left: 1em; padding-right: 1em; text-align: center; vertical-align: top\">2.5</td>\n",
       "        <td style=\"padding-left: 1em; padding-right: 1em; text-align: center; vertical-align: top\">1110</td>\n",
       "        <td style=\"padding-left: 1em; padding-right: 1em; text-align: center; vertical-align: top\">73.0</td>\n",
       "        <td style=\"padding-left: 1em; padding-right: 1em; text-align: center; vertical-align: top\">1.5</td>\n",
       "        <td style=\"padding-left: 1em; padding-right: 1em; text-align: center; vertical-align: top\">1256.0</td>\n",
       "        <td style=\"padding-left: 1em; padding-right: 1em; text-align: center; vertical-align: top\">settler</td>\n",
       "    </tr>\n",
       "</table>\n",
       "[? rows x 8 columns]<br/>Note: Only the head of the SFrame is printed. This SFrame is lazily evaluated.<br/>You can use sf.materialize() to force materialization.\n",
       "</div>"
      ],
      "text/plain": [
       "Columns:\n",
       "\tID\tint\n",
       "\tSS-IN\tint\n",
       "\tSED-IN\tfloat\n",
       "\tCOND-IN\tint\n",
       "\tSS-OUT\tfloat\n",
       "\tSED-OUT\tfloat\n",
       "\tCOND-OUT\tfloat\n",
       "\tSTATUS\tstr\n",
       "\n",
       "Rows: Unknown\n",
       "\n",
       "Data:\n",
       "+----+-------+--------+---------+--------+---------+----------+---------+\n",
       "| ID | SS-IN | SED-IN | COND-IN | SS-OUT | SED-OUT | COND-OUT |  STATUS |\n",
       "+----+-------+--------+---------+--------+---------+----------+---------+\n",
       "| 5  |  230  |  5.0   |   1410  | 131.0  |   3.5   |  1575.0  | settler |\n",
       "| 6  |  116  |  3.0   |   1238  | 104.0  |   0.06  |  1221.0  | settler |\n",
       "| 7  |  242  |  7.0   |   1315  | 104.0  |   0.01  |  1434.0  | settler |\n",
       "| 8  |  242  |  4.5   |   1183  |  78.0  |   0.02  |  1374.0  | settler |\n",
       "| 9  |  174  |  2.5   |   1110  |  73.0  |   1.5   |  1256.0  | settler |\n",
       "+----+-------+--------+---------+--------+---------+----------+---------+\n",
       "[? rows x 8 columns]\n",
       "Note: Only the head of the SFrame is printed. This SFrame is lazily evaluated.\n",
       "You can use sf.materialize() to force materialization."
      ]
     },
     "execution_count": 12,
     "metadata": {},
     "output_type": "execute_result"
    }
   ],
   "source": [
    "status_settler"
   ]
  },
  {
   "cell_type": "code",
   "execution_count": 13,
   "metadata": {
    "collapsed": false
   },
   "outputs": [
    {
     "data": {
      "text/html": [
       "<div style=\"max-height:1000px;max-width:1500px;overflow:auto;\"><table frame=\"box\" rules=\"cols\">\n",
       "    <tr>\n",
       "        <th style=\"padding-left: 1em; padding-right: 1em; text-align: center\">ID</th>\n",
       "        <th style=\"padding-left: 1em; padding-right: 1em; text-align: center\">SS-IN</th>\n",
       "        <th style=\"padding-left: 1em; padding-right: 1em; text-align: center\">SED-IN</th>\n",
       "        <th style=\"padding-left: 1em; padding-right: 1em; text-align: center\">COND-IN</th>\n",
       "        <th style=\"padding-left: 1em; padding-right: 1em; text-align: center\">SS-OUT</th>\n",
       "        <th style=\"padding-left: 1em; padding-right: 1em; text-align: center\">SED-OUT</th>\n",
       "        <th style=\"padding-left: 1em; padding-right: 1em; text-align: center\">COND-OUT</th>\n",
       "        <th style=\"padding-left: 1em; padding-right: 1em; text-align: center\">STATUS</th>\n",
       "    </tr>\n",
       "    <tr>\n",
       "        <td style=\"padding-left: 1em; padding-right: 1em; text-align: center; vertical-align: top\">10</td>\n",
       "        <td style=\"padding-left: 1em; padding-right: 1em; text-align: center; vertical-align: top\">1004</td>\n",
       "        <td style=\"padding-left: 1em; padding-right: 1em; text-align: center; vertical-align: top\">35.0</td>\n",
       "        <td style=\"padding-left: 1em; padding-right: 1em; text-align: center; vertical-align: top\">1218</td>\n",
       "        <td style=\"padding-left: 1em; padding-right: 1em; text-align: center; vertical-align: top\">81.0</td>\n",
       "        <td style=\"padding-left: 1em; padding-right: 1em; text-align: center; vertical-align: top\">1172.0</td>\n",
       "        <td style=\"padding-left: 1em; padding-right: 1em; text-align: center; vertical-align: top\">33.3</td>\n",
       "        <td style=\"padding-left: 1em; padding-right: 1em; text-align: center; vertical-align: top\">solids</td>\n",
       "    </tr>\n",
       "    <tr>\n",
       "        <td style=\"padding-left: 1em; padding-right: 1em; text-align: center; vertical-align: top\">11</td>\n",
       "        <td style=\"padding-left: 1em; padding-right: 1em; text-align: center; vertical-align: top\">1228</td>\n",
       "        <td style=\"padding-left: 1em; padding-right: 1em; text-align: center; vertical-align: top\">46.0</td>\n",
       "        <td style=\"padding-left: 1em; padding-right: 1em; text-align: center; vertical-align: top\">1889</td>\n",
       "        <td style=\"padding-left: 1em; padding-right: 1em; text-align: center; vertical-align: top\">82.4</td>\n",
       "        <td style=\"padding-left: 1em; padding-right: 1em; text-align: center; vertical-align: top\">1932.0</td>\n",
       "        <td style=\"padding-left: 1em; padding-right: 1em; text-align: center; vertical-align: top\">43.1</td>\n",
       "        <td style=\"padding-left: 1em; padding-right: 1em; text-align: center; vertical-align: top\">solids</td>\n",
       "    </tr>\n",
       "    <tr>\n",
       "        <td style=\"padding-left: 1em; padding-right: 1em; text-align: center; vertical-align: top\">12</td>\n",
       "        <td style=\"padding-left: 1em; padding-right: 1em; text-align: center; vertical-align: top\">964</td>\n",
       "        <td style=\"padding-left: 1em; padding-right: 1em; text-align: center; vertical-align: top\">17.0</td>\n",
       "        <td style=\"padding-left: 1em; padding-right: 1em; text-align: center; vertical-align: top\">2120</td>\n",
       "        <td style=\"padding-left: 1em; padding-right: 1em; text-align: center; vertical-align: top\">20.0</td>\n",
       "        <td style=\"padding-left: 1em; padding-right: 1em; text-align: center; vertical-align: top\">1030.0</td>\n",
       "        <td style=\"padding-left: 1em; padding-right: 1em; text-align: center; vertical-align: top\">1966.0</td>\n",
       "        <td style=\"padding-left: 1em; padding-right: 1em; text-align: center; vertical-align: top\">solids</td>\n",
       "    </tr>\n",
       "    <tr>\n",
       "        <td style=\"padding-left: 1em; padding-right: 1em; text-align: center; vertical-align: top\">13</td>\n",
       "        <td style=\"padding-left: 1em; padding-right: 1em; text-align: center; vertical-align: top\">2008</td>\n",
       "        <td style=\"padding-left: 1em; padding-right: 1em; text-align: center; vertical-align: top\">32.0</td>\n",
       "        <td style=\"padding-left: 1em; padding-right: 1em; text-align: center; vertical-align: top\">1257</td>\n",
       "        <td style=\"padding-left: 1em; padding-right: 1em; text-align: center; vertical-align: top\">13.0</td>\n",
       "        <td style=\"padding-left: 1em; padding-right: 1em; text-align: center; vertical-align: top\">1038.0</td>\n",
       "        <td style=\"padding-left: 1em; padding-right: 1em; text-align: center; vertical-align: top\">1289.0</td>\n",
       "        <td style=\"padding-left: 1em; padding-right: 1em; text-align: center; vertical-align: top\">solids</td>\n",
       "    </tr>\n",
       "</table>\n",
       "[? rows x 8 columns]<br/>Note: Only the head of the SFrame is printed. This SFrame is lazily evaluated.<br/>You can use sf.materialize() to force materialization.\n",
       "</div>"
      ],
      "text/plain": [
       "Columns:\n",
       "\tID\tint\n",
       "\tSS-IN\tint\n",
       "\tSED-IN\tfloat\n",
       "\tCOND-IN\tint\n",
       "\tSS-OUT\tfloat\n",
       "\tSED-OUT\tfloat\n",
       "\tCOND-OUT\tfloat\n",
       "\tSTATUS\tstr\n",
       "\n",
       "Rows: Unknown\n",
       "\n",
       "Data:\n",
       "+----+-------+--------+---------+--------+---------+----------+--------+\n",
       "| ID | SS-IN | SED-IN | COND-IN | SS-OUT | SED-OUT | COND-OUT | STATUS |\n",
       "+----+-------+--------+---------+--------+---------+----------+--------+\n",
       "| 10 |  1004 |  35.0  |   1218  |  81.0  |  1172.0 |   33.3   | solids |\n",
       "| 11 |  1228 |  46.0  |   1889  |  82.4  |  1932.0 |   43.1   | solids |\n",
       "| 12 |  964  |  17.0  |   2120  |  20.0  |  1030.0 |  1966.0  | solids |\n",
       "| 13 |  2008 |  32.0  |   1257  |  13.0  |  1038.0 |  1289.0  | solids |\n",
       "+----+-------+--------+---------+--------+---------+----------+--------+\n",
       "[? rows x 8 columns]\n",
       "Note: Only the head of the SFrame is printed. This SFrame is lazily evaluated.\n",
       "You can use sf.materialize() to force materialization."
      ]
     },
     "execution_count": 13,
     "metadata": {},
     "output_type": "execute_result"
    }
   ],
   "source": [
    "status_solids"
   ]
  },
  {
   "cell_type": "code",
   "execution_count": 20,
   "metadata": {
    "collapsed": false
   },
   "outputs": [
    {
     "name": "stdout",
     "output_type": "stream",
     "text": [
      "321.64382475 49.30882274 1301.0\n"
     ]
    }
   ],
   "source": [
    "#计算status==ok的avg和std\n",
    "ok_ssin_avg = status_ok['SS-IN'].mean()\n",
    "ok_ssin_std = status_ok['SS-IN'].std()\n",
    "ok_sedin_avg = status_ok['SED-IN'].mean()\n",
    "ok_sedin_std = status_ok['SED-IN'].std()\n",
    "ok_condin_avg = status_ok['COND-IN'].mean()\n",
    "ok_condin_std = status_ok['COND-IN'].std()\n",
    "ok_ssout_avg = status_ok['SS-OUT'].mean()\n",
    "ok_ssout_std = status_ok['SS-OUT'].std()\n",
    "ok_sedout_avg = status_ok['SED-OUT'].mean()\n",
    "ok_sedout_std = status_ok['SED-OUT'].std()\n",
    "ok_condout_avg = status_ok['COND-OUT'].mean()\n",
    "ok_condout_std = status_ok['COND-OUT'].std()\n",
    "\n",
    "#计算status==settler的avg和std\n",
    "settler_ssin_avg = status_settler['SS-IN'].mean()\n",
    "settler_ssin_std = status_settler['SS-IN'].std()\n",
    "settler_sedin_avg = status_settler['SED-IN'].mean()\n",
    "settler_sedin_std = status_settler['SED-IN'].std()\n",
    "settler_condin_avg = status_settler['COND-IN'].mean()\n",
    "settler_condin_std = status_settler['COND-IN'].std()\n",
    "settler_ssout_avg = status_settler['SS-OUT'].mean()\n",
    "settler_ssout_std = status_settler['SS-OUT'].std()\n",
    "settler_sedout_avg = status_settler['SED-OUT'].mean()\n",
    "settler_sedout_std = status_settler['SED-OUT'].std()\n",
    "settler_condout_avg = status_settler['COND-OUT'].mean()\n",
    "settler_condout_std = status_settler['COND-OUT'].std()\n",
    "\n",
    "#计算status==solids的avg和std\n",
    "solids_ssin_avg = status_solids['SS-IN'].mean()\n",
    "solids_ssin_std = status_solids['SS-IN'].std()\n",
    "solids_sedin_avg = status_solids['SED-IN'].mean()\n",
    "solids_sedin_std = status_solids['SED-IN'].std()\n",
    "solids_condin_avg = status_solids['COND-IN'].mean()\n",
    "solids_condin_std = status_solids['COND-IN'].std()\n",
    "solids_ssout_avg = status_solids['SS-OUT'].mean()\n",
    "solids_ssout_std = status_solids['SS-OUT'].std()\n",
    "solids_sedout_avg = status_solids['SED-OUT'].mean()\n",
    "solids_sedout_std = status_solids['SED-OUT'].std()\n",
    "solids_condout_avg = status_solids['COND-OUT'].mean()\n",
    "solids_condout_std = status_solids['COND-OUT'].std()\n",
    "\n",
    "print ok_condin_std,settler_ssin_std,solids_ssin_avg"
   ]
  },
  {
   "cell_type": "code",
   "execution_count": 22,
   "metadata": {
    "collapsed": true
   },
   "outputs": [],
   "source": [
    "def getNormalDis(x,avg,std):\n",
    "    return (1 / (std * math.sqrt(2 * math.pi))) * math.exp(-math.pow(x - avg,2) / (2 * math.pow(std,2)))"
   ]
  },
  {
   "cell_type": "code",
   "execution_count": 38,
   "metadata": {
    "collapsed": false
   },
   "outputs": [
    {
     "name": "stdout",
     "output_type": "stream",
     "text": [
      "1.2460466248e-44 8.27916285841e-14 7.67538782086e-23\n"
     ]
    }
   ],
   "source": [
    "#对SS-IN = 222, SED-IN = 4.5, COND-IN = 1,518, SS-OUT = 74, SED-OUT = 0.25, COND-OUT = 1,642计算probability\n",
    "p_ok_nd = (float(4) / 13) * getNormalDis(222,ok_ssin_avg,ok_ssin_std) * getNormalDis(1518,ok_condin_avg,ok_condin_std) * getNormalDis(74,ok_ssout_avg,ok_ssout_std) * getNormalDis(4.5,ok_sedin_avg,ok_sedin_std) * getNormalDis(0.25,ok_sedout_avg,ok_sedout_std) * getNormalDis(1642,ok_condout_avg,ok_condout_std)\n",
    "p_settler_nd = (float(5) / 13) * getNormalDis(222,settler_ssin_avg,settler_ssin_std) * getNormalDis(1518,settler_condin_avg,settler_condin_std) * getNormalDis(74,settler_ssout_avg,settler_ssout_std) * getNormalDis(4.5,settler_sedin_avg,settler_sedin_std) * getNormalDis(0.25,settler_sedout_avg,settler_sedout_std) * getNormalDis(1642,settler_condout_avg,settler_condout_std)\n",
    "p_solids_nd = (float(4) / 13) * getNormalDis(222,solids_ssin_avg,solids_ssin_std) * getNormalDis(1518,solids_condin_avg,solids_condin_std) * getNormalDis(74,solids_ssout_avg,solids_ssout_std) * getNormalDis(4.5,solids_sedin_avg,solids_sedin_std) * getNormalDis(0.25,solids_sedout_avg,solids_sedout_std) * getNormalDis(1642,solids_condout_avg,solids_condout_std)\n",
    "print p_ok_nd, p_settler_nd,p_solids_nd"
   ]
  },
  {
   "cell_type": "markdown",
   "metadata": {},
   "source": [
    "### 因為probability of settler 最大，所以预测为settler"
   ]
  },
  {
   "cell_type": "markdown",
   "metadata": {},
   "source": []
  },
  {
   "cell_type": "markdown",
   "metadata": {},
   "source": [
    "## using exponential\n"
   ]
  },
  {
   "cell_type": "code",
   "execution_count": 41,
   "metadata": {
    "collapsed": false
   },
   "outputs": [],
   "source": [
    "ok_ssin_rate = float(1) / ok_ssin_avg\n",
    "ok_sedin_rate = float(1) / ok_sedin_avg\n",
    "ok_condin_rate = float(1) / ok_condin_avg\n",
    "ok_ssout_rate = float(1) / ok_ssout_avg\n",
    "ok_sedout_rate = float(1) / ok_sedout_avg\n",
    "ok_condout_rate = float(1) / ok_condout_avg\n",
    "\n",
    "settler_ssin_rate = float(1) / settler_ssin_avg\n",
    "settler_sedin_rate = float(1) / settler_sedin_avg\n",
    "settler_condin_rate = float(1) / settler_condin_avg\n",
    "settler_ssout_rate = float(1) / settler_ssout_avg\n",
    "settler_sedout_rate = float(1) / settler_sedout_avg\n",
    "settler_condout_rate = float(1) / settler_condout_avg\n",
    "\n",
    "solids_ssin_rate = float(1) / solids_ssin_avg\n",
    "solids_sedin_rate = float(1) / solids_sedin_avg\n",
    "solids_condin_rate = float(1) / solids_condin_avg\n",
    "solids_ssout_rate = float(1) / solids_ssout_avg\n",
    "solids_sedout_rate = float(1) / solids_sedout_avg\n",
    "solids_condout_rate = float(1) / solids_condout_avg"
   ]
  },
  {
   "cell_type": "code",
   "execution_count": 40,
   "metadata": {
    "collapsed": true
   },
   "outputs": [],
   "source": [
    "## calculate the exponential distribution p\n",
    "def getExpDis(x,rate):\n",
    "    return rate * math.exp(-rate * x)"
   ]
  },
  {
   "cell_type": "code",
   "execution_count": 43,
   "metadata": {
    "collapsed": false
   },
   "outputs": [
    {
     "name": "stdout",
     "output_type": "stream",
     "text": [
      "3.27017933121e-16 9.99060926877e-15 7.53589854651e-19\n"
     ]
    }
   ],
   "source": [
    "p_ok_exp = (float(4) / 13) * getExpDis(222,ok_ssin_rate) * getExpDis(1518,ok_condin_rate) * getExpDis(74,ok_ssout_rate) * getExpDis(4.5,ok_sedin_rate) * getExpDis(0.25,ok_sedout_rate) * getExpDis(1642,ok_condout_rate)\n",
    "p_settler_exp = (float(5) / 13) * getExpDis(222,settler_ssin_rate) * getExpDis(1518,settler_condin_rate) * getExpDis(74,settler_ssout_rate) * getExpDis(4.5,settler_sedin_rate) * getExpDis(0.25,settler_sedout_rate) * getExpDis(1642,settler_condout_rate)\n",
    "p_solids_exp = (float(4) / 13) * getExpDis(222,solids_ssin_rate) * getExpDis(1518,solids_condin_rate) * getExpDis(74,solids_ssout_rate) * getExpDis(4.5,solids_sedin_rate) * getExpDis(0.25,solids_sedout_rate) * getExpDis(1642,solids_condout_rate)\n",
    "print p_ok_exp,p_settler_exp,p_solids_exp"
   ]
  },
  {
   "cell_type": "markdown",
   "metadata": {},
   "source": [
    "### 因為probability of settler 最大，所以预测为settler"
   ]
  },
  {
   "cell_type": "markdown",
   "metadata": {},
   "source": [
    "## using smoothing and equal-frequency-binning k=3"
   ]
  },
  {
   "cell_type": "code",
   "execution_count": 53,
   "metadata": {
    "collapsed": false
   },
   "outputs": [
    {
     "name": "stdout",
     "output_type": "stream",
     "text": [
      "+----+-------+--------+---------+--------+---------+----------+---------+\n",
      "| ID | SS-IN | SED-IN | COND-IN | SS-OUT | SED-OUT | COND-OUT |  STATUS |\n",
      "+----+-------+--------+---------+--------+---------+----------+---------+\n",
      "| 6  |  116  |  3.0   |   1238  | 104.0  |   0.06  |  1221.0  | settler |\n",
      "| 2  |  156  |  3.0   |   1358  |  14.0  |   0.01  |  1425.0  |    ok   |\n",
      "| 1  |  168  |  3.0   |   1814  |  15.0  |  0.001  |  1879.0  |    ok   |\n",
      "| 9  |  174  |  2.5   |   1110  |  73.0  |   1.5   |  1256.0  | settler |\n",
      "| 3  |  176  |  3.5   |   2200  |  16.0  |  0.005  |  2140.0  |    ok   |\n",
      "| 5  |  230  |  5.0   |   1410  | 131.0  |   3.5   |  1575.0  | settler |\n",
      "| 7  |  242  |  7.0   |   1315  | 104.0  |   0.01  |  1434.0  | settler |\n",
      "| 8  |  242  |  4.5   |   1183  |  78.0  |   0.02  |  1374.0  | settler |\n",
      "| 4  |  256  |  3.0   |   2070  |  27.0  |   0.2   |  2700.0  |    ok   |\n",
      "| 12 |  964  |  17.0  |   2120  |  20.0  |  1030.0 |  1966.0  |  solids |\n",
      "+----+-------+--------+---------+--------+---------+----------+---------+\n",
      "[13 rows x 8 columns]\n",
      "Note: Only the head of the SFrame is printed.\n",
      "You can use print_rows(num_rows=m, num_columns=n) to print more rows and columns.\n",
      "+----+-------+--------+---------+--------+---------+----------+--------+\n",
      "| ID | SS-IN | SED-IN | COND-IN | SS-OUT | SED-OUT | COND-OUT | STATUS |\n",
      "+----+-------+--------+---------+--------+---------+----------+--------+\n",
      "| 10 |  1004 |  35.0  |   1218  |  81.0  |  1172.0 |   33.3   | solids |\n",
      "| 11 |  1228 |  46.0  |   1889  |  82.4  |  1932.0 |   43.1   | solids |\n",
      "| 13 |  2008 |  32.0  |   1257  |  13.0  |  1038.0 |  1289.0  | solids |\n",
      "+----+-------+--------+---------+--------+---------+----------+--------+\n",
      "[3 rows x 8 columns]\n",
      "\n"
     ]
    }
   ],
   "source": [
    "##根据 SSIN sort\n",
    "print data_qow.sort('SS-IN')\n",
    "print data_qow.sort('SS-IN').tail(3)"
   ]
  },
  {
   "cell_type": "code",
   "execution_count": 54,
   "metadata": {
    "collapsed": true
   },
   "outputs": [],
   "source": [
    "#对ssin分成三个bin\n",
    "#bin1<=203 ,  203<bin2<=610,  bin3>610\n",
    "p_ok_ssin_bin1 = 0.4615\n",
    "p_ok_ssin_bin2 = 0.3077\n",
    "p_ok_ssin_bin3 = 0.2308\n",
    "\n",
    "p_settler_ssin_bin1 = 0.3571\n",
    "p_settler_ssin_bin2 = 0.4286\n",
    "p_settler_ssin_bin3 = 0.2143\n",
    "\n",
    "p_solids_ssin_bin1 = 0.2308\n",
    "p_solids_ssin_bin2 = 0.2308\n",
    "p_solids_ssin_bin3 = 0.5384"
   ]
  },
  {
   "cell_type": "code",
   "execution_count": 55,
   "metadata": {
    "collapsed": false
   },
   "outputs": [
    {
     "name": "stdout",
     "output_type": "stream",
     "text": [
      "+----+-------+--------+---------+--------+---------+----------+---------+\n",
      "| ID | SS-IN | SED-IN | COND-IN | SS-OUT | SED-OUT | COND-OUT |  STATUS |\n",
      "+----+-------+--------+---------+--------+---------+----------+---------+\n",
      "| 9  |  174  |  2.5   |   1110  |  73.0  |   1.5   |  1256.0  | settler |\n",
      "| 1  |  168  |  3.0   |   1814  |  15.0  |  0.001  |  1879.0  |    ok   |\n",
      "| 2  |  156  |  3.0   |   1358  |  14.0  |   0.01  |  1425.0  |    ok   |\n",
      "| 4  |  256  |  3.0   |   2070  |  27.0  |   0.2   |  2700.0  |    ok   |\n",
      "| 6  |  116  |  3.0   |   1238  | 104.0  |   0.06  |  1221.0  | settler |\n",
      "| 3  |  176  |  3.5   |   2200  |  16.0  |  0.005  |  2140.0  |    ok   |\n",
      "| 8  |  242  |  4.5   |   1183  |  78.0  |   0.02  |  1374.0  | settler |\n",
      "| 5  |  230  |  5.0   |   1410  | 131.0  |   3.5   |  1575.0  | settler |\n",
      "| 7  |  242  |  7.0   |   1315  | 104.0  |   0.01  |  1434.0  | settler |\n",
      "| 12 |  964  |  17.0  |   2120  |  20.0  |  1030.0 |  1966.0  |  solids |\n",
      "+----+-------+--------+---------+--------+---------+----------+---------+\n",
      "[13 rows x 8 columns]\n",
      "Note: Only the head of the SFrame is printed.\n",
      "You can use print_rows(num_rows=m, num_columns=n) to print more rows and columns.\n",
      "+----+-------+--------+---------+--------+---------+----------+--------+\n",
      "| ID | SS-IN | SED-IN | COND-IN | SS-OUT | SED-OUT | COND-OUT | STATUS |\n",
      "+----+-------+--------+---------+--------+---------+----------+--------+\n",
      "| 13 |  2008 |  32.0  |   1257  |  13.0  |  1038.0 |  1289.0  | solids |\n",
      "| 10 |  1004 |  35.0  |   1218  |  81.0  |  1172.0 |   33.3   | solids |\n",
      "| 11 |  1228 |  46.0  |   1889  |  82.4  |  1932.0 |   43.1   | solids |\n",
      "+----+-------+--------+---------+--------+---------+----------+--------+\n",
      "[3 rows x 8 columns]\n",
      "\n"
     ]
    }
   ],
   "source": [
    "##根据 SEDIN sort\n",
    "print data_qow.sort('SED-IN')\n",
    "print data_qow.sort('SED-IN').tail(3)"
   ]
  },
  {
   "cell_type": "code",
   "execution_count": 66,
   "metadata": {
    "collapsed": true
   },
   "outputs": [],
   "source": [
    "#对SEDIN 分成三个bin\n",
    "#bin1<=3.25 ,  3.25<bin2<=12 , bin3>12\n",
    "p_ok_sedin_bin1 = 0.4615\n",
    "p_ok_sedin_bin2 = 0.3077\n",
    "p_ok_sedin_bin3 = 0.2308\n",
    "\n",
    "p_settler_sedin_bin1 = 0.3571\n",
    "p_settler_sedin_bin2 = 0.4286\n",
    "p_settler_sedin_bin3 = 0.2143\n",
    "\n",
    "p_solids_sedin_bin1 = 0.2308\n",
    "p_solids_sedin_bin2 = 0.2308\n",
    "p_solids_sedin_bin3 = 0.5384"
   ]
  },
  {
   "cell_type": "code",
   "execution_count": 57,
   "metadata": {
    "collapsed": false
   },
   "outputs": [
    {
     "name": "stdout",
     "output_type": "stream",
     "text": [
      "+----+-------+--------+---------+--------+---------+----------+---------+\n",
      "| ID | SS-IN | SED-IN | COND-IN | SS-OUT | SED-OUT | COND-OUT |  STATUS |\n",
      "+----+-------+--------+---------+--------+---------+----------+---------+\n",
      "| 9  |  174  |  2.5   |   1110  |  73.0  |   1.5   |  1256.0  | settler |\n",
      "| 8  |  242  |  4.5   |   1183  |  78.0  |   0.02  |  1374.0  | settler |\n",
      "| 10 |  1004 |  35.0  |   1218  |  81.0  |  1172.0 |   33.3   |  solids |\n",
      "| 6  |  116  |  3.0   |   1238  | 104.0  |   0.06  |  1221.0  | settler |\n",
      "| 13 |  2008 |  32.0  |   1257  |  13.0  |  1038.0 |  1289.0  |  solids |\n",
      "| 7  |  242  |  7.0   |   1315  | 104.0  |   0.01  |  1434.0  | settler |\n",
      "| 2  |  156  |  3.0   |   1358  |  14.0  |   0.01  |  1425.0  |    ok   |\n",
      "| 5  |  230  |  5.0   |   1410  | 131.0  |   3.5   |  1575.0  | settler |\n",
      "| 1  |  168  |  3.0   |   1814  |  15.0  |  0.001  |  1879.0  |    ok   |\n",
      "| 11 |  1228 |  46.0  |   1889  |  82.4  |  1932.0 |   43.1   |  solids |\n",
      "+----+-------+--------+---------+--------+---------+----------+---------+\n",
      "[13 rows x 8 columns]\n",
      "Note: Only the head of the SFrame is printed.\n",
      "You can use print_rows(num_rows=m, num_columns=n) to print more rows and columns.\n",
      "+----+-------+--------+---------+--------+---------+----------+--------+\n",
      "| ID | SS-IN | SED-IN | COND-IN | SS-OUT | SED-OUT | COND-OUT | STATUS |\n",
      "+----+-------+--------+---------+--------+---------+----------+--------+\n",
      "| 4  |  256  |  3.0   |   2070  |  27.0  |   0.2   |  2700.0  |   ok   |\n",
      "| 12 |  964  |  17.0  |   2120  |  20.0  |  1030.0 |  1966.0  | solids |\n",
      "| 3  |  176  |  3.5   |   2200  |  16.0  |  0.005  |  2140.0  |   ok   |\n",
      "+----+-------+--------+---------+--------+---------+----------+--------+\n",
      "[3 rows x 8 columns]\n",
      "\n"
     ]
    }
   ],
   "source": [
    "##根据 CONDIN sort\n",
    "print data_qow.sort('COND-IN')\n",
    "print data_qow.sort('COND-IN').tail(3)"
   ]
  },
  {
   "cell_type": "code",
   "execution_count": 64,
   "metadata": {
    "collapsed": true
   },
   "outputs": [],
   "source": [
    "#CONDIN \n",
    "#bin1<=1286, 1286<bin2<=2758.5, bin3>2758.5\n",
    "p_ok_condin_bin1 = 0.2308\n",
    "p_ok_condin_bin2 = 0.3846\n",
    "p_ok_condin_bin3 = 0.3846\n",
    "\n",
    "p_settler_condin_bin1 = 0.4286\n",
    "p_settler_condin_bin2 = 0.3571\n",
    "p_settler_condin_bin3 = 0.2143\n",
    "\n",
    "p_solids_condin_bin1 = 0.3846\n",
    "p_solids_condin_bin2 = 0.2308\n",
    "p_solids_condin_bin3 = 0.3846"
   ]
  },
  {
   "cell_type": "code",
   "execution_count": 59,
   "metadata": {
    "collapsed": false
   },
   "outputs": [
    {
     "name": "stdout",
     "output_type": "stream",
     "text": [
      "+----+-------+--------+---------+--------+---------+----------+---------+\n",
      "| ID | SS-IN | SED-IN | COND-IN | SS-OUT | SED-OUT | COND-OUT |  STATUS |\n",
      "+----+-------+--------+---------+--------+---------+----------+---------+\n",
      "| 13 |  2008 |  32.0  |   1257  |  13.0  |  1038.0 |  1289.0  |  solids |\n",
      "| 2  |  156  |  3.0   |   1358  |  14.0  |   0.01  |  1425.0  |    ok   |\n",
      "| 1  |  168  |  3.0   |   1814  |  15.0  |  0.001  |  1879.0  |    ok   |\n",
      "| 3  |  176  |  3.5   |   2200  |  16.0  |  0.005  |  2140.0  |    ok   |\n",
      "| 12 |  964  |  17.0  |   2120  |  20.0  |  1030.0 |  1966.0  |  solids |\n",
      "| 4  |  256  |  3.0   |   2070  |  27.0  |   0.2   |  2700.0  |    ok   |\n",
      "| 9  |  174  |  2.5   |   1110  |  73.0  |   1.5   |  1256.0  | settler |\n",
      "| 8  |  242  |  4.5   |   1183  |  78.0  |   0.02  |  1374.0  | settler |\n",
      "| 10 |  1004 |  35.0  |   1218  |  81.0  |  1172.0 |   33.3   |  solids |\n",
      "| 11 |  1228 |  46.0  |   1889  |  82.4  |  1932.0 |   43.1   |  solids |\n",
      "+----+-------+--------+---------+--------+---------+----------+---------+\n",
      "[13 rows x 8 columns]\n",
      "Note: Only the head of the SFrame is printed.\n",
      "You can use print_rows(num_rows=m, num_columns=n) to print more rows and columns.\n",
      "+----+-------+--------+---------+--------+---------+----------+---------+\n",
      "| ID | SS-IN | SED-IN | COND-IN | SS-OUT | SED-OUT | COND-OUT |  STATUS |\n",
      "+----+-------+--------+---------+--------+---------+----------+---------+\n",
      "| 6  |  116  |  3.0   |   1238  | 104.0  |   0.06  |  1221.0  | settler |\n",
      "| 7  |  242  |  7.0   |   1315  | 104.0  |   0.01  |  1434.0  | settler |\n",
      "| 5  |  230  |  5.0   |   1410  | 131.0  |   3.5   |  1575.0  | settler |\n",
      "+----+-------+--------+---------+--------+---------+----------+---------+\n",
      "[3 rows x 8 columns]\n",
      "\n"
     ]
    }
   ],
   "source": [
    "##根据 SSOUT sort\n",
    "print data_qow.sort('SS-OUT')\n",
    "print data_qow.sort('SS-OUT').tail(3)"
   ]
  },
  {
   "cell_type": "code",
   "execution_count": 65,
   "metadata": {
    "collapsed": true
   },
   "outputs": [],
   "source": [
    "#ssout bins\n",
    "#bin1<=23.5, 23.5<bin2<=81.7, bin3>81.7\n",
    "p_ok_ssout_bin1 = 0.4615\n",
    "p_ok_ssout_bin2 = 0.3077\n",
    "p_ok_ssout_bin3 = 0.2308\n",
    "\n",
    "p_settler_ssout_bin1 = 0.2143\n",
    "p_settler_ssout_bin2 = 0.3571\n",
    "p_settler_ssout_bin3 = 0.4286\n",
    "\n",
    "p_solids_ssout_bin1 = 0.3846\n",
    "p_solids_ssout_bin2 = 0.3077\n",
    "p_solids_ssout_bin3 = 0.3077"
   ]
  },
  {
   "cell_type": "code",
   "execution_count": 61,
   "metadata": {
    "collapsed": false
   },
   "outputs": [
    {
     "name": "stdout",
     "output_type": "stream",
     "text": [
      "+----+-------+--------+---------+--------+---------+----------+---------+\n",
      "| ID | SS-IN | SED-IN | COND-IN | SS-OUT | SED-OUT | COND-OUT |  STATUS |\n",
      "+----+-------+--------+---------+--------+---------+----------+---------+\n",
      "| 1  |  168  |  3.0   |   1814  |  15.0  |  0.001  |  1879.0  |    ok   |\n",
      "| 3  |  176  |  3.5   |   2200  |  16.0  |  0.005  |  2140.0  |    ok   |\n",
      "| 2  |  156  |  3.0   |   1358  |  14.0  |   0.01  |  1425.0  |    ok   |\n",
      "| 7  |  242  |  7.0   |   1315  | 104.0  |   0.01  |  1434.0  | settler |\n",
      "| 8  |  242  |  4.5   |   1183  |  78.0  |   0.02  |  1374.0  | settler |\n",
      "| 6  |  116  |  3.0   |   1238  | 104.0  |   0.06  |  1221.0  | settler |\n",
      "| 4  |  256  |  3.0   |   2070  |  27.0  |   0.2   |  2700.0  |    ok   |\n",
      "| 9  |  174  |  2.5   |   1110  |  73.0  |   1.5   |  1256.0  | settler |\n",
      "| 5  |  230  |  5.0   |   1410  | 131.0  |   3.5   |  1575.0  | settler |\n",
      "| 12 |  964  |  17.0  |   2120  |  20.0  |  1030.0 |  1966.0  |  solids |\n",
      "+----+-------+--------+---------+--------+---------+----------+---------+\n",
      "[13 rows x 8 columns]\n",
      "Note: Only the head of the SFrame is printed.\n",
      "You can use print_rows(num_rows=m, num_columns=n) to print more rows and columns.\n",
      "+----+-------+--------+---------+--------+---------+----------+--------+\n",
      "| ID | SS-IN | SED-IN | COND-IN | SS-OUT | SED-OUT | COND-OUT | STATUS |\n",
      "+----+-------+--------+---------+--------+---------+----------+--------+\n",
      "| 13 |  2008 |  32.0  |   1257  |  13.0  |  1038.0 |  1289.0  | solids |\n",
      "| 10 |  1004 |  35.0  |   1218  |  81.0  |  1172.0 |   33.3   | solids |\n",
      "| 11 |  1228 |  46.0  |   1889  |  82.4  |  1932.0 |   43.1   | solids |\n",
      "+----+-------+--------+---------+--------+---------+----------+--------+\n",
      "[3 rows x 8 columns]\n",
      "\n"
     ]
    }
   ],
   "source": [
    "##根据 SEDOUT sort\n",
    "print data_qow.sort('SED-OUT')\n",
    "print data_qow.sort('SED-OUT').tail(3)"
   ]
  },
  {
   "cell_type": "code",
   "execution_count": 63,
   "metadata": {
    "collapsed": true
   },
   "outputs": [],
   "source": [
    "#sedout bins\n",
    "#bin1<=0.04, 0.04<bin2<=516.75, bin3>516.75\n",
    "p_ok_sedout_bin1 = 0.4615\n",
    "p_ok_sedout_bin2 = 0.3077\n",
    "p_ok_sedout_bin3 = 0.2308\n",
    "\n",
    "p_settler_sedout_bin1 = 0.3571\n",
    "p_settler_sedout_bin2 = 0.4286\n",
    "p_settler_sedout_bin3 = 0.2413\n",
    "\n",
    "p_solids_sedout_bin1 = 0.2308\n",
    "p_solids_sedout_bin2 = 0.2308\n",
    "p_solids_sedout_bin3 = 0.5384"
   ]
  },
  {
   "cell_type": "code",
   "execution_count": 67,
   "metadata": {
    "collapsed": false
   },
   "outputs": [
    {
     "name": "stdout",
     "output_type": "stream",
     "text": [
      "+----+-------+--------+---------+--------+---------+----------+---------+\n",
      "| ID | SS-IN | SED-IN | COND-IN | SS-OUT | SED-OUT | COND-OUT |  STATUS |\n",
      "+----+-------+--------+---------+--------+---------+----------+---------+\n",
      "| 10 |  1004 |  35.0  |   1218  |  81.0  |  1172.0 |   33.3   |  solids |\n",
      "| 11 |  1228 |  46.0  |   1889  |  82.4  |  1932.0 |   43.1   |  solids |\n",
      "| 6  |  116  |  3.0   |   1238  | 104.0  |   0.06  |  1221.0  | settler |\n",
      "| 9  |  174  |  2.5   |   1110  |  73.0  |   1.5   |  1256.0  | settler |\n",
      "| 13 |  2008 |  32.0  |   1257  |  13.0  |  1038.0 |  1289.0  |  solids |\n",
      "| 8  |  242  |  4.5   |   1183  |  78.0  |   0.02  |  1374.0  | settler |\n",
      "| 2  |  156  |  3.0   |   1358  |  14.0  |   0.01  |  1425.0  |    ok   |\n",
      "| 7  |  242  |  7.0   |   1315  | 104.0  |   0.01  |  1434.0  | settler |\n",
      "| 5  |  230  |  5.0   |   1410  | 131.0  |   3.5   |  1575.0  | settler |\n",
      "| 1  |  168  |  3.0   |   1814  |  15.0  |  0.001  |  1879.0  |    ok   |\n",
      "+----+-------+--------+---------+--------+---------+----------+---------+\n",
      "[13 rows x 8 columns]\n",
      "Note: Only the head of the SFrame is printed.\n",
      "You can use print_rows(num_rows=m, num_columns=n) to print more rows and columns.\n",
      "+----+-------+--------+---------+--------+---------+----------+--------+\n",
      "| ID | SS-IN | SED-IN | COND-IN | SS-OUT | SED-OUT | COND-OUT | STATUS |\n",
      "+----+-------+--------+---------+--------+---------+----------+--------+\n",
      "| 12 |  964  |  17.0  |   2120  |  20.0  |  1030.0 |  1966.0  | solids |\n",
      "| 3  |  176  |  3.5   |   2200  |  16.0  |  0.005  |  2140.0  |   ok   |\n",
      "| 4  |  256  |  3.0   |   2070  |  27.0  |   0.2   |  2700.0  |   ok   |\n",
      "+----+-------+--------+---------+--------+---------+----------+--------+\n",
      "[3 rows x 8 columns]\n",
      "\n"
     ]
    }
   ],
   "source": [
    "##根据 CONDOUT sort\n",
    "print data_qow.sort('COND-OUT')\n",
    "print data_qow.sort('COND-OUT').tail(3)"
   ]
  },
  {
   "cell_type": "code",
   "execution_count": 69,
   "metadata": {
    "collapsed": true
   },
   "outputs": [],
   "source": [
    "#condout bins\n",
    "#bin1<=1331.5, 1331.5<bin2<=1727, bin3>1727\n",
    "p_ok_condout_bin1 = 0.2308\n",
    "p_ok_condout_bin2 = 0.3077\n",
    "p_ok_condout_bin3 = 0.4615\n",
    "\n",
    "p_settler_condout_bin1 = 0.3571\n",
    "p_settler_condout_bin2 = 0.4286\n",
    "p_settler_condout_bin3 = 0.2413\n",
    "\n",
    "p_solids_condout_bin1 = 0.4615\n",
    "p_solids_condout_bin2 = 0.2308\n",
    "p_solids_condout_bin3 = 0.3077"
   ]
  },
  {
   "cell_type": "code",
   "execution_count": 70,
   "metadata": {
    "collapsed": false
   },
   "outputs": [
    {
     "name": "stdout",
     "output_type": "stream",
     "text": [
      "0.000326409958431 0.00165506486501 6.20044925701e-05\n"
     ]
    }
   ],
   "source": [
    "#对SS-IN = 222, SED-IN = 4.5, COND-IN = 1,518, SS-OUT = 74, SED-OUT = 0.25, COND-OUT = 1,642计算probability\n",
    "#SSIN bin2, SEDIN bin2, CONDIN bin2, SSOUT bin2, SEDOUT bin2 , CONDOUT bin2\n",
    "p_ok_binning = (float(4) / 13) * p_ok_ssin_bin2 * p_ok_sedin_bin2 * p_ok_condin_bin2 * p_ok_ssout_bin2 * p_ok_sedout_bin2 * p_ok_condout_bin2\n",
    "p_settler_binning = (float(5) / 13) * p_settler_ssin_bin2 * p_settler_sedin_bin2 * p_settler_condin_bin2 * p_settler_ssout_bin2 * p_settler_sedout_bin2 * p_settler_condout_bin2\n",
    "p_solids_binning = (float(4) / 13) * p_solids_ssin_bin2 * p_solids_sedin_bin2 * p_solids_condin_bin2 * p_solids_ssout_bin2 * p_solids_sedout_bin2 * p_solids_condout_bin2\n",
    "print p_ok_binning,p_settler_binning,p_solids_binning\n"
   ]
  },
  {
   "cell_type": "markdown",
   "metadata": {},
   "source": [
    "## p(settle)最大，所以选择 settler "
   ]
  },
  {
   "cell_type": "code",
   "execution_count": null,
   "metadata": {
    "collapsed": true
   },
   "outputs": [],
   "source": []
  }
 ],
 "metadata": {
  "kernelspec": {
   "display_name": "Python 2",
   "language": "python",
   "name": "python2"
  },
  "language_info": {
   "codemirror_mode": {
    "name": "ipython",
    "version": 2
   },
   "file_extension": ".py",
   "mimetype": "text/x-python",
   "name": "python",
   "nbconvert_exporter": "python",
   "pygments_lexer": "ipython2",
   "version": "2.7.12"
  }
 },
 "nbformat": 4,
 "nbformat_minor": 0
}
