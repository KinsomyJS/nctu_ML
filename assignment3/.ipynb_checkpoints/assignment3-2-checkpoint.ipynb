{
 "cells": [
  {
   "cell_type": "code",
   "execution_count": 1,
   "metadata": {
    "collapsed": true
   },
   "outputs": [],
   "source": [
    "import graphlab\n",
    "import math"
   ]
  },
  {
   "cell_type": "code",
   "execution_count": 39,
   "metadata": {
    "collapsed": false
   },
   "outputs": [
    {
     "data": {
      "text/html": [
       "<pre>Finished parsing file /Users/kinsomy/课件/机器学习概论/assignment3/training_data.csv</pre>"
      ],
      "text/plain": [
       "Finished parsing file /Users/kinsomy/课件/机器学习概论/assignment3/training_data.csv"
      ]
     },
     "metadata": {},
     "output_type": "display_data"
    },
    {
     "data": {
      "text/html": [
       "<pre>Parsing completed. Parsed 100 lines in 0.07356 secs.</pre>"
      ],
      "text/plain": [
       "Parsing completed. Parsed 100 lines in 0.07356 secs."
      ]
     },
     "metadata": {},
     "output_type": "display_data"
    },
    {
     "name": "stdout",
     "output_type": "stream",
     "text": [
      "------------------------------------------------------\n",
      "Inferred types from first 100 line(s) of file as \n",
      "column_type_hints=[str,int,float,float,int,int,int,float,float,int,float,int,int,float,float,int,float,int,int,int,float,float,int,float,int,int,int,float,float,int,float,float,float,float,float,float,float,float,float,str]\n",
      "If parsing fails due to incorrect types, you can correct\n",
      "the inferred type list above and pass it to read_csv in\n",
      "the column_type_hints argument\n",
      "------------------------------------------------------\n"
     ]
    },
    {
     "data": {
      "text/html": [
       "<pre>Finished parsing file /Users/kinsomy/课件/机器学习概论/assignment3/training_data.csv</pre>"
      ],
      "text/plain": [
       "Finished parsing file /Users/kinsomy/课件/机器学习概论/assignment3/training_data.csv"
      ]
     },
     "metadata": {},
     "output_type": "display_data"
    },
    {
     "data": {
      "text/html": [
       "<pre>Parsing completed. Parsed 504 lines in 0.013537 secs.</pre>"
      ],
      "text/plain": [
       "Parsing completed. Parsed 504 lines in 0.013537 secs."
      ]
     },
     "metadata": {},
     "output_type": "display_data"
    },
    {
     "data": {
      "text/html": [
       "<pre>Finished parsing file /Users/kinsomy/课件/机器学习概论/assignment3/testing_data.csv</pre>"
      ],
      "text/plain": [
       "Finished parsing file /Users/kinsomy/课件/机器学习概论/assignment3/testing_data.csv"
      ]
     },
     "metadata": {},
     "output_type": "display_data"
    },
    {
     "data": {
      "text/html": [
       "<pre>Parsing completed. Parsed 23 lines in 0.016832 secs.</pre>"
      ],
      "text/plain": [
       "Parsing completed. Parsed 23 lines in 0.016832 secs."
      ]
     },
     "metadata": {},
     "output_type": "display_data"
    },
    {
     "name": "stdout",
     "output_type": "stream",
     "text": [
      "------------------------------------------------------\n",
      "Inferred types from first 100 line(s) of file as \n",
      "column_type_hints=[str,int,float,float,int,int,int,float,float,int,float,int,int,float,float,int,float,int,int,int,float,float,int,float,int,int,int,float,float,int,float,float,float,float,float,float,float,float,float]\n",
      "If parsing fails due to incorrect types, you can correct\n",
      "the inferred type list above and pass it to read_csv in\n",
      "the column_type_hints argument\n",
      "------------------------------------------------------\n"
     ]
    },
    {
     "data": {
      "text/html": [
       "<pre>Finished parsing file /Users/kinsomy/课件/机器学习概论/assignment3/testing_data.csv</pre>"
      ],
      "text/plain": [
       "Finished parsing file /Users/kinsomy/课件/机器学习概论/assignment3/testing_data.csv"
      ]
     },
     "metadata": {},
     "output_type": "display_data"
    },
    {
     "data": {
      "text/html": [
       "<pre>Parsing completed. Parsed 23 lines in 0.010925 secs.</pre>"
      ],
      "text/plain": [
       "Parsing completed. Parsed 23 lines in 0.010925 secs."
      ]
     },
     "metadata": {},
     "output_type": "display_data"
    }
   ],
   "source": [
    "training_data = graphlab.SFrame('training_data.csv')\n",
    "testing_data = graphlab.SFrame('testing_data.csv')"
   ]
  },
  {
   "cell_type": "code",
   "execution_count": 40,
   "metadata": {
    "collapsed": false
   },
   "outputs": [
    {
     "data": {
      "text/plain": [
       "504"
      ]
     },
     "execution_count": 40,
     "metadata": {},
     "output_type": "execute_result"
    }
   ],
   "source": [
    "len(training_data)"
   ]
  },
  {
   "cell_type": "markdown",
   "metadata": {},
   "source": [
    "# using normal distribution"
   ]
  },
  {
   "cell_type": "code",
   "execution_count": 152,
   "metadata": {
    "collapsed": false
   },
   "outputs": [
    {
     "name": "stdout",
     "output_type": "stream",
     "text": [
      "314 6 108 4 69 3\n"
     ]
    }
   ],
   "source": [
    "class1 = training_data[training_data['STATUS'] == 'normal']\n",
    "class2 = training_data[training_data['STATUS'] == 'settler']\n",
    "class3 = training_data[training_data['STATUS'] == 'overmean']\n",
    "class4 = training_data[training_data['STATUS'] == 'solids']\n",
    "class5 = training_data[training_data['STATUS'] == 'low']\n",
    "class6 = training_data[training_data['STATUS'] == 'storm']\n",
    "clses = [class1,class2,cls3,class4,class5,class6]\n",
    "print len(cls1),len(cls2),len(cls3),len(cls4),len(cls5),len(cls6)"
   ]
  },
  {
   "cell_type": "code",
   "execution_count": 153,
   "metadata": {
    "collapsed": false
   },
   "outputs": [],
   "source": [
    "features = ['Q-E','ZN-E','PH-E','DBO-E','DQO-E','SS-E','SSV-E','SED-E','COND-E','PH-P','DBO-P','SS-P','SSV-P',\n",
    "           'SED-P','COND-P','PH-D','DBO-D','DQO-D','SS-D','SSV-D','SED-D','COND-D','PH-S','DBO-S','DQO-S','SS-S',\n",
    "           'SSV-S','SED-S','COND-S','RD-DBO-P','RD-SS-P','RD-SED-P','RD-DBO-S','RD-DQO-S','RD-DBO-G','RD-DQO-G',\n",
    "           'RD-SS-G','RD-SED-G']"
   ]
  },
  {
   "cell_type": "code",
   "execution_count": 154,
   "metadata": {
    "collapsed": false
   },
   "outputs": [
    {
     "name": "stdout",
     "output_type": "stream",
     "text": [
      "[{'std': 2834.9379426874375, 'mean': 39890.166666666664}, {'std': 0.38151743807532, 'mean': 1.0333333333333332}, {'std': 0.3095695936834448, 'mean': 7.549999999999999}, {'std': 43.716574532880415, 'mean': 184.83333333333331}, {'std': 91.59224251479428, 'mean': 395.8333333333333}, {'std': 53.19147801418319, 'mean': 224.0}, {'std': 11.467986842607651, 'mean': 58.61666666666666}, {'std': 1.5004628915401035, 'mean': 4.116666666666666}, {'std': 112.76733668142661, 'mean': 1320.8333333333333}, {'std': 0.2516611478423578, 'mean': 7.6999999999999975}, {'std': 22.844887587573922, 'mean': 178.66666666666666}, {'std': 48.25510911349756, 'mean': 222.33333333333331}, {'std': 11.800341332163049, 'mean': 57.31666666666666}, {'std': 1.1972189997378648, 'mean': 4.699999999999999}, {'std': 121.14970078378238, 'mean': 1286.5}, {'std': 0.14142135623730961, 'mean': 7.6}, {'std': 27.438820836342234, 'mean': 120.33333333333333}, {'std': 63.241380616035116, 'mean': 304.8333333333333}, {'std': 20.22100118413747, 'mean': 107.33333333333333}, {'std': 9.391781277029166, 'mean': 67.23333333333333}, {'std': 0.4058598553961973, 'mean': 0.6833333333333333}, {'std': 144.2320660910357, 'mean': 1334.6666666666665}, {'std': 0.12472191289246455, 'mean': 7.566666666666666}, {'std': 81.50545312363394, 'mean': 143.83333333333331}, {'std': 56.60879397722191, 'mean': 274.3333333333333}, {'std': 55.41284447971728, 'mean': 121.49999999999999}, {'std': 4.570922591045853, 'mean': 79.49999999999999}, {'std': 1.3323965459109968, 'mean': 0.9716666666666665}, {'std': 146.360286052376, 'mean': 1425.0}, {'std': 15.223200495734574, 'mean': 32.35}, {'std': 4.824733728979825, 'mean': 51.08333333333333}, {'std': 9.041893238328653, 'mean': 85.55}, {'std': 3.0344778060739803, 'mean': 12.916666666666664}, {'std': 9.837795597704917, 'mean': 21.233333333333334}, {'std': 13.281398855374974, 'mean': 33.46666666666666}, {'std': 9.366562870124772, 'mean': 35.15}, {'std': 22.500327158115333, 'mean': 43.883333333333326}, {'std': 27.451775898837585, 'mean': 78.3}]\n"
     ]
    }
   ],
   "source": [
    "classparameters = []\n",
    "for cls in clses:\n",
    "    classparameter = [] \n",
    "    for feature in features:\n",
    "        length = len(cls)\n",
    "        mean = cls[feature].mean()\n",
    "        std = cls[feature].std()\n",
    "        classparameter.append({'mean':mean,'std':std})\n",
    "    classparameters.append(classparameter)\n",
    "\n",
    "print classparameters[1]\n",
    "\n",
    "    "
   ]
  },
  {
   "cell_type": "code",
   "execution_count": 155,
   "metadata": {
    "collapsed": false
   },
   "outputs": [],
   "source": [
    "def getNormalDis(x,avg,std):\n",
    "    return (float(1) / (std * math.sqrt(2 * math.pi))) * math.exp(-math.pow(x - avg,2) / (2 * math.pow(std,2)))\n",
    "def getExpDis(x,rate):\n",
    "    return rate * math.exp(-rate * x)"
   ]
  },
  {
   "cell_type": "code",
   "execution_count": 156,
   "metadata": {
    "collapsed": false
   },
   "outputs": [
    {
     "data": {
      "text/plain": [
       "6"
      ]
     },
     "execution_count": 156,
     "metadata": {},
     "output_type": "execute_result"
    }
   ],
   "source": [
    "len(classparameters)"
   ]
  },
  {
   "cell_type": "code",
   "execution_count": 157,
   "metadata": {
    "collapsed": false
   },
   "outputs": [
    {
     "name": "stdout",
     "output_type": "stream",
     "text": [
      "[{'D-1/4/90': [2.952794766913867e-84, 2.8756463593743055e-91, 4.599663194145897e-85, 1.8591492097582975e-89, 3.020864551453076e-85, 2.4396391836513582e-90]}, {'D-2/4/90': [6.34489595045996e-83, 1.530598174810998e-90, 6.231425651944145e-83, 6.90018815914138e-88, 4.583757880211326e-83, 1.3987505410493837e-86]}, {'D-3/4/90': [1.1404809455338328e-84, 6.887761881900961e-92, 4.580388571586813e-85, 6.4930586654221e-88, 1.1716747390425302e-85, 5.1316915658447956e-89]}, {'D-4/4/90': [1.0455886993037528e-83, 1.1054900250405211e-91, 4.565749309053816e-84, 2.2211651001552887e-88, 3.3271986051508756e-84, 1.175266568304062e-86]}, {'D-5/4/90': [5.849013465005025e-85, 4.684546347194636e-92, 1.7075348734535194e-85, 1.0287555767730792e-89, 3.390969224569563e-86, 1.2242159674545311e-88]}, {'D-6/4/90': [2.372764303659835e-84, 1.4424746924393933e-91, 9.641928330203591e-85, 9.599390849814042e-89, 4.0944721274375377e-85, 3.578729341720008e-87]}, {'D-8/4/90': [1.472953156150622e-82, 1.0072818747990911e-89, 4.017245157947399e-83, 6.264100681535398e-88, 1.3591379578204128e-82, 4.4611241486965595e-86]}, {'D-9/4/90': [2.9800689130445287e-86, 1.6877791834991963e-93, 1.9938817892228425e-86, 9.640127705070115e-90, 6.539980908751122e-88, 1.6211855661357712e-91]}, {'D-10/4/90': [1.3604953131368898e-84, 6.314325435529653e-91, 2.712756812822753e-85, 7.677658567602665e-89, 1.919763799774056e-85, 2.1333482816580823e-90]}, {'D-11/4/90': [3.1990949675265447e-84, 3.523851193172599e-92, 1.0678420750486737e-84, 1.387209247848636e-89, 4.966362346265071e-85, 9.915344685510552e-88]}, {'D-13/4/90': [2.632383616016829e-86, 4.402639792715839e-93, 1.4295819568260196e-87, 2.1876679767213187e-92, 3.9056630640422195e-88, 5.662875023243791e-103]}, {'D-16/4/90': [3.338153492410097e-83, 3.124933640592509e-90, 8.452395482459375e-84, 6.466424310989627e-88, 1.728836290813841e-83, 2.294617207383118e-88]}, {'D-17/4/90': [3.8924903938679695e-82, 9.108619008803322e-89, 5.628032332839055e-83, 3.278995075188556e-87, 3.9146457912051966e-82, 1.5732850445636492e-88]}, {'D-18/4/90': [1.0444017758441686e-85, 3.8213002705838846e-92, 1.3125203746002097e-86, 8.944150713956844e-90, 4.361510074329483e-87, 2.0211868896748134e-95]}, {'D-19/4/90': [2.819375300410034e-84, 4.0611565374538706e-89, 2.1640309371812525e-85, 2.7878089860846676e-89, 2.0019063282329983e-85, 4.627350128964225e-92]}, {'D-20/4/90': [5.510865192953378e-83, 1.3695386735030706e-89, 1.0835370812601346e-83, 3.437133110567281e-87, 2.162622155643288e-83, 2.682594587668653e-88]}, {'D-22/4/90': [1.9317030081336098e-83, 3.550603180641612e-94, 5.888279529129481e-83, 2.0878359345629732e-93, 4.269353786340317e-84, 7.855458981526896e-85]}, {'D-23/4/90': [5.1041194841944465e-84, 6.012120127438912e-89, 1.815721881848725e-85, 4.314464917820343e-88, 5.897714648464694e-85, 1.4208816172071178e-98]}, {'D-24/4/90': [2.451749558334497e-84, 1.10647250234304e-90, 9.452003574664086e-85, 2.127748685431846e-88, 5.785690496458909e-85, 9.088135290936986e-90]}, {'D-25/4/90': [4.570793797189666e-86, 1.9561475496878288e-90, 3.902901264915816e-87, 3.736460589015949e-90, 9.971185781029267e-88, 3.8742171084014196e-97]}, {'D-26/4/90': [1.185917744396675e-95, 1.856590675335904e-92, 1.1920904918817757e-100, 6.118172372248471e-97, 1.0507357710814229e-101, 3.6500779430069136e-157]}, {'D-27/4/90': [1.6589169160049342e-91, 1.238216998359088e-92, 2.8150975618938417e-94, 4.774955756094555e-96, 5.038364596529784e-96, 2.2385296602122777e-121]}, {'D-29/4/90': [3.244014378358363e-112, 6.849458753727169e-91, 8.694455331081888e-127, 6.962321142891702e-112, 9.106811768077972e-127, 1.598198169078804e-288]}]\n"
     ]
    }
   ],
   "source": [
    "clist = ['class1','class2','class3','class4','class5','class6']\n",
    "probailities = []\n",
    "for test in testing_data:\n",
    "    k = 0\n",
    "    prolist = []\n",
    "    for c in clist:\n",
    "        pro = 1\n",
    "        i = 0\n",
    "#         print c\n",
    "#         print k\n",
    "        clspara = classparameters[k]\n",
    "#         print clspara\n",
    "        for f in features:   \n",
    "            pro = pro * getExpDis(test[f],float(1)/(clspara[i].get('mean')))\n",
    "            i = i+1\n",
    "        pro = pro * float(len(locals()[c])) / len(training_data)\n",
    "        prolist.append(pro)\n",
    "        k = k+1\n",
    "    probailities.append({test['DATE']:prolist})\n",
    "print probailities"
   ]
  },
  {
   "cell_type": "code",
   "execution_count": 168,
   "metadata": {
    "collapsed": false,
    "scrolled": true
   },
   "outputs": [
    {
     "name": "stdout",
     "output_type": "stream",
     "text": [
      "['D-1/4/90'] 屬於 class1\n",
      "['D-2/4/90'] 屬於 class1\n",
      "['D-3/4/90'] 屬於 class1\n",
      "['D-4/4/90'] 屬於 class1\n",
      "['D-5/4/90'] 屬於 class1\n",
      "['D-6/4/90'] 屬於 class1\n",
      "['D-8/4/90'] 屬於 class1\n",
      "['D-9/4/90'] 屬於 class1\n",
      "['D-10/4/90'] 屬於 class1\n",
      "['D-11/4/90'] 屬於 class1\n",
      "['D-13/4/90'] 屬於 class1\n",
      "['D-16/4/90'] 屬於 class1\n",
      "['D-17/4/90'] 屬於 class5\n",
      "['D-18/4/90'] 屬於 class1\n",
      "['D-19/4/90'] 屬於 class1\n",
      "['D-20/4/90'] 屬於 class1\n",
      "['D-22/4/90'] 屬於 class3\n",
      "['D-23/4/90'] 屬於 class1\n",
      "['D-24/4/90'] 屬於 class1\n",
      "['D-25/4/90'] 屬於 class1\n",
      "['D-26/4/90'] 屬於 class2\n",
      "['D-27/4/90'] 屬於 class1\n",
      "['D-29/4/90'] 屬於 class2\n"
     ]
    }
   ],
   "source": [
    "for pp in probailities:\n",
    "    date = pp.keys()\n",
    "    pl = pp.values()[0]\n",
    "#     print pl\n",
    "    status = clist[pl.index(max(pl))]\n",
    "    print date,'屬於' ,status\n",
    "# probailities[12].values()[0]"
   ]
  },
  {
   "cell_type": "code",
   "execution_count": null,
   "metadata": {
    "collapsed": true
   },
   "outputs": [],
   "source": []
  }
 ],
 "metadata": {
  "kernelspec": {
   "display_name": "Python 2",
   "language": "python",
   "name": "python2"
  },
  "language_info": {
   "codemirror_mode": {
    "name": "ipython",
    "version": 2
   },
   "file_extension": ".py",
   "mimetype": "text/x-python",
   "name": "python",
   "nbconvert_exporter": "python",
   "pygments_lexer": "ipython2",
   "version": "2.7.12"
  }
 },
 "nbformat": 4,
 "nbformat_minor": 0
}
