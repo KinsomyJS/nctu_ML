{
 "cells": [
  {
   "cell_type": "code",
   "execution_count": 123,
   "metadata": {
    "collapsed": false
   },
   "outputs": [],
   "source": [
    "import graphlab\n",
    "import numpy as np\n",
    "import sklearn as skl\n",
    "import time\n",
    "import itertools\n",
    "import matplotlib.pyplot as plt\n",
    "from sklearn.neighbors import KNeighborsClassifier\n",
    "from sklearn.metrics import confusion_matrix\n",
    "from sklearn.metrics import confusion_matrix\n",
    "from sklearn.cross_validation import KFold\n",
    "graphlab.canvas.set_target('ipynb')"
   ]
  },
  {
   "cell_type": "code",
   "execution_count": 76,
   "metadata": {
    "collapsed": false
   },
   "outputs": [
    {
     "data": {
      "text/html": [
       "<pre>Finished parsing file /Users/kinsomy/课件/机器学习概论/assignment2_wine/winequality-white.csv</pre>"
      ],
      "text/plain": [
       "Finished parsing file /Users/kinsomy/课件/机器学习概论/assignment2_wine/winequality-white.csv"
      ]
     },
     "metadata": {},
     "output_type": "display_data"
    },
    {
     "data": {
      "text/html": [
       "<pre>Parsing completed. Parsed 100 lines in 0.051014 secs.</pre>"
      ],
      "text/plain": [
       "Parsing completed. Parsed 100 lines in 0.051014 secs."
      ]
     },
     "metadata": {},
     "output_type": "display_data"
    },
    {
     "name": "stdout",
     "output_type": "stream",
     "text": [
      "------------------------------------------------------\n",
      "Inferred types from first 100 line(s) of file as \n",
      "column_type_hints=[float,float,float,float,float,float,float,float,float,float,float,int]\n",
      "If parsing fails due to incorrect types, you can correct\n",
      "the inferred type list above and pass it to read_csv in\n",
      "the column_type_hints argument\n",
      "------------------------------------------------------\n"
     ]
    },
    {
     "data": {
      "text/html": [
       "<pre>Finished parsing file /Users/kinsomy/课件/机器学习概论/assignment2_wine/winequality-white.csv</pre>"
      ],
      "text/plain": [
       "Finished parsing file /Users/kinsomy/课件/机器学习概论/assignment2_wine/winequality-white.csv"
      ]
     },
     "metadata": {},
     "output_type": "display_data"
    },
    {
     "data": {
      "text/html": [
       "<pre>Parsing completed. Parsed 4898 lines in 0.022024 secs.</pre>"
      ],
      "text/plain": [
       "Parsing completed. Parsed 4898 lines in 0.022024 secs."
      ]
     },
     "metadata": {},
     "output_type": "display_data"
    }
   ],
   "source": [
    "wine_data = graphlab.SFrame('winequality-white.csv')"
   ]
  },
  {
   "cell_type": "code",
   "execution_count": 77,
   "metadata": {
    "collapsed": true
   },
   "outputs": [],
   "source": [
    "features = ['fixed acidity','volatile acidity','citric acid','residual sugar','chlorides',\n",
    "            'free sulfur dioxide','total sulfur dioxide','density','pH','sulphates','alcohol']"
   ]
  },
  {
   "cell_type": "code",
   "execution_count": 78,
   "metadata": {
    "collapsed": true
   },
   "outputs": [],
   "source": [
    "train_data,validation_data = wine_data.random_split(.8,seed=1)"
   ]
  },
  {
   "cell_type": "code",
   "execution_count": 79,
   "metadata": {
    "collapsed": false
   },
   "outputs": [
    {
     "data": {
      "text/html": [
       "<div style=\"max-height:1000px;max-width:1500px;overflow:auto;\"><table frame=\"box\" rules=\"cols\">\n",
       "    <tr>\n",
       "        <th style=\"padding-left: 1em; padding-right: 1em; text-align: center\">fixed acidity</th>\n",
       "        <th style=\"padding-left: 1em; padding-right: 1em; text-align: center\">volatile acidity</th>\n",
       "        <th style=\"padding-left: 1em; padding-right: 1em; text-align: center\">citric acid</th>\n",
       "        <th style=\"padding-left: 1em; padding-right: 1em; text-align: center\">residual sugar</th>\n",
       "        <th style=\"padding-left: 1em; padding-right: 1em; text-align: center\">chlorides</th>\n",
       "        <th style=\"padding-left: 1em; padding-right: 1em; text-align: center\">free sulfur dioxide</th>\n",
       "        <th style=\"padding-left: 1em; padding-right: 1em; text-align: center\">total sulfur dioxide</th>\n",
       "    </tr>\n",
       "    <tr>\n",
       "        <td style=\"padding-left: 1em; padding-right: 1em; text-align: center; vertical-align: top\">6.3</td>\n",
       "        <td style=\"padding-left: 1em; padding-right: 1em; text-align: center; vertical-align: top\">0.3</td>\n",
       "        <td style=\"padding-left: 1em; padding-right: 1em; text-align: center; vertical-align: top\">0.34</td>\n",
       "        <td style=\"padding-left: 1em; padding-right: 1em; text-align: center; vertical-align: top\">1.6</td>\n",
       "        <td style=\"padding-left: 1em; padding-right: 1em; text-align: center; vertical-align: top\">0.049</td>\n",
       "        <td style=\"padding-left: 1em; padding-right: 1em; text-align: center; vertical-align: top\">14.0</td>\n",
       "        <td style=\"padding-left: 1em; padding-right: 1em; text-align: center; vertical-align: top\">132.0</td>\n",
       "    </tr>\n",
       "    <tr>\n",
       "        <td style=\"padding-left: 1em; padding-right: 1em; text-align: center; vertical-align: top\">8.1</td>\n",
       "        <td style=\"padding-left: 1em; padding-right: 1em; text-align: center; vertical-align: top\">0.22</td>\n",
       "        <td style=\"padding-left: 1em; padding-right: 1em; text-align: center; vertical-align: top\">0.43</td>\n",
       "        <td style=\"padding-left: 1em; padding-right: 1em; text-align: center; vertical-align: top\">1.5</td>\n",
       "        <td style=\"padding-left: 1em; padding-right: 1em; text-align: center; vertical-align: top\">0.044</td>\n",
       "        <td style=\"padding-left: 1em; padding-right: 1em; text-align: center; vertical-align: top\">28.0</td>\n",
       "        <td style=\"padding-left: 1em; padding-right: 1em; text-align: center; vertical-align: top\">129.0</td>\n",
       "    </tr>\n",
       "    <tr>\n",
       "        <td style=\"padding-left: 1em; padding-right: 1em; text-align: center; vertical-align: top\">8.3</td>\n",
       "        <td style=\"padding-left: 1em; padding-right: 1em; text-align: center; vertical-align: top\">0.42</td>\n",
       "        <td style=\"padding-left: 1em; padding-right: 1em; text-align: center; vertical-align: top\">0.62</td>\n",
       "        <td style=\"padding-left: 1em; padding-right: 1em; text-align: center; vertical-align: top\">19.25</td>\n",
       "        <td style=\"padding-left: 1em; padding-right: 1em; text-align: center; vertical-align: top\">0.04</td>\n",
       "        <td style=\"padding-left: 1em; padding-right: 1em; text-align: center; vertical-align: top\">41.0</td>\n",
       "        <td style=\"padding-left: 1em; padding-right: 1em; text-align: center; vertical-align: top\">172.0</td>\n",
       "    </tr>\n",
       "    <tr>\n",
       "        <td style=\"padding-left: 1em; padding-right: 1em; text-align: center; vertical-align: top\">7.4</td>\n",
       "        <td style=\"padding-left: 1em; padding-right: 1em; text-align: center; vertical-align: top\">0.34</td>\n",
       "        <td style=\"padding-left: 1em; padding-right: 1em; text-align: center; vertical-align: top\">0.42</td>\n",
       "        <td style=\"padding-left: 1em; padding-right: 1em; text-align: center; vertical-align: top\">1.1</td>\n",
       "        <td style=\"padding-left: 1em; padding-right: 1em; text-align: center; vertical-align: top\">0.033</td>\n",
       "        <td style=\"padding-left: 1em; padding-right: 1em; text-align: center; vertical-align: top\">17.0</td>\n",
       "        <td style=\"padding-left: 1em; padding-right: 1em; text-align: center; vertical-align: top\">171.0</td>\n",
       "    </tr>\n",
       "    <tr>\n",
       "        <td style=\"padding-left: 1em; padding-right: 1em; text-align: center; vertical-align: top\">6.6</td>\n",
       "        <td style=\"padding-left: 1em; padding-right: 1em; text-align: center; vertical-align: top\">0.27</td>\n",
       "        <td style=\"padding-left: 1em; padding-right: 1em; text-align: center; vertical-align: top\">0.41</td>\n",
       "        <td style=\"padding-left: 1em; padding-right: 1em; text-align: center; vertical-align: top\">1.3</td>\n",
       "        <td style=\"padding-left: 1em; padding-right: 1em; text-align: center; vertical-align: top\">0.052</td>\n",
       "        <td style=\"padding-left: 1em; padding-right: 1em; text-align: center; vertical-align: top\">16.0</td>\n",
       "        <td style=\"padding-left: 1em; padding-right: 1em; text-align: center; vertical-align: top\">142.0</td>\n",
       "    </tr>\n",
       "    <tr>\n",
       "        <td style=\"padding-left: 1em; padding-right: 1em; text-align: center; vertical-align: top\">8.3</td>\n",
       "        <td style=\"padding-left: 1em; padding-right: 1em; text-align: center; vertical-align: top\">0.14</td>\n",
       "        <td style=\"padding-left: 1em; padding-right: 1em; text-align: center; vertical-align: top\">0.34</td>\n",
       "        <td style=\"padding-left: 1em; padding-right: 1em; text-align: center; vertical-align: top\">1.1</td>\n",
       "        <td style=\"padding-left: 1em; padding-right: 1em; text-align: center; vertical-align: top\">0.042</td>\n",
       "        <td style=\"padding-left: 1em; padding-right: 1em; text-align: center; vertical-align: top\">7.0</td>\n",
       "        <td style=\"padding-left: 1em; padding-right: 1em; text-align: center; vertical-align: top\">47.0</td>\n",
       "    </tr>\n",
       "    <tr>\n",
       "        <td style=\"padding-left: 1em; padding-right: 1em; text-align: center; vertical-align: top\">7.4</td>\n",
       "        <td style=\"padding-left: 1em; padding-right: 1em; text-align: center; vertical-align: top\">0.25</td>\n",
       "        <td style=\"padding-left: 1em; padding-right: 1em; text-align: center; vertical-align: top\">0.36</td>\n",
       "        <td style=\"padding-left: 1em; padding-right: 1em; text-align: center; vertical-align: top\">2.05</td>\n",
       "        <td style=\"padding-left: 1em; padding-right: 1em; text-align: center; vertical-align: top\">0.05</td>\n",
       "        <td style=\"padding-left: 1em; padding-right: 1em; text-align: center; vertical-align: top\">31.0</td>\n",
       "        <td style=\"padding-left: 1em; padding-right: 1em; text-align: center; vertical-align: top\">100.0</td>\n",
       "    </tr>\n",
       "    <tr>\n",
       "        <td style=\"padding-left: 1em; padding-right: 1em; text-align: center; vertical-align: top\">6.5</td>\n",
       "        <td style=\"padding-left: 1em; padding-right: 1em; text-align: center; vertical-align: top\">0.39</td>\n",
       "        <td style=\"padding-left: 1em; padding-right: 1em; text-align: center; vertical-align: top\">0.23</td>\n",
       "        <td style=\"padding-left: 1em; padding-right: 1em; text-align: center; vertical-align: top\">5.4</td>\n",
       "        <td style=\"padding-left: 1em; padding-right: 1em; text-align: center; vertical-align: top\">0.051</td>\n",
       "        <td style=\"padding-left: 1em; padding-right: 1em; text-align: center; vertical-align: top\">25.0</td>\n",
       "        <td style=\"padding-left: 1em; padding-right: 1em; text-align: center; vertical-align: top\">149.0</td>\n",
       "    </tr>\n",
       "    <tr>\n",
       "        <td style=\"padding-left: 1em; padding-right: 1em; text-align: center; vertical-align: top\">7.3</td>\n",
       "        <td style=\"padding-left: 1em; padding-right: 1em; text-align: center; vertical-align: top\">0.24</td>\n",
       "        <td style=\"padding-left: 1em; padding-right: 1em; text-align: center; vertical-align: top\">0.39</td>\n",
       "        <td style=\"padding-left: 1em; padding-right: 1em; text-align: center; vertical-align: top\">17.95</td>\n",
       "        <td style=\"padding-left: 1em; padding-right: 1em; text-align: center; vertical-align: top\">0.057</td>\n",
       "        <td style=\"padding-left: 1em; padding-right: 1em; text-align: center; vertical-align: top\">45.0</td>\n",
       "        <td style=\"padding-left: 1em; padding-right: 1em; text-align: center; vertical-align: top\">149.0</td>\n",
       "    </tr>\n",
       "    <tr>\n",
       "        <td style=\"padding-left: 1em; padding-right: 1em; text-align: center; vertical-align: top\">7.2</td>\n",
       "        <td style=\"padding-left: 1em; padding-right: 1em; text-align: center; vertical-align: top\">0.19</td>\n",
       "        <td style=\"padding-left: 1em; padding-right: 1em; text-align: center; vertical-align: top\">0.31</td>\n",
       "        <td style=\"padding-left: 1em; padding-right: 1em; text-align: center; vertical-align: top\">1.6</td>\n",
       "        <td style=\"padding-left: 1em; padding-right: 1em; text-align: center; vertical-align: top\">0.062</td>\n",
       "        <td style=\"padding-left: 1em; padding-right: 1em; text-align: center; vertical-align: top\">31.0</td>\n",
       "        <td style=\"padding-left: 1em; padding-right: 1em; text-align: center; vertical-align: top\">173.0</td>\n",
       "    </tr>\n",
       "</table>\n",
       "<table frame=\"box\" rules=\"cols\">\n",
       "    <tr>\n",
       "        <th style=\"padding-left: 1em; padding-right: 1em; text-align: center\">density</th>\n",
       "        <th style=\"padding-left: 1em; padding-right: 1em; text-align: center\">pH</th>\n",
       "        <th style=\"padding-left: 1em; padding-right: 1em; text-align: center\">sulphates</th>\n",
       "        <th style=\"padding-left: 1em; padding-right: 1em; text-align: center\">alcohol</th>\n",
       "        <th style=\"padding-left: 1em; padding-right: 1em; text-align: center\">quality</th>\n",
       "    </tr>\n",
       "    <tr>\n",
       "        <td style=\"padding-left: 1em; padding-right: 1em; text-align: center; vertical-align: top\">0.994</td>\n",
       "        <td style=\"padding-left: 1em; padding-right: 1em; text-align: center; vertical-align: top\">3.3</td>\n",
       "        <td style=\"padding-left: 1em; padding-right: 1em; text-align: center; vertical-align: top\">0.49</td>\n",
       "        <td style=\"padding-left: 1em; padding-right: 1em; text-align: center; vertical-align: top\">9.5</td>\n",
       "        <td style=\"padding-left: 1em; padding-right: 1em; text-align: center; vertical-align: top\">6</td>\n",
       "    </tr>\n",
       "    <tr>\n",
       "        <td style=\"padding-left: 1em; padding-right: 1em; text-align: center; vertical-align: top\">0.9938</td>\n",
       "        <td style=\"padding-left: 1em; padding-right: 1em; text-align: center; vertical-align: top\">3.22</td>\n",
       "        <td style=\"padding-left: 1em; padding-right: 1em; text-align: center; vertical-align: top\">0.45</td>\n",
       "        <td style=\"padding-left: 1em; padding-right: 1em; text-align: center; vertical-align: top\">11.0</td>\n",
       "        <td style=\"padding-left: 1em; padding-right: 1em; text-align: center; vertical-align: top\">6</td>\n",
       "    </tr>\n",
       "    <tr>\n",
       "        <td style=\"padding-left: 1em; padding-right: 1em; text-align: center; vertical-align: top\">1.0002</td>\n",
       "        <td style=\"padding-left: 1em; padding-right: 1em; text-align: center; vertical-align: top\">2.98</td>\n",
       "        <td style=\"padding-left: 1em; padding-right: 1em; text-align: center; vertical-align: top\">0.67</td>\n",
       "        <td style=\"padding-left: 1em; padding-right: 1em; text-align: center; vertical-align: top\">9.7</td>\n",
       "        <td style=\"padding-left: 1em; padding-right: 1em; text-align: center; vertical-align: top\">5</td>\n",
       "    </tr>\n",
       "    <tr>\n",
       "        <td style=\"padding-left: 1em; padding-right: 1em; text-align: center; vertical-align: top\">0.9917</td>\n",
       "        <td style=\"padding-left: 1em; padding-right: 1em; text-align: center; vertical-align: top\">3.12</td>\n",
       "        <td style=\"padding-left: 1em; padding-right: 1em; text-align: center; vertical-align: top\">0.53</td>\n",
       "        <td style=\"padding-left: 1em; padding-right: 1em; text-align: center; vertical-align: top\">11.3</td>\n",
       "        <td style=\"padding-left: 1em; padding-right: 1em; text-align: center; vertical-align: top\">6</td>\n",
       "    </tr>\n",
       "    <tr>\n",
       "        <td style=\"padding-left: 1em; padding-right: 1em; text-align: center; vertical-align: top\">0.9951</td>\n",
       "        <td style=\"padding-left: 1em; padding-right: 1em; text-align: center; vertical-align: top\">3.42</td>\n",
       "        <td style=\"padding-left: 1em; padding-right: 1em; text-align: center; vertical-align: top\">0.47</td>\n",
       "        <td style=\"padding-left: 1em; padding-right: 1em; text-align: center; vertical-align: top\">10.0</td>\n",
       "        <td style=\"padding-left: 1em; padding-right: 1em; text-align: center; vertical-align: top\">6</td>\n",
       "    </tr>\n",
       "    <tr>\n",
       "        <td style=\"padding-left: 1em; padding-right: 1em; text-align: center; vertical-align: top\">0.9934</td>\n",
       "        <td style=\"padding-left: 1em; padding-right: 1em; text-align: center; vertical-align: top\">3.47</td>\n",
       "        <td style=\"padding-left: 1em; padding-right: 1em; text-align: center; vertical-align: top\">0.4</td>\n",
       "        <td style=\"padding-left: 1em; padding-right: 1em; text-align: center; vertical-align: top\">10.2</td>\n",
       "        <td style=\"padding-left: 1em; padding-right: 1em; text-align: center; vertical-align: top\">6</td>\n",
       "    </tr>\n",
       "    <tr>\n",
       "        <td style=\"padding-left: 1em; padding-right: 1em; text-align: center; vertical-align: top\">0.992</td>\n",
       "        <td style=\"padding-left: 1em; padding-right: 1em; text-align: center; vertical-align: top\">3.19</td>\n",
       "        <td style=\"padding-left: 1em; padding-right: 1em; text-align: center; vertical-align: top\">0.44</td>\n",
       "        <td style=\"padding-left: 1em; padding-right: 1em; text-align: center; vertical-align: top\">10.8</td>\n",
       "        <td style=\"padding-left: 1em; padding-right: 1em; text-align: center; vertical-align: top\">6</td>\n",
       "    </tr>\n",
       "    <tr>\n",
       "        <td style=\"padding-left: 1em; padding-right: 1em; text-align: center; vertical-align: top\">0.9934</td>\n",
       "        <td style=\"padding-left: 1em; padding-right: 1em; text-align: center; vertical-align: top\">3.24</td>\n",
       "        <td style=\"padding-left: 1em; padding-right: 1em; text-align: center; vertical-align: top\">0.35</td>\n",
       "        <td style=\"padding-left: 1em; padding-right: 1em; text-align: center; vertical-align: top\">10.0</td>\n",
       "        <td style=\"padding-left: 1em; padding-right: 1em; text-align: center; vertical-align: top\">5</td>\n",
       "    </tr>\n",
       "    <tr>\n",
       "        <td style=\"padding-left: 1em; padding-right: 1em; text-align: center; vertical-align: top\">0.9999</td>\n",
       "        <td style=\"padding-left: 1em; padding-right: 1em; text-align: center; vertical-align: top\">3.21</td>\n",
       "        <td style=\"padding-left: 1em; padding-right: 1em; text-align: center; vertical-align: top\">0.36</td>\n",
       "        <td style=\"padding-left: 1em; padding-right: 1em; text-align: center; vertical-align: top\">8.6</td>\n",
       "        <td style=\"padding-left: 1em; padding-right: 1em; text-align: center; vertical-align: top\">5</td>\n",
       "    </tr>\n",
       "    <tr>\n",
       "        <td style=\"padding-left: 1em; padding-right: 1em; text-align: center; vertical-align: top\">0.9917</td>\n",
       "        <td style=\"padding-left: 1em; padding-right: 1em; text-align: center; vertical-align: top\">3.35</td>\n",
       "        <td style=\"padding-left: 1em; padding-right: 1em; text-align: center; vertical-align: top\">0.44</td>\n",
       "        <td style=\"padding-left: 1em; padding-right: 1em; text-align: center; vertical-align: top\">11.7</td>\n",
       "        <td style=\"padding-left: 1em; padding-right: 1em; text-align: center; vertical-align: top\">6</td>\n",
       "    </tr>\n",
       "</table>\n",
       "[? rows x 12 columns]<br/>Note: Only the head of the SFrame is printed. This SFrame is lazily evaluated.<br/>You can use sf.materialize() to force materialization.\n",
       "</div>"
      ],
      "text/plain": [
       "Columns:\n",
       "\tfixed acidity\tfloat\n",
       "\tvolatile acidity\tfloat\n",
       "\tcitric acid\tfloat\n",
       "\tresidual sugar\tfloat\n",
       "\tchlorides\tfloat\n",
       "\tfree sulfur dioxide\tfloat\n",
       "\ttotal sulfur dioxide\tfloat\n",
       "\tdensity\tfloat\n",
       "\tpH\tfloat\n",
       "\tsulphates\tfloat\n",
       "\talcohol\tfloat\n",
       "\tquality\tint\n",
       "\n",
       "Rows: Unknown\n",
       "\n",
       "Data:\n",
       "+---------------+------------------+-------------+----------------+-----------+\n",
       "| fixed acidity | volatile acidity | citric acid | residual sugar | chlorides |\n",
       "+---------------+------------------+-------------+----------------+-----------+\n",
       "|      6.3      |       0.3        |     0.34    |      1.6       |   0.049   |\n",
       "|      8.1      |       0.22       |     0.43    |      1.5       |   0.044   |\n",
       "|      8.3      |       0.42       |     0.62    |     19.25      |    0.04   |\n",
       "|      7.4      |       0.34       |     0.42    |      1.1       |   0.033   |\n",
       "|      6.6      |       0.27       |     0.41    |      1.3       |   0.052   |\n",
       "|      8.3      |       0.14       |     0.34    |      1.1       |   0.042   |\n",
       "|      7.4      |       0.25       |     0.36    |      2.05      |    0.05   |\n",
       "|      6.5      |       0.39       |     0.23    |      5.4       |   0.051   |\n",
       "|      7.3      |       0.24       |     0.39    |     17.95      |   0.057   |\n",
       "|      7.2      |       0.19       |     0.31    |      1.6       |   0.062   |\n",
       "+---------------+------------------+-------------+----------------+-----------+\n",
       "+---------------------+----------------------+---------+------+-----------+---------+\n",
       "| free sulfur dioxide | total sulfur dioxide | density |  pH  | sulphates | alcohol |\n",
       "+---------------------+----------------------+---------+------+-----------+---------+\n",
       "|         14.0        |        132.0         |  0.994  | 3.3  |    0.49   |   9.5   |\n",
       "|         28.0        |        129.0         |  0.9938 | 3.22 |    0.45   |   11.0  |\n",
       "|         41.0        |        172.0         |  1.0002 | 2.98 |    0.67   |   9.7   |\n",
       "|         17.0        |        171.0         |  0.9917 | 3.12 |    0.53   |   11.3  |\n",
       "|         16.0        |        142.0         |  0.9951 | 3.42 |    0.47   |   10.0  |\n",
       "|         7.0         |         47.0         |  0.9934 | 3.47 |    0.4    |   10.2  |\n",
       "|         31.0        |        100.0         |  0.992  | 3.19 |    0.44   |   10.8  |\n",
       "|         25.0        |        149.0         |  0.9934 | 3.24 |    0.35   |   10.0  |\n",
       "|         45.0        |        149.0         |  0.9999 | 3.21 |    0.36   |   8.6   |\n",
       "|         31.0        |        173.0         |  0.9917 | 3.35 |    0.44   |   11.7  |\n",
       "+---------------------+----------------------+---------+------+-----------+---------+\n",
       "+---------+\n",
       "| quality |\n",
       "+---------+\n",
       "|    6    |\n",
       "|    6    |\n",
       "|    5    |\n",
       "|    6    |\n",
       "|    6    |\n",
       "|    6    |\n",
       "|    6    |\n",
       "|    5    |\n",
       "|    5    |\n",
       "|    6    |\n",
       "+---------+\n",
       "[? rows x 12 columns]\n",
       "Note: Only the head of the SFrame is printed. This SFrame is lazily evaluated.\n",
       "You can use sf.materialize() to force materialization."
      ]
     },
     "execution_count": 79,
     "metadata": {},
     "output_type": "execute_result"
    }
   ],
   "source": [
    "training_label = train_data['quality']\n",
    "validating_label = validation_data['quality']\n",
    "training_data = train_data[features]\n",
    "validating_data = validation_data[features]\n",
    "validation_data"
   ]
  },
  {
   "cell_type": "code",
   "execution_count": 80,
   "metadata": {
    "collapsed": false
   },
   "outputs": [],
   "source": [
    "training_data_np = training_data.to_numpy()\n",
    "training_label_np = training_label.to_numpy()\n",
    "validation_data_np = validating_data.to_numpy()\n",
    "validation_label_np = validating_label.to_numpy()"
   ]
  },
  {
   "cell_type": "code",
   "execution_count": 119,
   "metadata": {
    "collapsed": true
   },
   "outputs": [],
   "source": [
    "wine_data_np = wine_data['quality'].to_numpy()"
   ]
  },
  {
   "cell_type": "code",
   "execution_count": 81,
   "metadata": {
    "collapsed": true
   },
   "outputs": [],
   "source": [
    "class_names = ['1','2','3','4','5','6','7','8','9','10']"
   ]
  },
  {
   "cell_type": "code",
   "execution_count": 82,
   "metadata": {
    "collapsed": false
   },
   "outputs": [],
   "source": [
    "def plot_confusion_matrix(cm, classes,\n",
    "                          normalize=False,\n",
    "                          title='Confusion matrix',\n",
    "                          cmap=plt.cm.Blues):\n",
    "    \"\"\"\n",
    "    This function prints and plots the confusion matrix.\n",
    "    Normalization can be applied by setting `normalize=True`.\n",
    "    \"\"\"\n",
    "    plt.imshow(cm, interpolation='nearest', cmap=cmap)\n",
    "    plt.title(title)\n",
    "    plt.colorbar()\n",
    "    tick_marks = np.arange(len(classes))\n",
    "    plt.xticks(tick_marks, classes, rotation=45)\n",
    "    plt.yticks(tick_marks, classes)\n",
    "\n",
    "    if normalize:\n",
    "        cm = cm.astype('float') / cm.sum(axis=1)[:, np.newaxis]\n",
    "        print(\"Normalized confusion matrix\")\n",
    "    else:\n",
    "        print('Confusion matrix, without normalization')\n",
    "\n",
    "    print(cm)\n",
    "\n",
    "    thresh = cm.max() / 2.\n",
    "    for i, j in itertools.product(range(cm.shape[0]), range(cm.shape[1])):\n",
    "        plt.text(j, i, cm[i, j],\n",
    "                 horizontalalignment=\"center\",\n",
    "                 color=\"white\" if cm[i, j] > thresh else \"black\")\n",
    "\n",
    "    plt.tight_layout()\n",
    "    plt.ylabel('True label')\n",
    "    plt.xlabel('Predicted label')"
   ]
  },
  {
   "cell_type": "code",
   "execution_count": 83,
   "metadata": {
    "collapsed": true
   },
   "outputs": [],
   "source": [
    "def knn_model(neighbournum,algorithm,metric):\n",
    "    for i in range(1,neighbournum):\n",
    "        print '************** neighbours_num=',i,' ***************'\n",
    "        starttime = time.time()\n",
    "        knn_lin_mandis = KNeighborsClassifier(n_neighbors=i,algorithm=algorithm,metric=metric)\n",
    "        knn_lin_mandis.fit(training_data_np,training_label_np)\n",
    "        stoptime = time.time()\n",
    "        usetime = stoptime - starttime\n",
    "        print 'time:',usetime\n",
    "        pre = knn_lin_mandis.predict(validation_data_np)\n",
    "        pre_correct = sum(pre == validation_label_np)\n",
    "        accuracy = pre_correct / float(len(validation_label_np))\n",
    "        print 'accuracy:', accuracy\n",
    "        # Compute confusion matrix\n",
    "        cnf_matrix = confusion_matrix(validation_label_np, pre)\n",
    "        np.set_printoptions(precision=2)\n",
    "        # Plot non-normalized confusion matrix\n",
    "        plt.figure()\n",
    "        plot_confusion_matrix(cnf_matrix, classes=class_names,\n",
    "                          title='Confusion matrix, without normalization')"
   ]
  },
  {
   "cell_type": "code",
   "execution_count": 126,
   "metadata": {
    "collapsed": false
   },
   "outputs": [],
   "source": [
    "folds = graphlab.cross_validation.KFold(wine_data,10)"
   ]
  },
  {
   "cell_type": "code",
   "execution_count": 130,
   "metadata": {
    "collapsed": false
   },
   "outputs": [],
   "source": [
    "def knn_model_with10N_kfold(algorithm,metric):\n",
    "    for train_set,validation_set in folds:\n",
    "        t_d_np = train_set[features].to_numpy()\n",
    "        t_l_np = train_set['quality'].to_numpy()\n",
    "        v_d_np = validation_set[features].to_numpy()\n",
    "        v_l_np = validation_set['quality'].to_numpy()\n",
    "        starttime = time.time()\n",
    "        knn_lin_mandis = KNeighborsClassifier(n_neighbors=10,algorithm=algorithm,metric=metric)\n",
    "        knn_lin_mandis.fit(t_d_np,t_l_np)\n",
    "        stoptime = time.time()\n",
    "        usetime = stoptime - starttime\n",
    "        print 'time:',usetime\n",
    "        pre = knn_lin_mandis.predict(v_d_np)\n",
    "        pre_correct = sum(pre == v_l_np)\n",
    "        accuracy = pre_correct / float(len(v_l_np))\n",
    "        print 'accuracy:', accuracy\n",
    "        # Compute confusion matrix\n",
    "        cnf_matrix = confusion_matrix(v_l_np, pre)\n",
    "        np.set_printoptions(precision=2)\n",
    "        # Plot non-normalized confusion matrix\n",
    "        plt.figure()\n",
    "        plot_confusion_matrix(cnf_matrix, classes=class_names,\n",
    "                          title='Confusion matrix, without normalization')"
   ]
  },
  {
   "cell_type": "markdown",
   "metadata": {},
   "source": [
    "# 1. k-nn use k-d tree"
   ]
  },
  {
   "cell_type": "markdown",
   "metadata": {},
   "source": [
    "## 1.1 use train and validation set with Manhattan distance"
   ]
  },
  {
   "cell_type": "code",
   "execution_count": 84,
   "metadata": {
    "collapsed": false
   },
   "outputs": [
    {
     "name": "stdout",
     "output_type": "stream",
     "text": [
      "************** neighbours_num= 1  ***************\n",
      "time: 0.00522398948669\n",
      "accuracy: 0.604125736739\n",
      "Confusion matrix, without normalization\n",
      "[[  0   1   1   4   0   0   0]\n",
      " [  0   7  16  12   2   0   0]\n",
      " [  0   7 179  67  23   3   1]\n",
      " [  0   2 110 312  52   9   0]\n",
      " [  0   1  23  41 100   3   0]\n",
      " [  0   0   4  11   9  17   0]\n",
      " [  0   0   0   0   1   0   0]]\n",
      "************** neighbours_num= 2  ***************\n",
      "time: 0.0100500583649\n",
      "accuracy: 0.511787819253\n",
      "Confusion matrix, without normalization\n",
      "[[  0   1   4   1   0   0   0]\n",
      " [  1   8  20   7   1   0   0]\n",
      " [  0  17 200  54   8   1   0]\n",
      " [  0  10 193 257  25   0   0]\n",
      " [  0   2  37  77  52   0   0]\n",
      " [  0   0  12  14  11   4   0]\n",
      " [  0   0   0   1   0   0   0]]\n",
      "************** neighbours_num= 3  ***************\n",
      "time: 0.00424814224243\n",
      "accuracy: 0.501964636542\n",
      "Confusion matrix, without normalization\n",
      "[[  0   1   2   3   0   0   0]\n",
      " [  1   7  20   8   1   0   0]\n",
      " [  1  11 155  95  17   1   0]\n",
      " [  0  11 132 283  56   3   0]\n",
      " [  1   4  41  58  61   3   0]\n",
      " [  0   2  11  15   8   5   0]\n",
      " [  0   0   0   1   0   0   0]]\n",
      "************** neighbours_num= 4  ***************\n",
      "time: 0.00313687324524\n",
      "accuracy: 0.507858546169\n",
      "Confusion matrix, without normalization\n",
      "[[  0   1   3   2   0   0   0]\n",
      " [  0   4  21   8   4   0   0]\n",
      " [  0   6 173  81  18   2   0]\n",
      " [  0   6 145 279  50   5   0]\n",
      " [  0   2  31  72  58   5   0]\n",
      " [  0   2  10  15  11   3   0]\n",
      " [  0   0   0   1   0   0   0]]\n",
      "************** neighbours_num= 5  ***************\n",
      "time: 0.00387287139893\n",
      "accuracy: 0.495088408644\n",
      "Confusion matrix, without normalization\n",
      "[[  0   1   3   2   0   0   0]\n",
      " [  0   4  21   9   3   0   0]\n",
      " [  1   5 152 107  13   2   0]\n",
      " [  0   7 134 290  52   2   0]\n",
      " [  0   1  37  70  55   5   0]\n",
      " [  0   0  12  16  10   3   0]\n",
      " [  0   0   0   1   0   0   0]]\n",
      "************** neighbours_num= 6  ***************\n",
      "time: 0.00300884246826\n",
      "accuracy: 0.48231827112\n",
      "Confusion matrix, without normalization\n",
      "[[  0   1   2   3   0   0   0]\n",
      " [  0   4  22   8   3   0   0]\n",
      " [  1   3 163  94  18   1   0]\n",
      " [  0   7 150 270  54   4   0]\n",
      " [  0   1  41  73  51   2   0]\n",
      " [  0   0  11  16  11   3   0]\n",
      " [  0   0   0   1   0   0   0]]\n",
      "************** neighbours_num= 7  ***************\n",
      "time: 0.00370693206787\n",
      "accuracy: 0.486247544204\n",
      "Confusion matrix, without normalization\n",
      "[[  0   1   3   2   0   0   0]\n",
      " [  0   4  22   8   3   0   0]\n",
      " [  1   4 158  97  20   0   0]\n",
      " [  0   3 140 286  54   2   0]\n",
      " [  0   1  38  84  44   1   0]\n",
      " [  0   0   9  18  11   3   0]\n",
      " [  0   0   0   1   0   0   0]]\n",
      "************** neighbours_num= 8  ***************\n",
      "time: 0.00341892242432\n",
      "accuracy: 0.472495088409\n",
      "Confusion matrix, without normalization\n",
      "[[  0   0   4   2   0   0   0]\n",
      " [  0   2  23  11   1   0   0]\n",
      " [  0   3 153 102  20   2   0]\n",
      " [  0   2 147 280  54   2   0]\n",
      " [  0   0  33  91  43   1   0]\n",
      " [  0   0   8  22   8   3   0]\n",
      " [  0   0   0   0   1   0   0]]\n",
      "************** neighbours_num= 9  ***************\n",
      "time: 0.00308799743652\n",
      "accuracy: 0.456777996071\n",
      "Confusion matrix, without normalization\n",
      "[[  0   0   3   3   0   0   0]\n",
      " [  0   2  23  11   1   0   0]\n",
      " [  0   3 144 110  20   3   0]\n",
      " [  0   3 144 279  57   2   0]\n",
      " [  0   1  32  93  40   2   0]\n",
      " [  0   0   8  24   9   0   0]\n",
      " [  0   0   0   0   1   0   0]]\n",
      "************** neighbours_num= 10  ***************\n",
      "time: 0.00340390205383\n",
      "accuracy: 0.466601178782\n",
      "Confusion matrix, without normalization\n",
      "[[  0   0   3   3   0   0   0]\n",
      " [  0   2  25   9   1   0   0]\n",
      " [  0   3 150 104  19   4   0]\n",
      " [  0   2 142 282  56   3   0]\n",
      " [  0   0  28  99  41   0   0]\n",
      " [  0   0   9  23   9   0   0]\n",
      " [  0   0   0   1   0   0   0]]\n"
     ]
    }
   ],
   "source": [
    "knn_model(11,'kd_tree','manhattan')"
   ]
  },
  {
   "cell_type": "markdown",
   "metadata": {},
   "source": [
    "## 1.2 use train and validation set with Euclidean distance"
   ]
  },
  {
   "cell_type": "code",
   "execution_count": 18,
   "metadata": {
    "collapsed": false
   },
   "outputs": [
    {
     "name": "stdout",
     "output_type": "stream",
     "text": [
      "************** neighbours_num= 1  ***************\n",
      "time: 0.00609016418457\n",
      "accuracy: 0.602161100196\n",
      "Confusion matrix, without normalization\n",
      "[[  0   1   2   3   0   0   0]\n",
      " [  1   7  13  13   3   0   0]\n",
      " [  0   7 183  69  19   1   1]\n",
      " [  0   7 105 309  55   9   0]\n",
      " [  0   1  23  43  97   4   0]\n",
      " [  0   0   3  12   9  17   0]\n",
      " [  0   0   0   0   1   0   0]]\n",
      "************** neighbours_num= 2  ***************\n",
      "time: 0.00489902496338\n",
      "accuracy: 0.486247544204\n",
      "Confusion matrix, without normalization\n",
      "[[  0   1   4   1   0   0   0]\n",
      " [  1   8  19   8   1   0   0]\n",
      " [  0  17 201  54   7   1   0]\n",
      " [  0  14 203 239  29   0   0]\n",
      " [  1   1  53  69  43   1   0]\n",
      " [  0   0  12  13  12   4   0]\n",
      " [  0   0   0   1   0   0   0]]\n",
      "************** neighbours_num= 3  ***************\n",
      "time: 0.0105559825897\n",
      "accuracy: 0.481335952849\n",
      "Confusion matrix, without normalization\n",
      "[[  0   1   2   3   0   0   0]\n",
      " [  1   5  23   7   1   0   0]\n",
      " [  1  12 152  97  17   1   0]\n",
      " [  0   8 143 274  59   1   0]\n",
      " [  1   1  45  63  55   3   0]\n",
      " [  0   1   9  16  11   4   0]\n",
      " [  0   0   0   1   0   0   0]]\n",
      "************** neighbours_num= 4  ***************\n",
      "time: 0.00462698936462\n",
      "accuracy: 0.477406679764\n",
      "Confusion matrix, without normalization\n",
      "[[  0   1   4   1   0   0   0]\n",
      " [  1   5  23   7   1   0   0]\n",
      " [  0   9 169  85  16   1   0]\n",
      " [  0   8 164 253  55   5   0]\n",
      " [  0   1  35  71  56   5   0]\n",
      " [  0   0   8  17  13   3   0]\n",
      " [  0   0   0   1   0   0   0]]\n",
      "************** neighbours_num= 5  ***************\n",
      "time: 0.00391411781311\n",
      "accuracy: 0.487229862475\n",
      "Confusion matrix, without normalization\n",
      "[[  0   1   3   2   0   0   0]\n",
      " [  0   5  25   6   1   0   0]\n",
      " [  1   5 151 110  13   0   0]\n",
      " [  0   6 138 282  56   3   0]\n",
      " [  0   1  36  71  55   5   0]\n",
      " [  0   0   8  19  11   3   0]\n",
      " [  0   0   0   1   0   0   0]]\n",
      "************** neighbours_num= 6  ***************\n",
      "time: 0.00306987762451\n",
      "accuracy: 0.468565815324\n",
      "Confusion matrix, without normalization\n",
      "[[  0   1   3   1   1   0   0]\n",
      " [  0   4  23   9   1   0   0]\n",
      " [  1   5 156  96  20   2   0]\n",
      " [  0   7 157 265  52   4   0]\n",
      " [  0   1  33  83  48   3   0]\n",
      " [  0   0  10  19   8   4   0]\n",
      " [  0   0   0   1   0   0   0]]\n",
      "************** neighbours_num= 7  ***************\n",
      "time: 0.00369620323181\n",
      "accuracy: 0.458742632613\n",
      "Confusion matrix, without normalization\n",
      "[[  0   1   3   2   0   0   0]\n",
      " [  0   4  24   8   1   0   0]\n",
      " [  1   2 144 107  24   2   0]\n",
      " [  0   2 150 274  57   2   0]\n",
      " [  0   0  37  84  45   2   0]\n",
      " [  0   0   8  22  11   0   0]\n",
      " [  0   0   0   0   1   0   0]]\n",
      "************** neighbours_num= 8  ***************\n",
      "time: 0.00377106666565\n",
      "accuracy: 0.467583497053\n",
      "Confusion matrix, without normalization\n",
      "[[  0   1   3   2   0   0   0]\n",
      " [  0   2  27   7   1   0   0]\n",
      " [  0   2 148 103  23   4   0]\n",
      " [  0   5 146 282  50   2   0]\n",
      " [  0   1  34  88  43   2   0]\n",
      " [  0   0   9  21  10   1   0]\n",
      " [  0   0   0   0   1   0   0]]\n",
      "************** neighbours_num= 9  ***************\n",
      "time: 0.003084897995\n",
      "accuracy: 0.461689587426\n",
      "Confusion matrix, without normalization\n",
      "[[  0   2   2   2   0   0   0]\n",
      " [  0   3  23  10   1   0   0]\n",
      " [  0   3 136 115  22   4   0]\n",
      " [  0   5 141 290  46   3   0]\n",
      " [  0   1  32  93  41   1   0]\n",
      " [  0   0   5  24  12   0   0]\n",
      " [  0   0   0   0   1   0   0]]\n",
      "************** neighbours_num= 10  ***************\n",
      "time: 0.00404405593872\n",
      "accuracy: 0.457760314342\n",
      "Confusion matrix, without normalization\n",
      "[[  0   1   2   3   0   0   0]\n",
      " [  0   2  25   9   1   0   0]\n",
      " [  0   3 141 111  21   4   0]\n",
      " [  0   2 138 290  52   3   0]\n",
      " [  0   1  33 102  32   0   0]\n",
      " [  0   0   6  24  10   1   0]\n",
      " [  0   0   0   0   1   0   0]]\n"
     ]
    }
   ],
   "source": [
    "knn_model(11,'kd_tree','euclidean')"
   ]
  },
  {
   "cell_type": "markdown",
   "metadata": {},
   "source": [
    "## 1.3 use train and validation set with chebyshev distance"
   ]
  },
  {
   "cell_type": "code",
   "execution_count": 28,
   "metadata": {
    "collapsed": false
   },
   "outputs": [
    {
     "name": "stdout",
     "output_type": "stream",
     "text": [
      "************** neighbours_num= 1  ***************\n",
      "time: 0.00736117362976\n",
      "accuracy: 0.595284872299\n",
      "Confusion matrix, without normalization\n",
      "[[  0   1   3   1   1   0   0]\n",
      " [  1   8  14  12   1   1   0]\n",
      " [  0   4 184  70  20   2   0]\n",
      " [  0   6  95 304  69  11   0]\n",
      " [  0   1  27  41  94   5   0]\n",
      " [  0   0   5  12   8  16   0]\n",
      " [  0   0   0   0   1   0   0]]\n",
      "************** neighbours_num= 2  ***************\n",
      "time: 0.0120341777802\n",
      "accuracy: 0.494106090373\n",
      "Confusion matrix, without normalization\n",
      "[[  0   1   4   0   1   0   0]\n",
      " [  1   9  18   8   0   1   0]\n",
      " [  1  13 204  54   7   1   0]\n",
      " [  0  14 198 240  32   1   0]\n",
      " [  1   1  49  69  46   2   0]\n",
      " [  0   0  10  20   7   4   0]\n",
      " [  0   0   0   1   0   0   0]]\n",
      "************** neighbours_num= 3  ***************\n",
      "time: 0.00272989273071\n",
      "accuracy: 0.470530451866\n",
      "Confusion matrix, without normalization\n",
      "[[  0   1   3   1   1   0   0]\n",
      " [  0   5  23   8   0   1   0]\n",
      " [  2  12 151  96  17   2   0]\n",
      " [  0  12 150 261  60   2   0]\n",
      " [  1   1  46  60  57   3   0]\n",
      " [  0   2   3  19  12   5   0]\n",
      " [  0   0   0   1   0   0   0]]\n",
      "************** neighbours_num= 4  ***************\n",
      "time: 0.00320792198181\n",
      "accuracy: 0.481335952849\n",
      "Confusion matrix, without normalization\n",
      "[[  0   1   3   1   1   0   0]\n",
      " [  0   4  24   8   0   1   0]\n",
      " [  0   8 168  79  23   2   0]\n",
      " [  0   5 153 259  63   5   0]\n",
      " [  0   3  35  70  55   5   0]\n",
      " [  0   1   9  17  10   4   0]\n",
      " [  0   0   0   1   0   0   0]]\n",
      "************** neighbours_num= 5  ***************\n",
      "time: 0.0034019947052\n",
      "accuracy: 0.46463654224\n",
      "Confusion matrix, without normalization\n",
      "[[  0   1   3   1   1   0   0]\n",
      " [  0   4  24   9   0   0   0]\n",
      " [  0   6 155 107  11   1   0]\n",
      " [  0   4 153 259  67   2   0]\n",
      " [  0   3  33  78  51   3   0]\n",
      " [  0   0   7  19  11   4   0]\n",
      " [  0   0   0   1   0   0   0]]\n",
      "************** neighbours_num= 6  ***************\n",
      "time: 0.00316500663757\n",
      "accuracy: 0.448919449902\n",
      "Confusion matrix, without normalization\n",
      "[[  0   0   4   1   1   0   0]\n",
      " [  0   3  27   7   0   0   0]\n",
      " [  0   2 157 101  19   1   0]\n",
      " [  0   5 169 246  61   4   0]\n",
      " [  0   2  31  82  49   4   0]\n",
      " [  0   0   7  24   8   2   0]\n",
      " [  0   0   0   1   0   0   0]]\n",
      "************** neighbours_num= 7  ***************\n",
      "time: 0.00280904769897\n",
      "accuracy: 0.439096267191\n",
      "Confusion matrix, without normalization\n",
      "[[  0   0   4   2   0   0   0]\n",
      " [  0   1  26   9   1   0   0]\n",
      " [  0   4 139 115  21   1   0]\n",
      " [  0   4 153 263  61   4   0]\n",
      " [  0   0  38  81  43   6   0]\n",
      " [  0   0   6  26   8   1   0]\n",
      " [  0   0   0   0   1   0   0]]\n",
      "************** neighbours_num= 8  ***************\n",
      "time: 0.0024209022522\n",
      "accuracy: 0.454813359528\n",
      "Confusion matrix, without normalization\n",
      "[[  0   1   3   2   0   0   0]\n",
      " [  0   3  25   9   0   0   0]\n",
      " [  0   4 147 108  20   1   0]\n",
      " [  0   3 147 272  58   5   0]\n",
      " [  0   0  34  89  41   4   0]\n",
      " [  0   0   7  24  10   0   0]\n",
      " [  0   0   0   0   1   0   0]]\n",
      "************** neighbours_num= 9  ***************\n",
      "time: 0.0024938583374\n",
      "accuracy: 0.457760314342\n",
      "Confusion matrix, without normalization\n",
      "[[  0   0   3   3   0   0   0]\n",
      " [  0   3  23  10   1   0   0]\n",
      " [  0   2 138 117  21   2   0]\n",
      " [  0   2 133 284  61   5   0]\n",
      " [  0   1  31  91  41   4   0]\n",
      " [  0   0   8  26   7   0   0]\n",
      " [  0   0   0   0   1   0   0]]\n",
      "************** neighbours_num= 10  ***************\n",
      "time: 0.0026421546936\n",
      "accuracy: 0.453831041257\n",
      "Confusion matrix, without normalization\n",
      "[[  0   0   3   3   0   0   0]\n",
      " [  0   2  23  11   1   0   0]\n",
      " [  0   1 143 115  19   2   0]\n",
      " [  0   1 138 278  63   5   0]\n",
      " [  0   0  39  87  39   3   0]\n",
      " [  0   0   7  26   8   0   0]\n",
      " [  0   0   0   0   1   0   0]]\n"
     ]
    }
   ],
   "source": [
    "knn_model(11,'kd_tree','chebyshev')"
   ]
  },
  {
   "cell_type": "markdown",
   "metadata": {},
   "source": [
    "## 2.4 using k-fold cross validate with Manhattan distance"
   ]
  },
  {
   "cell_type": "code",
   "execution_count": 131,
   "metadata": {
    "collapsed": false
   },
   "outputs": [
    {
     "name": "stdout",
     "output_type": "stream",
     "text": [
      "time: 0.00491499900818\n",
      "accuracy: 0.39387755102\n",
      "Confusion matrix, without normalization\n",
      "[[  0   1   1   2   0   0]\n",
      " [  0   2   5   9   0   0]\n",
      " [  1   1  69  83   8   1]\n",
      " [  0   1  80 113  19   0]\n",
      " [  0   0  13  56   9   0]\n",
      " [  0   0   1  10   5   0]]\n",
      "time: 0.00419402122498\n",
      "accuracy: 0.416326530612\n",
      "Confusion matrix, without normalization\n",
      "[[ 0  0  1  1  0  0  0]\n",
      " [ 0  2 11  6  0  0  0]\n",
      " [ 0  3 90 54  1  0  0]\n",
      " [ 0  2 77 95 15  2  0]\n",
      " [ 0  0 25 63 17  0  0]\n",
      " [ 0  0  7 12  2  0  0]\n",
      " [ 0  0  1  3  0  0  0]]\n",
      "time: 0.00366497039795\n",
      "accuracy: 0.40612244898\n",
      "Confusion matrix, without normalization\n",
      "[[  0   0   1   2   0   0]\n",
      " [  0   0  11  10   1   0]\n",
      " [  0   2  66  60   9   0]\n",
      " [  0   1  68 121  16   0]\n",
      " [  0   0  22  62  12   0]\n",
      " [  0   0   4  16   6   0]]\n",
      "time: 0.00372290611267\n",
      "accuracy: 0.414285714286\n",
      "Confusion matrix, without normalization\n",
      "[[  0   0   3   0   0   0   0]\n",
      " [  0   1  11   8   1   0   0]\n",
      " [  0   2  65  76   7   2   0]\n",
      " [  0   1  87 124  15   1   0]\n",
      " [  0   1  20  40  13   0   0]\n",
      " [  0   0   2   7   2   0   0]\n",
      " [  0   0   0   1   0   0   0]]\n",
      "time: 0.00366306304932\n",
      "accuracy: 0.459183673469\n",
      "Confusion matrix, without normalization\n",
      "[[  0   0   1   1   0   0]\n",
      " [  0   2  19   5   1   0]\n",
      " [  0   0 112  79   9   2]\n",
      " [  0   2  72 101  19   1]\n",
      " [  0   0   9  32  10   0]\n",
      " [  0   0   8   3   2   0]]\n",
      "time: 0.00358605384827\n",
      "accuracy: 0.424489795918\n",
      "Confusion matrix, without normalization\n",
      "[[  1   7   4   0   0]\n",
      " [  1  84  74   4   0]\n",
      " [  2  67 105  18   0]\n",
      " [  0  19  65  18   0]\n",
      " [  0   3  15   3   0]]\n",
      "time: 0.00380182266235\n",
      "accuracy: 0.459183673469\n",
      "Confusion matrix, without normalization\n",
      "[[  0   0   1   3   0   0]\n",
      " [  0   1   4   3   1   0]\n",
      " [  0   3  43  42   8   3]\n",
      " [  0   6  48 148  37   2]\n",
      " [  0   0  15  64  33   0]\n",
      " [  0   0   5  12   8   0]]\n",
      "time: 0.00364995002747\n",
      "accuracy: 0.430612244898\n",
      "Confusion matrix, without normalization\n",
      "[[  0   0   1   0   0   0]\n",
      " [  0   0   1  11   0   0]\n",
      " [  0   3  52  66   6   0]\n",
      " [  0   2  57 141  15   1]\n",
      " [  0   0  21  73  18   0]\n",
      " [  0   0   1  15   6   0]]\n",
      "time: 0.00374579429626\n",
      "accuracy: 0.492842535787\n",
      "Confusion matrix, without normalization\n",
      "[[  0   8   3   4   0]\n",
      " [  3  70  62  15   0]\n",
      " [  0  50 150  37   0]\n",
      " [  0  11  40  21   0]\n",
      " [  0   8   7   0   0]]\n",
      "time: 0.00385403633118\n",
      "accuracy: 0.470347648262\n",
      "Confusion matrix, without normalization\n",
      "[[  0   0   1   0   0   0]\n",
      " [  0   1   6   2   1   0]\n",
      " [  0   1  51  54  10   0]\n",
      " [  0   0  66 161  52   0]\n",
      " [  0   0   8  53  17   0]\n",
      " [  0   0   0   4   1   0]]\n"
     ]
    }
   ],
   "source": [
    "knn_model_with10N_kfold('kd_tree','manhattan')"
   ]
  },
  {
   "cell_type": "markdown",
   "metadata": {},
   "source": [
    "## 2.5 using k-fold cross validate with Euclidean distance"
   ]
  },
  {
   "cell_type": "code",
   "execution_count": 132,
   "metadata": {
    "collapsed": false
   },
   "outputs": [
    {
     "name": "stdout",
     "output_type": "stream",
     "text": [
      "time: 0.00397396087646\n",
      "accuracy: 0.4\n",
      "Confusion matrix, without normalization\n",
      "[[  0   1   2   1   0   0]\n",
      " [  0   2   6   8   0   0]\n",
      " [  0   2  61  88  11   1]\n",
      " [  0   1  73 127  12   0]\n",
      " [  0   0  17  54   6   1]\n",
      " [  0   0   1  10   5   0]]\n",
      "time: 0.00357604026794\n",
      "accuracy: 0.418367346939\n",
      "Confusion matrix, without normalization\n",
      "[[  0   1   0   1   0   0   0]\n",
      " [  0   3   9   6   1   0   0]\n",
      " [  0   3  81  60   4   0   0]\n",
      " [  0   2  70 102  15   2   0]\n",
      " [  0   0  21  65  19   0   0]\n",
      " [  0   0   7  13   1   0   0]\n",
      " [  0   0   2   2   0   0   0]]\n",
      "time: 0.00354695320129\n",
      "accuracy: 0.383673469388\n",
      "Confusion matrix, without normalization\n",
      "[[  0   0   1   2   0   0]\n",
      " [  0   0  13   8   1   0]\n",
      " [  0   2  61  65   9   0]\n",
      " [  0   1  68 116  21   0]\n",
      " [  0   1  20  64  11   0]\n",
      " [  0   0   5  15   6   0]]\n",
      "time: 0.00488209724426\n",
      "accuracy: 0.402040816327\n",
      "Confusion matrix, without normalization\n",
      "[[  0   0   2   1   0   0   0]\n",
      " [  0   1  10   8   2   0   0]\n",
      " [  0   4  63  69  12   4   0]\n",
      " [  0   1  91 120  14   2   0]\n",
      " [  0   1  23  37  13   0   0]\n",
      " [  0   0   4   5   2   0   0]\n",
      " [  0   0   0   1   0   0   0]]\n",
      "time: 0.00380921363831\n",
      "accuracy: 0.455102040816\n",
      "Confusion matrix, without normalization\n",
      "[[  0   0   1   1   0   0]\n",
      " [  0   2  17   7   1   0]\n",
      " [  0   1  96  84  19   2]\n",
      " [  0   2  65 113  14   1]\n",
      " [  0   0   8  31  12   0]\n",
      " [  0   0   3   9   1   0]]\n",
      "time: 0.00534200668335\n",
      "accuracy: 0.412244897959\n",
      "Confusion matrix, without normalization\n",
      "[[  0   8   4   0   0]\n",
      " [  0  83  74   6   0]\n",
      " [  2  70 102  17   1]\n",
      " [  0  13  72  17   0]\n",
      " [  0   2  18   1   0]]\n",
      "time: 0.00381994247437\n",
      "accuracy: 0.430612244898\n",
      "Confusion matrix, without normalization\n",
      "[[  0   0   1   2   1   0]\n",
      " [  0   1   5   3   0   0]\n",
      " [  0   4  37  46   9   3]\n",
      " [  0   7  46 145  41   2]\n",
      " [  0   1  19  65  27   0]\n",
      " [  0   0   5  11   8   1]]\n",
      "time: 0.00443601608276\n",
      "accuracy: 0.432653061224\n",
      "Confusion matrix, without normalization\n",
      "[[  0   0   1   0   0   0]\n",
      " [  0   0   3   9   0   0]\n",
      " [  0   1  50  71   5   0]\n",
      " [  0   1  50 145  19   1]\n",
      " [  0   0  21  74  17   0]\n",
      " [  0   0   4  13   5   0]]\n",
      "time: 0.003662109375\n",
      "accuracy: 0.464212678937\n",
      "Confusion matrix, without normalization\n",
      "[[  0   9   5   1   0]\n",
      " [  2  68  67  13   0]\n",
      " [  1  47 145  44   0]\n",
      " [  0  25  33  14   0]\n",
      " [  0   9   6   0   0]]\n",
      "time: 0.00354218482971\n",
      "accuracy: 0.456032719836\n",
      "Confusion matrix, without normalization\n",
      "[[  0   0   1   0   0   0]\n",
      " [  0   1   6   2   1   0]\n",
      " [  0   0  48  63   5   0]\n",
      " [  0   0  65 162  52   0]\n",
      " [  0   1  11  54  12   0]\n",
      " [  0   0   0   4   1   0]]\n"
     ]
    }
   ],
   "source": [
    "knn_model_with10N_kfold('kd_tree','euclidean')"
   ]
  },
  {
   "cell_type": "markdown",
   "metadata": {},
   "source": [
    "## using k-fold cross validate with chebyshev distance"
   ]
  },
  {
   "cell_type": "code",
   "execution_count": 133,
   "metadata": {
    "collapsed": false
   },
   "outputs": [
    {
     "name": "stdout",
     "output_type": "stream",
     "text": [
      "time: 0.00505685806274\n",
      "accuracy: 0.40612244898\n",
      "Confusion matrix, without normalization\n",
      "[[  0   1   2   1   0   0]\n",
      " [  0   1   6   9   0   0]\n",
      " [  0   0  59  93  10   1]\n",
      " [  0   2  66 129  16   0]\n",
      " [  0   1  18  49  10   0]\n",
      " [  0   0   1  10   5   0]]\n",
      "time: 0.00255393981934\n",
      "accuracy: 0.40612244898\n",
      "Confusion matrix, without normalization\n",
      "[[ 0  1  0  1  0  0  0]\n",
      " [ 0  0 10  9  0  0  0]\n",
      " [ 0  5 78 60  5  0  0]\n",
      " [ 0  1 71 99 18  2  0]\n",
      " [ 0  0 17 66 22  0  0]\n",
      " [ 0  0  4 16  1  0  0]\n",
      " [ 0  0  1  3  0  0  0]]\n",
      "time: 0.00316500663757\n",
      "accuracy: 0.391836734694\n",
      "Confusion matrix, without normalization\n",
      "[[  0   0   1   2   0   0]\n",
      " [  0   1  11   9   1   0]\n",
      " [  0   2  58  68   9   0]\n",
      " [  0   0  71 121  14   0]\n",
      " [  0   2  19  63  12   0]\n",
      " [  0   0   5  16   5   0]]\n",
      "time: 0.0027379989624\n",
      "accuracy: 0.4\n",
      "Confusion matrix, without normalization\n",
      "[[  0   0   2   1   0   0   0]\n",
      " [  0   2  10   8   1   0   0]\n",
      " [  0   7  65  65  13   2   0]\n",
      " [  0   1  86 121  18   2   0]\n",
      " [  0   0  24  42   8   0   0]\n",
      " [  0   0   5   3   3   0   0]\n",
      " [  0   0   0   1   0   0   0]]\n",
      "time: 0.00275301933289\n",
      "accuracy: 0.448979591837\n",
      "Confusion matrix, without normalization\n",
      "[[  0   0   2   0   0   0]\n",
      " [  0   2  17   7   1   0]\n",
      " [  0   0  93  92  15   2]\n",
      " [  0   0  65 114  15   1]\n",
      " [  0   0   7  33  11   0]\n",
      " [  0   0   2  11   0   0]]\n",
      "time: 0.00327110290527\n",
      "accuracy: 0.385714285714\n",
      "Confusion matrix, without normalization\n",
      "[[  0   8   4   0   0]\n",
      " [  0  62  92   9   0]\n",
      " [  2  63 113  14   0]\n",
      " [  0  14  74  14   0]\n",
      " [  2   3  15   1   0]]\n",
      "time: 0.00279998779297\n",
      "accuracy: 0.420408163265\n",
      "Confusion matrix, without normalization\n",
      "[[  0   0   1   2   1   0]\n",
      " [  0   1   4   4   0   0]\n",
      " [  0   4  35  51   9   0]\n",
      " [  0   5  50 151  33   2]\n",
      " [  0   1  20  73  18   0]\n",
      " [  0   1   4  14   5   1]]\n",
      "time: 0.00254797935486\n",
      "accuracy: 0.444897959184\n",
      "Confusion matrix, without normalization\n",
      "[[  0   0   1   0   0   0]\n",
      " [  0   0   5   7   0   0]\n",
      " [  0   0  58  65   4   0]\n",
      " [  0   1  41 153  19   2]\n",
      " [  0   0  24  81   7   0]\n",
      " [  0   0   3  12   7   0]]\n",
      "time: 0.00402402877808\n",
      "accuracy: 0.460122699387\n",
      "Confusion matrix, without normalization\n",
      "[[  1   8   5   1   0]\n",
      " [  2  71  64  13   0]\n",
      " [  0  48 143  45   1]\n",
      " [  0  19  42  10   1]\n",
      " [  0   9   3   3   0]]\n",
      "time: 0.00256109237671\n",
      "accuracy: 0.40899795501\n",
      "Confusion matrix, without normalization\n",
      "[[  0   0   1   0   0   0]\n",
      " [  0   0   8   2   0   0]\n",
      " [  0   3  34  66  13   0]\n",
      " [  0   0  64 155  59   1]\n",
      " [  0   0  13  54  11   0]\n",
      " [  0   0   0   4   1   0]]\n"
     ]
    }
   ],
   "source": [
    "knn_model_with10N_kfold('kd_tree','chebyshev')"
   ]
  },
  {
   "cell_type": "markdown",
   "metadata": {},
   "source": [
    "# 2. k-nn use linear search"
   ]
  },
  {
   "cell_type": "markdown",
   "metadata": {},
   "source": [
    "## 2.1 use train and validation set with Manhattan distance"
   ]
  },
  {
   "cell_type": "code",
   "execution_count": 9,
   "metadata": {
    "collapsed": false
   },
   "outputs": [
    {
     "data": {
      "text/plain": [
       "((1018, 11), (3880, 11), (1018,), (3880,))"
      ]
     },
     "execution_count": 9,
     "metadata": {},
     "output_type": "execute_result"
    }
   ],
   "source": [
    "validation_data_np.shape,training_data_np.shape,validation_label.shape,training_label_np.shape"
   ]
  },
  {
   "cell_type": "code",
   "execution_count": 30,
   "metadata": {
    "collapsed": false
   },
   "outputs": [
    {
     "name": "stdout",
     "output_type": "stream",
     "text": [
      "************** neighbours_num= 1  ***************\n",
      "time: 0.00127005577087\n",
      "accuracy: 0.604125736739\n",
      "Confusion matrix, without normalization\n",
      "[[  0   1   1   4   0   0   0]\n",
      " [  0   7  16  12   2   0   0]\n",
      " [  0   7 179  67  23   3   1]\n",
      " [  0   2 110 312  52   9   0]\n",
      " [  0   1  23  41 100   3   0]\n",
      " [  0   0   4  11   9  17   0]\n",
      " [  0   0   0   0   1   0   0]]\n",
      "************** neighbours_num= 2  ***************\n",
      "time: 0.000601053237915\n",
      "accuracy: 0.511787819253\n",
      "Confusion matrix, without normalization\n",
      "[[  0   1   4   1   0   0   0]\n",
      " [  1   8  20   7   1   0   0]\n",
      " [  0  17 200  54   8   1   0]\n",
      " [  0  10 193 257  25   0   0]\n",
      " [  0   2  37  77  52   0   0]\n",
      " [  0   0  12  14  11   4   0]\n",
      " [  0   0   0   1   0   0   0]]\n",
      "************** neighbours_num= 3  ***************\n",
      "time: 0.000591039657593\n",
      "accuracy: 0.501964636542\n",
      "Confusion matrix, without normalization\n",
      "[[  0   1   2   3   0   0   0]\n",
      " [  1   7  20   8   1   0   0]\n",
      " [  1  11 155  95  17   1   0]\n",
      " [  0  11 132 283  56   3   0]\n",
      " [  1   4  41  58  61   3   0]\n",
      " [  0   2  11  15   8   5   0]\n",
      " [  0   0   0   1   0   0   0]]\n",
      "************** neighbours_num= 4  ***************\n",
      "time: 0.000669956207275\n",
      "accuracy: 0.507858546169\n",
      "Confusion matrix, without normalization\n",
      "[[  0   1   3   2   0   0   0]\n",
      " [  0   4  21   8   4   0   0]\n",
      " [  0   6 173  81  18   2   0]\n",
      " [  0   6 145 279  50   5   0]\n",
      " [  0   2  31  72  58   5   0]\n",
      " [  0   2  10  15  11   3   0]\n",
      " [  0   0   0   1   0   0   0]]\n",
      "************** neighbours_num= 5  ***************\n",
      "time: 0.000654935836792\n",
      "accuracy: 0.495088408644\n",
      "Confusion matrix, without normalization\n",
      "[[  0   1   3   2   0   0   0]\n",
      " [  0   4  21   9   3   0   0]\n",
      " [  1   5 152 107  13   2   0]\n",
      " [  0   7 134 290  52   2   0]\n",
      " [  0   1  37  70  55   5   0]\n",
      " [  0   0  12  16  10   3   0]\n",
      " [  0   0   0   1   0   0   0]]\n",
      "************** neighbours_num= 6  ***************\n",
      "time: 0.000886917114258\n",
      "accuracy: 0.48231827112\n",
      "Confusion matrix, without normalization\n",
      "[[  0   1   2   3   0   0   0]\n",
      " [  0   4  22   8   3   0   0]\n",
      " [  1   3 163  94  18   1   0]\n",
      " [  0   7 150 270  54   4   0]\n",
      " [  0   1  41  73  51   2   0]\n",
      " [  0   0  11  16  11   3   0]\n",
      " [  0   0   0   1   0   0   0]]\n",
      "************** neighbours_num= 7  ***************\n",
      "time: 0.00068998336792\n",
      "accuracy: 0.486247544204\n",
      "Confusion matrix, without normalization\n",
      "[[  0   1   3   2   0   0   0]\n",
      " [  0   4  22   8   3   0   0]\n",
      " [  1   4 158  97  20   0   0]\n",
      " [  0   3 140 286  54   2   0]\n",
      " [  0   1  38  84  44   1   0]\n",
      " [  0   0   9  18  11   3   0]\n",
      " [  0   0   0   1   0   0   0]]\n",
      "************** neighbours_num= 8  ***************\n",
      "time: 0.000656127929688\n",
      "accuracy: 0.472495088409\n",
      "Confusion matrix, without normalization\n",
      "[[  0   0   4   2   0   0   0]\n",
      " [  0   2  23  11   1   0   0]\n",
      " [  0   3 153 102  20   2   0]\n",
      " [  0   2 147 280  54   2   0]\n",
      " [  0   0  33  91  43   1   0]\n",
      " [  0   0   8  22   8   3   0]\n",
      " [  0   0   0   0   1   0   0]]\n",
      "************** neighbours_num= 9  ***************\n",
      "time: 0.000638008117676\n",
      "accuracy: 0.456777996071\n",
      "Confusion matrix, without normalization\n",
      "[[  0   0   3   3   0   0   0]\n",
      " [  0   2  23  11   1   0   0]\n",
      " [  0   3 144 110  20   3   0]\n",
      " [  0   3 144 279  57   2   0]\n",
      " [  0   1  32  93  40   2   0]\n",
      " [  0   0   8  24   9   0   0]\n",
      " [  0   0   0   0   1   0   0]]\n",
      "************** neighbours_num= 10  ***************\n",
      "time: 0.000617980957031\n",
      "accuracy: 0.466601178782\n",
      "Confusion matrix, without normalization\n",
      "[[  0   0   3   3   0   0   0]\n",
      " [  0   2  25   9   1   0   0]\n",
      " [  0   3 150 104  19   4   0]\n",
      " [  0   2 142 282  56   3   0]\n",
      " [  0   0  28  99  41   0   0]\n",
      " [  0   0   9  23   9   0   0]\n",
      " [  0   0   0   1   0   0   0]]\n"
     ]
    }
   ],
   "source": [
    "knn_model(11,'brute','manhattan')"
   ]
  },
  {
   "cell_type": "markdown",
   "metadata": {},
   "source": [
    "## 2.2 use train and validation set with euclidean distance"
   ]
  },
  {
   "cell_type": "code",
   "execution_count": 32,
   "metadata": {
    "collapsed": false
   },
   "outputs": [
    {
     "name": "stdout",
     "output_type": "stream",
     "text": [
      "************** neighbours_num= 1  ***************\n",
      "time: 0.00154995918274\n",
      "accuracy: 0.602161100196\n",
      "Confusion matrix, without normalization\n",
      "[[  0   1   2   3   0   0   0]\n",
      " [  1   7  13  13   3   0   0]\n",
      " [  0   7 183  69  19   1   1]\n",
      " [  0   7 105 309  55   9   0]\n",
      " [  0   1  23  43  97   4   0]\n",
      " [  0   0   3  12   9  17   0]\n",
      " [  0   0   0   0   1   0   0]]\n",
      "************** neighbours_num= 2  ***************\n",
      "time: 0.00058913230896\n",
      "accuracy: 0.486247544204\n",
      "Confusion matrix, without normalization\n",
      "[[  0   1   4   1   0   0   0]\n",
      " [  1   8  19   8   1   0   0]\n",
      " [  0  17 201  54   7   1   0]\n",
      " [  0  14 203 239  29   0   0]\n",
      " [  1   1  53  69  43   1   0]\n",
      " [  0   0  12  13  12   4   0]\n",
      " [  0   0   0   1   0   0   0]]\n",
      "************** neighbours_num= 3  ***************\n",
      "time: 0.00103402137756\n",
      "accuracy: 0.481335952849\n",
      "Confusion matrix, without normalization\n",
      "[[  0   1   2   3   0   0   0]\n",
      " [  1   5  23   7   1   0   0]\n",
      " [  1  12 152  97  17   1   0]\n",
      " [  0   8 143 274  59   1   0]\n",
      " [  1   1  45  63  55   3   0]\n",
      " [  0   1   9  16  11   4   0]\n",
      " [  0   0   0   1   0   0   0]]\n",
      "************** neighbours_num= 4  ***************\n",
      "time: 0.00103521347046\n",
      "accuracy: 0.477406679764\n",
      "Confusion matrix, without normalization\n",
      "[[  0   1   4   1   0   0   0]\n",
      " [  1   5  23   7   1   0   0]\n",
      " [  0   9 169  85  16   1   0]\n",
      " [  0   8 164 253  55   5   0]\n",
      " [  0   1  35  71  56   5   0]\n",
      " [  0   0   8  17  13   3   0]\n",
      " [  0   0   0   1   0   0   0]]\n",
      "************** neighbours_num= 5  ***************\n",
      "time: 0.000720024108887\n",
      "accuracy: 0.487229862475\n",
      "Confusion matrix, without normalization\n",
      "[[  0   1   3   2   0   0   0]\n",
      " [  0   5  25   6   1   0   0]\n",
      " [  1   5 151 110  13   0   0]\n",
      " [  0   6 138 282  56   3   0]\n",
      " [  0   1  36  71  55   5   0]\n",
      " [  0   0   8  19  11   3   0]\n",
      " [  0   0   0   1   0   0   0]]\n",
      "************** neighbours_num= 6  ***************\n",
      "time: 0.00068998336792\n",
      "accuracy: 0.468565815324\n",
      "Confusion matrix, without normalization\n",
      "[[  0   1   3   1   1   0   0]\n",
      " [  0   4  23   9   1   0   0]\n",
      " [  1   5 156  96  20   2   0]\n",
      " [  0   7 157 265  52   4   0]\n",
      " [  0   1  33  83  48   3   0]\n",
      " [  0   0  10  19   8   4   0]\n",
      " [  0   0   0   1   0   0   0]]\n",
      "************** neighbours_num= 7  ***************\n",
      "time: 0.000570058822632\n",
      "accuracy: 0.458742632613\n",
      "Confusion matrix, without normalization\n",
      "[[  0   1   3   2   0   0   0]\n",
      " [  0   4  24   8   1   0   0]\n",
      " [  1   2 144 107  24   2   0]\n",
      " [  0   2 150 274  57   2   0]\n",
      " [  0   0  37  84  45   2   0]\n",
      " [  0   0   8  22  11   0   0]\n",
      " [  0   0   0   0   1   0   0]]\n",
      "************** neighbours_num= 8  ***************\n",
      "time: 0.000786066055298\n",
      "accuracy: 0.467583497053\n",
      "Confusion matrix, without normalization\n",
      "[[  0   1   3   2   0   0   0]\n",
      " [  0   2  27   7   1   0   0]\n",
      " [  0   2 148 103  23   4   0]\n",
      " [  0   5 146 282  50   2   0]\n",
      " [  0   1  34  88  43   2   0]\n",
      " [  0   0   9  21  10   1   0]\n",
      " [  0   0   0   0   1   0   0]]\n",
      "************** neighbours_num= 9  ***************\n",
      "time: 0.000550031661987\n",
      "accuracy: 0.461689587426\n",
      "Confusion matrix, without normalization\n",
      "[[  0   2   2   2   0   0   0]\n",
      " [  0   3  23  10   1   0   0]\n",
      " [  0   3 136 115  22   4   0]\n",
      " [  0   5 141 290  46   3   0]\n",
      " [  0   1  32  93  41   1   0]\n",
      " [  0   0   5  24  12   0   0]\n",
      " [  0   0   0   0   1   0   0]]\n",
      "************** neighbours_num= 10  ***************\n",
      "time: 0.000603914260864\n",
      "accuracy: 0.457760314342\n",
      "Confusion matrix, without normalization\n",
      "[[  0   1   2   3   0   0   0]\n",
      " [  0   2  25   9   1   0   0]\n",
      " [  0   3 141 111  21   4   0]\n",
      " [  0   2 138 290  52   3   0]\n",
      " [  0   1  33 102  32   0   0]\n",
      " [  0   0   6  24  10   1   0]\n",
      " [  0   0   0   0   1   0   0]]\n"
     ]
    }
   ],
   "source": [
    "knn_model(11,'brute','euclidean')"
   ]
  },
  {
   "cell_type": "markdown",
   "metadata": {},
   "source": [
    "## 2.3 use train and validation set with cosine distance"
   ]
  },
  {
   "cell_type": "code",
   "execution_count": 43,
   "metadata": {
    "collapsed": false
   },
   "outputs": [
    {
     "data": {
      "text/html": [
       "<div style=\"max-height:1000px;max-width:1500px;overflow:auto;\"><table frame=\"box\" rules=\"cols\">\n",
       "    <tr>\n",
       "        <th style=\"padding-left: 1em; padding-right: 1em; text-align: center\">fixed acidity</th>\n",
       "        <th style=\"padding-left: 1em; padding-right: 1em; text-align: center\">volatile acidity</th>\n",
       "        <th style=\"padding-left: 1em; padding-right: 1em; text-align: center\">citric acid</th>\n",
       "        <th style=\"padding-left: 1em; padding-right: 1em; text-align: center\">residual sugar</th>\n",
       "        <th style=\"padding-left: 1em; padding-right: 1em; text-align: center\">chlorides</th>\n",
       "        <th style=\"padding-left: 1em; padding-right: 1em; text-align: center\">free sulfur dioxide</th>\n",
       "        <th style=\"padding-left: 1em; padding-right: 1em; text-align: center\">total sulfur dioxide</th>\n",
       "    </tr>\n",
       "    <tr>\n",
       "        <td style=\"padding-left: 1em; padding-right: 1em; text-align: center; vertical-align: top\">7.0</td>\n",
       "        <td style=\"padding-left: 1em; padding-right: 1em; text-align: center; vertical-align: top\">0.27</td>\n",
       "        <td style=\"padding-left: 1em; padding-right: 1em; text-align: center; vertical-align: top\">0.36</td>\n",
       "        <td style=\"padding-left: 1em; padding-right: 1em; text-align: center; vertical-align: top\">20.7</td>\n",
       "        <td style=\"padding-left: 1em; padding-right: 1em; text-align: center; vertical-align: top\">0.045</td>\n",
       "        <td style=\"padding-left: 1em; padding-right: 1em; text-align: center; vertical-align: top\">45.0</td>\n",
       "        <td style=\"padding-left: 1em; padding-right: 1em; text-align: center; vertical-align: top\">170.0</td>\n",
       "    </tr>\n",
       "    <tr>\n",
       "        <td style=\"padding-left: 1em; padding-right: 1em; text-align: center; vertical-align: top\">6.3</td>\n",
       "        <td style=\"padding-left: 1em; padding-right: 1em; text-align: center; vertical-align: top\">0.3</td>\n",
       "        <td style=\"padding-left: 1em; padding-right: 1em; text-align: center; vertical-align: top\">0.34</td>\n",
       "        <td style=\"padding-left: 1em; padding-right: 1em; text-align: center; vertical-align: top\">1.6</td>\n",
       "        <td style=\"padding-left: 1em; padding-right: 1em; text-align: center; vertical-align: top\">0.049</td>\n",
       "        <td style=\"padding-left: 1em; padding-right: 1em; text-align: center; vertical-align: top\">14.0</td>\n",
       "        <td style=\"padding-left: 1em; padding-right: 1em; text-align: center; vertical-align: top\">132.0</td>\n",
       "    </tr>\n",
       "    <tr>\n",
       "        <td style=\"padding-left: 1em; padding-right: 1em; text-align: center; vertical-align: top\">8.1</td>\n",
       "        <td style=\"padding-left: 1em; padding-right: 1em; text-align: center; vertical-align: top\">0.28</td>\n",
       "        <td style=\"padding-left: 1em; padding-right: 1em; text-align: center; vertical-align: top\">0.4</td>\n",
       "        <td style=\"padding-left: 1em; padding-right: 1em; text-align: center; vertical-align: top\">6.9</td>\n",
       "        <td style=\"padding-left: 1em; padding-right: 1em; text-align: center; vertical-align: top\">0.05</td>\n",
       "        <td style=\"padding-left: 1em; padding-right: 1em; text-align: center; vertical-align: top\">30.0</td>\n",
       "        <td style=\"padding-left: 1em; padding-right: 1em; text-align: center; vertical-align: top\">97.0</td>\n",
       "    </tr>\n",
       "    <tr>\n",
       "        <td style=\"padding-left: 1em; padding-right: 1em; text-align: center; vertical-align: top\">7.2</td>\n",
       "        <td style=\"padding-left: 1em; padding-right: 1em; text-align: center; vertical-align: top\">0.23</td>\n",
       "        <td style=\"padding-left: 1em; padding-right: 1em; text-align: center; vertical-align: top\">0.32</td>\n",
       "        <td style=\"padding-left: 1em; padding-right: 1em; text-align: center; vertical-align: top\">8.5</td>\n",
       "        <td style=\"padding-left: 1em; padding-right: 1em; text-align: center; vertical-align: top\">0.058</td>\n",
       "        <td style=\"padding-left: 1em; padding-right: 1em; text-align: center; vertical-align: top\">47.0</td>\n",
       "        <td style=\"padding-left: 1em; padding-right: 1em; text-align: center; vertical-align: top\">186.0</td>\n",
       "    </tr>\n",
       "    <tr>\n",
       "        <td style=\"padding-left: 1em; padding-right: 1em; text-align: center; vertical-align: top\">7.2</td>\n",
       "        <td style=\"padding-left: 1em; padding-right: 1em; text-align: center; vertical-align: top\">0.23</td>\n",
       "        <td style=\"padding-left: 1em; padding-right: 1em; text-align: center; vertical-align: top\">0.32</td>\n",
       "        <td style=\"padding-left: 1em; padding-right: 1em; text-align: center; vertical-align: top\">8.5</td>\n",
       "        <td style=\"padding-left: 1em; padding-right: 1em; text-align: center; vertical-align: top\">0.058</td>\n",
       "        <td style=\"padding-left: 1em; padding-right: 1em; text-align: center; vertical-align: top\">47.0</td>\n",
       "        <td style=\"padding-left: 1em; padding-right: 1em; text-align: center; vertical-align: top\">186.0</td>\n",
       "    </tr>\n",
       "    <tr>\n",
       "        <td style=\"padding-left: 1em; padding-right: 1em; text-align: center; vertical-align: top\">8.1</td>\n",
       "        <td style=\"padding-left: 1em; padding-right: 1em; text-align: center; vertical-align: top\">0.28</td>\n",
       "        <td style=\"padding-left: 1em; padding-right: 1em; text-align: center; vertical-align: top\">0.4</td>\n",
       "        <td style=\"padding-left: 1em; padding-right: 1em; text-align: center; vertical-align: top\">6.9</td>\n",
       "        <td style=\"padding-left: 1em; padding-right: 1em; text-align: center; vertical-align: top\">0.05</td>\n",
       "        <td style=\"padding-left: 1em; padding-right: 1em; text-align: center; vertical-align: top\">30.0</td>\n",
       "        <td style=\"padding-left: 1em; padding-right: 1em; text-align: center; vertical-align: top\">97.0</td>\n",
       "    </tr>\n",
       "    <tr>\n",
       "        <td style=\"padding-left: 1em; padding-right: 1em; text-align: center; vertical-align: top\">6.2</td>\n",
       "        <td style=\"padding-left: 1em; padding-right: 1em; text-align: center; vertical-align: top\">0.32</td>\n",
       "        <td style=\"padding-left: 1em; padding-right: 1em; text-align: center; vertical-align: top\">0.16</td>\n",
       "        <td style=\"padding-left: 1em; padding-right: 1em; text-align: center; vertical-align: top\">7.0</td>\n",
       "        <td style=\"padding-left: 1em; padding-right: 1em; text-align: center; vertical-align: top\">0.045</td>\n",
       "        <td style=\"padding-left: 1em; padding-right: 1em; text-align: center; vertical-align: top\">30.0</td>\n",
       "        <td style=\"padding-left: 1em; padding-right: 1em; text-align: center; vertical-align: top\">136.0</td>\n",
       "    </tr>\n",
       "    <tr>\n",
       "        <td style=\"padding-left: 1em; padding-right: 1em; text-align: center; vertical-align: top\">7.0</td>\n",
       "        <td style=\"padding-left: 1em; padding-right: 1em; text-align: center; vertical-align: top\">0.27</td>\n",
       "        <td style=\"padding-left: 1em; padding-right: 1em; text-align: center; vertical-align: top\">0.36</td>\n",
       "        <td style=\"padding-left: 1em; padding-right: 1em; text-align: center; vertical-align: top\">20.7</td>\n",
       "        <td style=\"padding-left: 1em; padding-right: 1em; text-align: center; vertical-align: top\">0.045</td>\n",
       "        <td style=\"padding-left: 1em; padding-right: 1em; text-align: center; vertical-align: top\">45.0</td>\n",
       "        <td style=\"padding-left: 1em; padding-right: 1em; text-align: center; vertical-align: top\">170.0</td>\n",
       "    </tr>\n",
       "    <tr>\n",
       "        <td style=\"padding-left: 1em; padding-right: 1em; text-align: center; vertical-align: top\">8.1</td>\n",
       "        <td style=\"padding-left: 1em; padding-right: 1em; text-align: center; vertical-align: top\">0.27</td>\n",
       "        <td style=\"padding-left: 1em; padding-right: 1em; text-align: center; vertical-align: top\">0.41</td>\n",
       "        <td style=\"padding-left: 1em; padding-right: 1em; text-align: center; vertical-align: top\">1.45</td>\n",
       "        <td style=\"padding-left: 1em; padding-right: 1em; text-align: center; vertical-align: top\">0.033</td>\n",
       "        <td style=\"padding-left: 1em; padding-right: 1em; text-align: center; vertical-align: top\">11.0</td>\n",
       "        <td style=\"padding-left: 1em; padding-right: 1em; text-align: center; vertical-align: top\">63.0</td>\n",
       "    </tr>\n",
       "    <tr>\n",
       "        <td style=\"padding-left: 1em; padding-right: 1em; text-align: center; vertical-align: top\">8.6</td>\n",
       "        <td style=\"padding-left: 1em; padding-right: 1em; text-align: center; vertical-align: top\">0.23</td>\n",
       "        <td style=\"padding-left: 1em; padding-right: 1em; text-align: center; vertical-align: top\">0.4</td>\n",
       "        <td style=\"padding-left: 1em; padding-right: 1em; text-align: center; vertical-align: top\">4.2</td>\n",
       "        <td style=\"padding-left: 1em; padding-right: 1em; text-align: center; vertical-align: top\">0.035</td>\n",
       "        <td style=\"padding-left: 1em; padding-right: 1em; text-align: center; vertical-align: top\">17.0</td>\n",
       "        <td style=\"padding-left: 1em; padding-right: 1em; text-align: center; vertical-align: top\">109.0</td>\n",
       "    </tr>\n",
       "</table>\n",
       "<table frame=\"box\" rules=\"cols\">\n",
       "    <tr>\n",
       "        <th style=\"padding-left: 1em; padding-right: 1em; text-align: center\">density</th>\n",
       "        <th style=\"padding-left: 1em; padding-right: 1em; text-align: center\">pH</th>\n",
       "        <th style=\"padding-left: 1em; padding-right: 1em; text-align: center\">sulphates</th>\n",
       "        <th style=\"padding-left: 1em; padding-right: 1em; text-align: center\">alcohol</th>\n",
       "    </tr>\n",
       "    <tr>\n",
       "        <td style=\"padding-left: 1em; padding-right: 1em; text-align: center; vertical-align: top\">1.001</td>\n",
       "        <td style=\"padding-left: 1em; padding-right: 1em; text-align: center; vertical-align: top\">3.0</td>\n",
       "        <td style=\"padding-left: 1em; padding-right: 1em; text-align: center; vertical-align: top\">0.45</td>\n",
       "        <td style=\"padding-left: 1em; padding-right: 1em; text-align: center; vertical-align: top\">8.8</td>\n",
       "    </tr>\n",
       "    <tr>\n",
       "        <td style=\"padding-left: 1em; padding-right: 1em; text-align: center; vertical-align: top\">0.994</td>\n",
       "        <td style=\"padding-left: 1em; padding-right: 1em; text-align: center; vertical-align: top\">3.3</td>\n",
       "        <td style=\"padding-left: 1em; padding-right: 1em; text-align: center; vertical-align: top\">0.49</td>\n",
       "        <td style=\"padding-left: 1em; padding-right: 1em; text-align: center; vertical-align: top\">9.5</td>\n",
       "    </tr>\n",
       "    <tr>\n",
       "        <td style=\"padding-left: 1em; padding-right: 1em; text-align: center; vertical-align: top\">0.9951</td>\n",
       "        <td style=\"padding-left: 1em; padding-right: 1em; text-align: center; vertical-align: top\">3.26</td>\n",
       "        <td style=\"padding-left: 1em; padding-right: 1em; text-align: center; vertical-align: top\">0.44</td>\n",
       "        <td style=\"padding-left: 1em; padding-right: 1em; text-align: center; vertical-align: top\">10.1</td>\n",
       "    </tr>\n",
       "    <tr>\n",
       "        <td style=\"padding-left: 1em; padding-right: 1em; text-align: center; vertical-align: top\">0.9956</td>\n",
       "        <td style=\"padding-left: 1em; padding-right: 1em; text-align: center; vertical-align: top\">3.19</td>\n",
       "        <td style=\"padding-left: 1em; padding-right: 1em; text-align: center; vertical-align: top\">0.4</td>\n",
       "        <td style=\"padding-left: 1em; padding-right: 1em; text-align: center; vertical-align: top\">9.9</td>\n",
       "    </tr>\n",
       "    <tr>\n",
       "        <td style=\"padding-left: 1em; padding-right: 1em; text-align: center; vertical-align: top\">0.9956</td>\n",
       "        <td style=\"padding-left: 1em; padding-right: 1em; text-align: center; vertical-align: top\">3.19</td>\n",
       "        <td style=\"padding-left: 1em; padding-right: 1em; text-align: center; vertical-align: top\">0.4</td>\n",
       "        <td style=\"padding-left: 1em; padding-right: 1em; text-align: center; vertical-align: top\">9.9</td>\n",
       "    </tr>\n",
       "    <tr>\n",
       "        <td style=\"padding-left: 1em; padding-right: 1em; text-align: center; vertical-align: top\">0.9951</td>\n",
       "        <td style=\"padding-left: 1em; padding-right: 1em; text-align: center; vertical-align: top\">3.26</td>\n",
       "        <td style=\"padding-left: 1em; padding-right: 1em; text-align: center; vertical-align: top\">0.44</td>\n",
       "        <td style=\"padding-left: 1em; padding-right: 1em; text-align: center; vertical-align: top\">10.1</td>\n",
       "    </tr>\n",
       "    <tr>\n",
       "        <td style=\"padding-left: 1em; padding-right: 1em; text-align: center; vertical-align: top\">0.9949</td>\n",
       "        <td style=\"padding-left: 1em; padding-right: 1em; text-align: center; vertical-align: top\">3.18</td>\n",
       "        <td style=\"padding-left: 1em; padding-right: 1em; text-align: center; vertical-align: top\">0.47</td>\n",
       "        <td style=\"padding-left: 1em; padding-right: 1em; text-align: center; vertical-align: top\">9.6</td>\n",
       "    </tr>\n",
       "    <tr>\n",
       "        <td style=\"padding-left: 1em; padding-right: 1em; text-align: center; vertical-align: top\">1.001</td>\n",
       "        <td style=\"padding-left: 1em; padding-right: 1em; text-align: center; vertical-align: top\">3.0</td>\n",
       "        <td style=\"padding-left: 1em; padding-right: 1em; text-align: center; vertical-align: top\">0.45</td>\n",
       "        <td style=\"padding-left: 1em; padding-right: 1em; text-align: center; vertical-align: top\">8.8</td>\n",
       "    </tr>\n",
       "    <tr>\n",
       "        <td style=\"padding-left: 1em; padding-right: 1em; text-align: center; vertical-align: top\">0.9908</td>\n",
       "        <td style=\"padding-left: 1em; padding-right: 1em; text-align: center; vertical-align: top\">2.99</td>\n",
       "        <td style=\"padding-left: 1em; padding-right: 1em; text-align: center; vertical-align: top\">0.56</td>\n",
       "        <td style=\"padding-left: 1em; padding-right: 1em; text-align: center; vertical-align: top\">12.0</td>\n",
       "    </tr>\n",
       "    <tr>\n",
       "        <td style=\"padding-left: 1em; padding-right: 1em; text-align: center; vertical-align: top\">0.9947</td>\n",
       "        <td style=\"padding-left: 1em; padding-right: 1em; text-align: center; vertical-align: top\">3.14</td>\n",
       "        <td style=\"padding-left: 1em; padding-right: 1em; text-align: center; vertical-align: top\">0.53</td>\n",
       "        <td style=\"padding-left: 1em; padding-right: 1em; text-align: center; vertical-align: top\">9.7</td>\n",
       "    </tr>\n",
       "</table>\n",
       "[3880 rows x 11 columns]<br/>Note: Only the head of the SFrame is printed.<br/>You can use print_rows(num_rows=m, num_columns=n) to print more rows and columns.\n",
       "</div>"
      ],
      "text/plain": [
       "Columns:\n",
       "\tfixed acidity\tfloat\n",
       "\tvolatile acidity\tfloat\n",
       "\tcitric acid\tfloat\n",
       "\tresidual sugar\tfloat\n",
       "\tchlorides\tfloat\n",
       "\tfree sulfur dioxide\tfloat\n",
       "\ttotal sulfur dioxide\tfloat\n",
       "\tdensity\tfloat\n",
       "\tpH\tfloat\n",
       "\tsulphates\tfloat\n",
       "\talcohol\tfloat\n",
       "\n",
       "Rows: 3880\n",
       "\n",
       "Data:\n",
       "+---------------+------------------+-------------+----------------+-----------+\n",
       "| fixed acidity | volatile acidity | citric acid | residual sugar | chlorides |\n",
       "+---------------+------------------+-------------+----------------+-----------+\n",
       "|      7.0      |       0.27       |     0.36    |      20.7      |   0.045   |\n",
       "|      6.3      |       0.3        |     0.34    |      1.6       |   0.049   |\n",
       "|      8.1      |       0.28       |     0.4     |      6.9       |    0.05   |\n",
       "|      7.2      |       0.23       |     0.32    |      8.5       |   0.058   |\n",
       "|      7.2      |       0.23       |     0.32    |      8.5       |   0.058   |\n",
       "|      8.1      |       0.28       |     0.4     |      6.9       |    0.05   |\n",
       "|      6.2      |       0.32       |     0.16    |      7.0       |   0.045   |\n",
       "|      7.0      |       0.27       |     0.36    |      20.7      |   0.045   |\n",
       "|      8.1      |       0.27       |     0.41    |      1.45      |   0.033   |\n",
       "|      8.6      |       0.23       |     0.4     |      4.2       |   0.035   |\n",
       "+---------------+------------------+-------------+----------------+-----------+\n",
       "+---------------------+----------------------+---------+------+-----------+---------+\n",
       "| free sulfur dioxide | total sulfur dioxide | density |  pH  | sulphates | alcohol |\n",
       "+---------------------+----------------------+---------+------+-----------+---------+\n",
       "|         45.0        |        170.0         |  1.001  | 3.0  |    0.45   |   8.8   |\n",
       "|         14.0        |        132.0         |  0.994  | 3.3  |    0.49   |   9.5   |\n",
       "|         30.0        |         97.0         |  0.9951 | 3.26 |    0.44   |   10.1  |\n",
       "|         47.0        |        186.0         |  0.9956 | 3.19 |    0.4    |   9.9   |\n",
       "|         47.0        |        186.0         |  0.9956 | 3.19 |    0.4    |   9.9   |\n",
       "|         30.0        |         97.0         |  0.9951 | 3.26 |    0.44   |   10.1  |\n",
       "|         30.0        |        136.0         |  0.9949 | 3.18 |    0.47   |   9.6   |\n",
       "|         45.0        |        170.0         |  1.001  | 3.0  |    0.45   |   8.8   |\n",
       "|         11.0        |         63.0         |  0.9908 | 2.99 |    0.56   |   12.0  |\n",
       "|         17.0        |        109.0         |  0.9947 | 3.14 |    0.53   |   9.7   |\n",
       "+---------------------+----------------------+---------+------+-----------+---------+\n",
       "[3880 rows x 11 columns]\n",
       "Note: Only the head of the SFrame is printed.\n",
       "You can use print_rows(num_rows=m, num_columns=n) to print more rows and columns."
      ]
     },
     "execution_count": 43,
     "metadata": {},
     "output_type": "execute_result"
    }
   ],
   "source": [
    "train_data"
   ]
  },
  {
   "cell_type": "code",
   "execution_count": 95,
   "metadata": {
    "collapsed": false
   },
   "outputs": [
    {
     "data": {
      "text/html": [
       "<pre>Starting brute force nearest neighbors model training.</pre>"
      ],
      "text/plain": [
       "Starting brute force nearest neighbors model training."
      ]
     },
     "metadata": {},
     "output_type": "display_data"
    },
    {
     "name": "stdout",
     "output_type": "stream",
     "text": [
      "Class                                : NearestNeighborClassifier\n",
      "\n",
      "Schema\n",
      "------\n",
      "Number of examples                   : 3880\n",
      "Number of feature columns            : 11\n",
      "Number of unpacked features          : 11\n",
      "Number of distance components        : 1\n",
      "Number of classes                    : 7\n",
      "\n",
      "Training Summary\n",
      "----------------\n",
      "Training time (seconds)              : 0.0836\n",
      "\n"
     ]
    }
   ],
   "source": [
    "knn = graphlab.nearest_neighbor_classifier.create(train_data,target='quality',distance='cosine')\n",
    "knn.summary()"
   ]
  },
  {
   "cell_type": "code",
   "execution_count": 140,
   "metadata": {
    "collapsed": false
   },
   "outputs": [
    {
     "name": "stdout",
     "output_type": "stream",
     "text": [
      "WARNING: Ignoring `roc_curve`. Not supported for multi-class classification.\n"
     ]
    },
    {
     "data": {
      "text/html": [
       "<pre>Starting blockwise querying.</pre>"
      ],
      "text/plain": [
       "Starting blockwise querying."
      ]
     },
     "metadata": {},
     "output_type": "display_data"
    },
    {
     "data": {
      "text/html": [
       "<pre>max rows per data block: 8181</pre>"
      ],
      "text/plain": [
       "max rows per data block: 8181"
      ]
     },
     "metadata": {},
     "output_type": "display_data"
    },
    {
     "data": {
      "text/html": [
       "<pre>number of reference data blocks: 4</pre>"
      ],
      "text/plain": [
       "number of reference data blocks: 4"
      ]
     },
     "metadata": {},
     "output_type": "display_data"
    },
    {
     "data": {
      "text/html": [
       "<pre>number of query data blocks: 1</pre>"
      ],
      "text/plain": [
       "number of query data blocks: 1"
      ]
     },
     "metadata": {},
     "output_type": "display_data"
    },
    {
     "data": {
      "text/html": [
       "<pre>+--------------+---------+-------------+--------------+</pre>"
      ],
      "text/plain": [
       "+--------------+---------+-------------+--------------+"
      ]
     },
     "metadata": {},
     "output_type": "display_data"
    },
    {
     "data": {
      "text/html": [
       "<pre>| Query points | # Pairs | % Complete. | Elapsed Time |</pre>"
      ],
      "text/plain": [
       "| Query points | # Pairs | % Complete. | Elapsed Time |"
      ]
     },
     "metadata": {},
     "output_type": "display_data"
    },
    {
     "data": {
      "text/html": [
       "<pre>+--------------+---------+-------------+--------------+</pre>"
      ],
      "text/plain": [
       "+--------------+---------+-------------+--------------+"
      ]
     },
     "metadata": {},
     "output_type": "display_data"
    },
    {
     "data": {
      "text/html": [
       "<pre>| 1018         | 1121836 | 24.9943     | 250.132ms    |</pre>"
      ],
      "text/plain": [
       "| 1018         | 1121836 | 24.9943     | 250.132ms    |"
      ]
     },
     "metadata": {},
     "output_type": "display_data"
    },
    {
     "data": {
      "text/html": [
       "<pre>| Done         | 4488362 | 100         | 254.912ms    |</pre>"
      ],
      "text/plain": [
       "| Done         | 4488362 | 100         | 254.912ms    |"
      ]
     },
     "metadata": {},
     "output_type": "display_data"
    },
    {
     "data": {
      "text/html": [
       "<pre>+--------------+---------+-------------+--------------+</pre>"
      ],
      "text/plain": [
       "+--------------+---------+-------------+--------------+"
      ]
     },
     "metadata": {},
     "output_type": "display_data"
    },
    {
     "data": {
      "text/html": [
       "<pre>Starting blockwise querying.</pre>"
      ],
      "text/plain": [
       "Starting blockwise querying."
      ]
     },
     "metadata": {},
     "output_type": "display_data"
    },
    {
     "data": {
      "text/html": [
       "<pre>max rows per data block: 8181</pre>"
      ],
      "text/plain": [
       "max rows per data block: 8181"
      ]
     },
     "metadata": {},
     "output_type": "display_data"
    },
    {
     "data": {
      "text/html": [
       "<pre>number of reference data blocks: 4</pre>"
      ],
      "text/plain": [
       "number of reference data blocks: 4"
      ]
     },
     "metadata": {},
     "output_type": "display_data"
    },
    {
     "data": {
      "text/html": [
       "<pre>number of query data blocks: 1</pre>"
      ],
      "text/plain": [
       "number of query data blocks: 1"
      ]
     },
     "metadata": {},
     "output_type": "display_data"
    },
    {
     "data": {
      "text/html": [
       "<pre>+--------------+---------+-------------+--------------+</pre>"
      ],
      "text/plain": [
       "+--------------+---------+-------------+--------------+"
      ]
     },
     "metadata": {},
     "output_type": "display_data"
    },
    {
     "data": {
      "text/html": [
       "<pre>| Query points | # Pairs | % Complete. | Elapsed Time |</pre>"
      ],
      "text/plain": [
       "| Query points | # Pairs | % Complete. | Elapsed Time |"
      ]
     },
     "metadata": {},
     "output_type": "display_data"
    },
    {
     "data": {
      "text/html": [
       "<pre>+--------------+---------+-------------+--------------+</pre>"
      ],
      "text/plain": [
       "+--------------+---------+-------------+--------------+"
      ]
     },
     "metadata": {},
     "output_type": "display_data"
    },
    {
     "data": {
      "text/html": [
       "<pre>| 1018         | 1121836 | 24.9943     | 146.488ms    |</pre>"
      ],
      "text/plain": [
       "| 1018         | 1121836 | 24.9943     | 146.488ms    |"
      ]
     },
     "metadata": {},
     "output_type": "display_data"
    },
    {
     "data": {
      "text/html": [
       "<pre>| Done         | 4488362 | 100         | 147.729ms    |</pre>"
      ],
      "text/plain": [
       "| Done         | 4488362 | 100         | 147.729ms    |"
      ]
     },
     "metadata": {},
     "output_type": "display_data"
    },
    {
     "data": {
      "text/html": [
       "<pre>+--------------+---------+-------------+--------------+</pre>"
      ],
      "text/plain": [
       "+--------------+---------+-------------+--------------+"
      ]
     },
     "metadata": {},
     "output_type": "display_data"
    },
    {
     "name": "stdout",
     "output_type": "stream",
     "text": [
      "WARNING: Ignoring `roc_curve`. Not supported for multi-class classification.\n"
     ]
    },
    {
     "data": {
      "text/html": [
       "<pre>Starting blockwise querying.</pre>"
      ],
      "text/plain": [
       "Starting blockwise querying."
      ]
     },
     "metadata": {},
     "output_type": "display_data"
    },
    {
     "data": {
      "text/html": [
       "<pre>max rows per data block: 8181</pre>"
      ],
      "text/plain": [
       "max rows per data block: 8181"
      ]
     },
     "metadata": {},
     "output_type": "display_data"
    },
    {
     "data": {
      "text/html": [
       "<pre>number of reference data blocks: 4</pre>"
      ],
      "text/plain": [
       "number of reference data blocks: 4"
      ]
     },
     "metadata": {},
     "output_type": "display_data"
    },
    {
     "data": {
      "text/html": [
       "<pre>number of query data blocks: 1</pre>"
      ],
      "text/plain": [
       "number of query data blocks: 1"
      ]
     },
     "metadata": {},
     "output_type": "display_data"
    },
    {
     "data": {
      "text/html": [
       "<pre>+--------------+---------+-------------+--------------+</pre>"
      ],
      "text/plain": [
       "+--------------+---------+-------------+--------------+"
      ]
     },
     "metadata": {},
     "output_type": "display_data"
    },
    {
     "data": {
      "text/html": [
       "<pre>| Query points | # Pairs | % Complete. | Elapsed Time |</pre>"
      ],
      "text/plain": [
       "| Query points | # Pairs | % Complete. | Elapsed Time |"
      ]
     },
     "metadata": {},
     "output_type": "display_data"
    },
    {
     "data": {
      "text/html": [
       "<pre>+--------------+---------+-------------+--------------+</pre>"
      ],
      "text/plain": [
       "+--------------+---------+-------------+--------------+"
      ]
     },
     "metadata": {},
     "output_type": "display_data"
    },
    {
     "data": {
      "text/html": [
       "<pre>| 1018         | 1121836 | 24.9943     | 142.294ms    |</pre>"
      ],
      "text/plain": [
       "| 1018         | 1121836 | 24.9943     | 142.294ms    |"
      ]
     },
     "metadata": {},
     "output_type": "display_data"
    },
    {
     "data": {
      "text/html": [
       "<pre>| Done         | 4488362 | 100         | 145.955ms    |</pre>"
      ],
      "text/plain": [
       "| Done         | 4488362 | 100         | 145.955ms    |"
      ]
     },
     "metadata": {},
     "output_type": "display_data"
    },
    {
     "data": {
      "text/html": [
       "<pre>+--------------+---------+-------------+--------------+</pre>"
      ],
      "text/plain": [
       "+--------------+---------+-------------+--------------+"
      ]
     },
     "metadata": {},
     "output_type": "display_data"
    },
    {
     "data": {
      "text/html": [
       "<pre>Starting blockwise querying.</pre>"
      ],
      "text/plain": [
       "Starting blockwise querying."
      ]
     },
     "metadata": {},
     "output_type": "display_data"
    },
    {
     "data": {
      "text/html": [
       "<pre>max rows per data block: 8181</pre>"
      ],
      "text/plain": [
       "max rows per data block: 8181"
      ]
     },
     "metadata": {},
     "output_type": "display_data"
    },
    {
     "data": {
      "text/html": [
       "<pre>number of reference data blocks: 4</pre>"
      ],
      "text/plain": [
       "number of reference data blocks: 4"
      ]
     },
     "metadata": {},
     "output_type": "display_data"
    },
    {
     "data": {
      "text/html": [
       "<pre>number of query data blocks: 1</pre>"
      ],
      "text/plain": [
       "number of query data blocks: 1"
      ]
     },
     "metadata": {},
     "output_type": "display_data"
    },
    {
     "data": {
      "text/html": [
       "<pre>+--------------+---------+-------------+--------------+</pre>"
      ],
      "text/plain": [
       "+--------------+---------+-------------+--------------+"
      ]
     },
     "metadata": {},
     "output_type": "display_data"
    },
    {
     "data": {
      "text/html": [
       "<pre>| Query points | # Pairs | % Complete. | Elapsed Time |</pre>"
      ],
      "text/plain": [
       "| Query points | # Pairs | % Complete. | Elapsed Time |"
      ]
     },
     "metadata": {},
     "output_type": "display_data"
    },
    {
     "data": {
      "text/html": [
       "<pre>+--------------+---------+-------------+--------------+</pre>"
      ],
      "text/plain": [
       "+--------------+---------+-------------+--------------+"
      ]
     },
     "metadata": {},
     "output_type": "display_data"
    },
    {
     "data": {
      "text/html": [
       "<pre>| 1018         | 1121836 | 24.9943     | 207.574ms    |</pre>"
      ],
      "text/plain": [
       "| 1018         | 1121836 | 24.9943     | 207.574ms    |"
      ]
     },
     "metadata": {},
     "output_type": "display_data"
    },
    {
     "data": {
      "text/html": [
       "<pre>| Done         | 4488362 | 100         | 230.295ms    |</pre>"
      ],
      "text/plain": [
       "| Done         | 4488362 | 100         | 230.295ms    |"
      ]
     },
     "metadata": {},
     "output_type": "display_data"
    },
    {
     "data": {
      "text/html": [
       "<pre>+--------------+---------+-------------+--------------+</pre>"
      ],
      "text/plain": [
       "+--------------+---------+-------------+--------------+"
      ]
     },
     "metadata": {},
     "output_type": "display_data"
    },
    {
     "data": {
      "text/html": [
       "<pre>Starting blockwise querying.</pre>"
      ],
      "text/plain": [
       "Starting blockwise querying."
      ]
     },
     "metadata": {},
     "output_type": "display_data"
    },
    {
     "data": {
      "text/html": [
       "<pre>max rows per data block: 8181</pre>"
      ],
      "text/plain": [
       "max rows per data block: 8181"
      ]
     },
     "metadata": {},
     "output_type": "display_data"
    },
    {
     "data": {
      "text/html": [
       "<pre>number of reference data blocks: 4</pre>"
      ],
      "text/plain": [
       "number of reference data blocks: 4"
      ]
     },
     "metadata": {},
     "output_type": "display_data"
    },
    {
     "data": {
      "text/html": [
       "<pre>number of query data blocks: 1</pre>"
      ],
      "text/plain": [
       "number of query data blocks: 1"
      ]
     },
     "metadata": {},
     "output_type": "display_data"
    },
    {
     "data": {
      "text/html": [
       "<pre>+--------------+---------+-------------+--------------+</pre>"
      ],
      "text/plain": [
       "+--------------+---------+-------------+--------------+"
      ]
     },
     "metadata": {},
     "output_type": "display_data"
    },
    {
     "data": {
      "text/html": [
       "<pre>| Query points | # Pairs | % Complete. | Elapsed Time |</pre>"
      ],
      "text/plain": [
       "| Query points | # Pairs | % Complete. | Elapsed Time |"
      ]
     },
     "metadata": {},
     "output_type": "display_data"
    },
    {
     "data": {
      "text/html": [
       "<pre>+--------------+---------+-------------+--------------+</pre>"
      ],
      "text/plain": [
       "+--------------+---------+-------------+--------------+"
      ]
     },
     "metadata": {},
     "output_type": "display_data"
    },
    {
     "data": {
      "text/html": [
       "<pre>| 1018         | 1121836 | 24.9943     | 157.042ms    |</pre>"
      ],
      "text/plain": [
       "| 1018         | 1121836 | 24.9943     | 157.042ms    |"
      ]
     },
     "metadata": {},
     "output_type": "display_data"
    },
    {
     "data": {
      "text/html": [
       "<pre>| Done         | 4488362 | 100         | 178.356ms    |</pre>"
      ],
      "text/plain": [
       "| Done         | 4488362 | 100         | 178.356ms    |"
      ]
     },
     "metadata": {},
     "output_type": "display_data"
    },
    {
     "data": {
      "text/html": [
       "<pre>+--------------+---------+-------------+--------------+</pre>"
      ],
      "text/plain": [
       "+--------------+---------+-------------+--------------+"
      ]
     },
     "metadata": {},
     "output_type": "display_data"
    },
    {
     "name": "stdout",
     "output_type": "stream",
     "text": [
      "accuracy: {'accuracy': 0.47544204322200395}\n",
      "confusion_matrix: {'confusion_matrix': Columns:\n",
      "\ttarget_label\tint\n",
      "\tpredicted_label\tint\n",
      "\tcount\tint\n",
      "\n",
      "Rows: 26\n",
      "\n",
      "Data:\n",
      "+--------------+-----------------+-------+\n",
      "| target_label | predicted_label | count |\n",
      "+--------------+-----------------+-------+\n",
      "|      4       |        8        |   1   |\n",
      "|      4       |        7        |   1   |\n",
      "|      6       |        8        |   1   |\n",
      "|      6       |        7        |   55  |\n",
      "|      7       |        8        |   3   |\n",
      "|      8       |        5        |   5   |\n",
      "|      8       |        7        |   12  |\n",
      "|      5       |        6        |  108  |\n",
      "|      5       |        8        |   2   |\n",
      "|      3       |        5        |   2   |\n",
      "+--------------+-----------------+-------+\n",
      "[26 rows x 3 columns]\n",
      "Note: Only the head of the SFrame is printed.\n",
      "You can use print_rows(num_rows=m, num_columns=n) to print more rows and columns.}\n"
     ]
    }
   ],
   "source": [
    "eva1 = knn.evaluate(validation_data,metric='accuracy',max_neighbors=10)\n",
    "eva2 = knn.evaluate(validation_data,metric='confusion_matrix',max_neighbors=10)\n",
    "pre = knn.predict(validation_data,max_neighbors=10)\n",
    "print 'accuracy:', eva\n",
    "print 'confusion_matrix:' ,eva2"
   ]
  },
  {
   "cell_type": "markdown",
   "metadata": {
    "collapsed": false
   },
   "source": [
    "## 2.4 using k-fold cross validate with Manhattan distance\n"
   ]
  },
  {
   "cell_type": "code",
   "execution_count": 134,
   "metadata": {
    "collapsed": false
   },
   "outputs": [
    {
     "name": "stdout",
     "output_type": "stream",
     "text": [
      "time: 0.000869989395142\n",
      "accuracy: 0.39387755102\n",
      "Confusion matrix, without normalization\n",
      "[[  0   1   1   2   0   0]\n",
      " [  0   2   5   9   0   0]\n",
      " [  1   1  69  83   8   1]\n",
      " [  0   1  80 113  19   0]\n",
      " [  0   0  13  56   9   0]\n",
      " [  0   0   1  10   5   0]]\n",
      "time: 0.000609159469604\n",
      "accuracy: 0.416326530612\n",
      "Confusion matrix, without normalization\n",
      "[[ 0  0  1  1  0  0  0]\n",
      " [ 0  2 11  6  0  0  0]\n",
      " [ 0  3 90 54  1  0  0]\n",
      " [ 0  2 77 95 15  2  0]\n",
      " [ 0  0 25 63 17  0  0]\n",
      " [ 0  0  7 12  2  0  0]\n",
      " [ 0  0  1  3  0  0  0]]\n",
      "time: 0.000692844390869\n",
      "accuracy: 0.40612244898\n",
      "Confusion matrix, without normalization\n",
      "[[  0   0   1   2   0   0]\n",
      " [  0   0  11  10   1   0]\n",
      " [  0   2  66  60   9   0]\n",
      " [  0   1  68 121  16   0]\n",
      " [  0   0  22  62  12   0]\n",
      " [  0   0   4  16   6   0]]\n",
      "time: 0.00140881538391\n",
      "accuracy: 0.414285714286\n",
      "Confusion matrix, without normalization\n",
      "[[  0   0   3   0   0   0   0]\n",
      " [  0   1  11   8   1   0   0]\n",
      " [  0   2  65  76   7   2   0]\n",
      " [  0   1  87 124  15   1   0]\n",
      " [  0   1  20  40  13   0   0]\n",
      " [  0   0   2   7   2   0   0]\n",
      " [  0   0   0   1   0   0   0]]\n",
      "time: 0.00065279006958\n",
      "accuracy: 0.459183673469\n",
      "Confusion matrix, without normalization\n",
      "[[  0   0   1   1   0   0]\n",
      " [  0   2  19   5   1   0]\n",
      " [  0   0 112  79   9   2]\n",
      " [  0   2  72 101  19   1]\n",
      " [  0   0   9  32  10   0]\n",
      " [  0   0   8   3   2   0]]\n",
      "time: 0.000612020492554\n",
      "accuracy: 0.424489795918\n",
      "Confusion matrix, without normalization\n",
      "[[  1   7   4   0   0]\n",
      " [  1  84  74   4   0]\n",
      " [  2  67 105  18   0]\n",
      " [  0  19  65  18   0]\n",
      " [  0   3  15   3   0]]\n",
      "time: 0.000609874725342\n",
      "accuracy: 0.459183673469\n",
      "Confusion matrix, without normalization\n",
      "[[  0   0   1   3   0   0]\n",
      " [  0   1   4   3   1   0]\n",
      " [  0   3  43  42   8   3]\n",
      " [  0   6  48 148  37   2]\n",
      " [  0   0  15  64  33   0]\n",
      " [  0   0   5  12   8   0]]\n",
      "time: 0.00149607658386\n",
      "accuracy: 0.430612244898\n",
      "Confusion matrix, without normalization\n",
      "[[  0   0   1   0   0   0]\n",
      " [  0   0   1  11   0   0]\n",
      " [  0   3  52  66   6   0]\n",
      " [  0   2  57 141  15   1]\n",
      " [  0   0  21  73  18   0]\n",
      " [  0   0   1  15   6   0]]\n",
      "time: 0.000802040100098\n",
      "accuracy: 0.492842535787\n",
      "Confusion matrix, without normalization\n",
      "[[  0   8   3   4   0]\n",
      " [  3  70  62  15   0]\n",
      " [  0  50 150  37   0]\n",
      " [  0  11  40  21   0]\n",
      " [  0   8   7   0   0]]\n",
      "time: 0.00061821937561\n",
      "accuracy: 0.470347648262\n",
      "Confusion matrix, without normalization\n",
      "[[  0   0   1   0   0   0]\n",
      " [  0   1   6   2   1   0]\n",
      " [  0   1  51  54  10   0]\n",
      " [  0   0  66 161  52   0]\n",
      " [  0   0   8  53  17   0]\n",
      " [  0   0   0   4   1   0]]\n"
     ]
    }
   ],
   "source": [
    "knn_model_with10N_kfold('brute','manhattan')"
   ]
  },
  {
   "cell_type": "markdown",
   "metadata": {
    "collapsed": true
   },
   "source": [
    "## 2.5 using k-fold cross validate with euclidean distance"
   ]
  },
  {
   "cell_type": "code",
   "execution_count": 136,
   "metadata": {
    "collapsed": false
   },
   "outputs": [
    {
     "name": "stdout",
     "output_type": "stream",
     "text": [
      "time: 0.00065803527832\n",
      "accuracy: 0.4\n",
      "Confusion matrix, without normalization\n",
      "[[  0   1   2   1   0   0]\n",
      " [  0   2   6   8   0   0]\n",
      " [  0   2  61  88  11   1]\n",
      " [  0   1  73 127  12   0]\n",
      " [  0   0  17  54   6   1]\n",
      " [  0   0   1  10   5   0]]\n",
      "time: 0.00096607208252\n",
      "accuracy: 0.418367346939\n",
      "Confusion matrix, without normalization\n",
      "[[  0   1   0   1   0   0   0]\n",
      " [  0   3   9   6   1   0   0]\n",
      " [  0   3  81  60   4   0   0]\n",
      " [  0   2  70 102  15   2   0]\n",
      " [  0   0  21  65  19   0   0]\n",
      " [  0   0   7  13   1   0   0]\n",
      " [  0   0   2   2   0   0   0]]\n",
      "time: 0.00084400177002\n",
      "accuracy: 0.383673469388\n",
      "Confusion matrix, without normalization\n",
      "[[  0   0   1   2   0   0]\n",
      " [  0   0  13   8   1   0]\n",
      " [  0   2  61  65   9   0]\n",
      " [  0   1  68 116  21   0]\n",
      " [  0   1  20  64  11   0]\n",
      " [  0   0   5  15   6   0]]\n",
      "time: 0.00090503692627\n",
      "accuracy: 0.402040816327\n",
      "Confusion matrix, without normalization\n",
      "[[  0   0   2   1   0   0   0]\n",
      " [  0   1  10   8   2   0   0]\n",
      " [  0   4  63  69  12   4   0]\n",
      " [  0   1  91 120  14   2   0]\n",
      " [  0   1  23  37  13   0   0]\n",
      " [  0   0   4   5   2   0   0]\n",
      " [  0   0   0   1   0   0   0]]\n",
      "time: 0.000897884368896\n",
      "accuracy: 0.455102040816\n",
      "Confusion matrix, without normalization\n",
      "[[  0   0   1   1   0   0]\n",
      " [  0   2  17   7   1   0]\n",
      " [  0   1  96  84  19   2]\n",
      " [  0   2  65 113  14   1]\n",
      " [  0   0   8  31  12   0]\n",
      " [  0   0   3   9   1   0]]\n",
      "time: 0.000630855560303\n",
      "accuracy: 0.412244897959\n",
      "Confusion matrix, without normalization\n",
      "[[  0   8   4   0   0]\n",
      " [  0  83  74   6   0]\n",
      " [  2  70 102  17   1]\n",
      " [  0  13  72  17   0]\n",
      " [  0   2  18   1   0]]\n",
      "time: 0.000890016555786\n",
      "accuracy: 0.430612244898\n",
      "Confusion matrix, without normalization\n",
      "[[  0   0   1   2   1   0]\n",
      " [  0   1   5   3   0   0]\n",
      " [  0   4  37  46   9   3]\n",
      " [  0   7  46 145  41   2]\n",
      " [  0   1  19  65  27   0]\n",
      " [  0   0   5  11   8   1]]\n",
      "time: 0.000811815261841\n",
      "accuracy: 0.432653061224\n",
      "Confusion matrix, without normalization\n",
      "[[  0   0   1   0   0   0]\n",
      " [  0   0   3   9   0   0]\n",
      " [  0   1  50  71   5   0]\n",
      " [  0   1  50 145  19   1]\n",
      " [  0   0  21  74  17   0]\n",
      " [  0   0   4  13   5   0]]\n",
      "time: 0.000615835189819\n",
      "accuracy: 0.464212678937\n",
      "Confusion matrix, without normalization\n",
      "[[  0   9   5   1   0]\n",
      " [  2  68  67  13   0]\n",
      " [  1  47 145  44   0]\n",
      " [  0  25  33  14   0]\n",
      " [  0   9   6   0   0]]\n",
      "time: 0.000607013702393\n",
      "accuracy: 0.456032719836\n",
      "Confusion matrix, without normalization\n",
      "[[  0   0   1   0   0   0]\n",
      " [  0   1   6   2   1   0]\n",
      " [  0   0  48  63   5   0]\n",
      " [  0   0  65 162  52   0]\n",
      " [  0   1  11  54  12   0]\n",
      " [  0   0   0   4   1   0]]\n"
     ]
    }
   ],
   "source": [
    "knn_model_with10N_kfold('brute','euclidean')"
   ]
  },
  {
   "cell_type": "markdown",
   "metadata": {},
   "source": [
    "## 2.6 using k-fold cross validate with cosine distance"
   ]
  },
  {
   "cell_type": "code",
   "execution_count": 139,
   "metadata": {
    "collapsed": false
   },
   "outputs": [
    {
     "data": {
      "text/html": [
       "<pre>Starting brute force nearest neighbors model training.</pre>"
      ],
      "text/plain": [
       "Starting brute force nearest neighbors model training."
      ]
     },
     "metadata": {},
     "output_type": "display_data"
    },
    {
     "name": "stdout",
     "output_type": "stream",
     "text": [
      "Class                                : NearestNeighborClassifier\n",
      "\n",
      "Schema\n",
      "------\n",
      "Number of examples                   : 4408\n",
      "Number of feature columns            : 11\n",
      "Number of unpacked features          : 11\n",
      "Number of distance components        : 1\n",
      "Number of classes                    : 7\n",
      "\n",
      "Training Summary\n",
      "----------------\n",
      "Training time (seconds)              : 0.1879\n",
      "\n",
      "WARNING: Ignoring `roc_curve`. Not supported for multi-class classification.\n"
     ]
    },
    {
     "data": {
      "text/html": [
       "<pre>Starting blockwise querying.</pre>"
      ],
      "text/plain": [
       "Starting blockwise querying."
      ]
     },
     "metadata": {},
     "output_type": "display_data"
    },
    {
     "data": {
      "text/html": [
       "<pre>max rows per data block: 8181</pre>"
      ],
      "text/plain": [
       "max rows per data block: 8181"
      ]
     },
     "metadata": {},
     "output_type": "display_data"
    },
    {
     "data": {
      "text/html": [
       "<pre>number of reference data blocks: 4</pre>"
      ],
      "text/plain": [
       "number of reference data blocks: 4"
      ]
     },
     "metadata": {},
     "output_type": "display_data"
    },
    {
     "data": {
      "text/html": [
       "<pre>number of query data blocks: 1</pre>"
      ],
      "text/plain": [
       "number of query data blocks: 1"
      ]
     },
     "metadata": {},
     "output_type": "display_data"
    },
    {
     "data": {
      "text/html": [
       "<pre>+--------------+---------+-------------+--------------+</pre>"
      ],
      "text/plain": [
       "+--------------+---------+-------------+--------------+"
      ]
     },
     "metadata": {},
     "output_type": "display_data"
    },
    {
     "data": {
      "text/html": [
       "<pre>| Query points | # Pairs | % Complete. | Elapsed Time |</pre>"
      ],
      "text/plain": [
       "| Query points | # Pairs | % Complete. | Elapsed Time |"
      ]
     },
     "metadata": {},
     "output_type": "display_data"
    },
    {
     "data": {
      "text/html": [
       "<pre>+--------------+---------+-------------+--------------+</pre>"
      ],
      "text/plain": [
       "+--------------+---------+-------------+--------------+"
      ]
     },
     "metadata": {},
     "output_type": "display_data"
    },
    {
     "data": {
      "text/html": [
       "<pre>| 490          | 539980  | 25          | 98.948ms     |</pre>"
      ],
      "text/plain": [
       "| 490          | 539980  | 25          | 98.948ms     |"
      ]
     },
     "metadata": {},
     "output_type": "display_data"
    },
    {
     "data": {
      "text/html": [
       "<pre>| Done         | 2159920 | 100         | 107.275ms    |</pre>"
      ],
      "text/plain": [
       "| Done         | 2159920 | 100         | 107.275ms    |"
      ]
     },
     "metadata": {},
     "output_type": "display_data"
    },
    {
     "data": {
      "text/html": [
       "<pre>+--------------+---------+-------------+--------------+</pre>"
      ],
      "text/plain": [
       "+--------------+---------+-------------+--------------+"
      ]
     },
     "metadata": {},
     "output_type": "display_data"
    },
    {
     "data": {
      "text/html": [
       "<pre>Starting blockwise querying.</pre>"
      ],
      "text/plain": [
       "Starting blockwise querying."
      ]
     },
     "metadata": {},
     "output_type": "display_data"
    },
    {
     "data": {
      "text/html": [
       "<pre>max rows per data block: 8181</pre>"
      ],
      "text/plain": [
       "max rows per data block: 8181"
      ]
     },
     "metadata": {},
     "output_type": "display_data"
    },
    {
     "data": {
      "text/html": [
       "<pre>number of reference data blocks: 4</pre>"
      ],
      "text/plain": [
       "number of reference data blocks: 4"
      ]
     },
     "metadata": {},
     "output_type": "display_data"
    },
    {
     "data": {
      "text/html": [
       "<pre>number of query data blocks: 1</pre>"
      ],
      "text/plain": [
       "number of query data blocks: 1"
      ]
     },
     "metadata": {},
     "output_type": "display_data"
    },
    {
     "data": {
      "text/html": [
       "<pre>+--------------+---------+-------------+--------------+</pre>"
      ],
      "text/plain": [
       "+--------------+---------+-------------+--------------+"
      ]
     },
     "metadata": {},
     "output_type": "display_data"
    },
    {
     "data": {
      "text/html": [
       "<pre>| Query points | # Pairs | % Complete. | Elapsed Time |</pre>"
      ],
      "text/plain": [
       "| Query points | # Pairs | % Complete. | Elapsed Time |"
      ]
     },
     "metadata": {},
     "output_type": "display_data"
    },
    {
     "data": {
      "text/html": [
       "<pre>+--------------+---------+-------------+--------------+</pre>"
      ],
      "text/plain": [
       "+--------------+---------+-------------+--------------+"
      ]
     },
     "metadata": {},
     "output_type": "display_data"
    },
    {
     "data": {
      "text/html": [
       "<pre>| 490          | 539980  | 25          | 46.788ms     |</pre>"
      ],
      "text/plain": [
       "| 490          | 539980  | 25          | 46.788ms     |"
      ]
     },
     "metadata": {},
     "output_type": "display_data"
    },
    {
     "data": {
      "text/html": [
       "<pre>| Done         | 2159920 | 100         | 103.728ms    |</pre>"
      ],
      "text/plain": [
       "| Done         | 2159920 | 100         | 103.728ms    |"
      ]
     },
     "metadata": {},
     "output_type": "display_data"
    },
    {
     "data": {
      "text/html": [
       "<pre>+--------------+---------+-------------+--------------+</pre>"
      ],
      "text/plain": [
       "+--------------+---------+-------------+--------------+"
      ]
     },
     "metadata": {},
     "output_type": "display_data"
    },
    {
     "name": "stdout",
     "output_type": "stream",
     "text": [
      "WARNING: Ignoring `roc_curve`. Not supported for multi-class classification.\n"
     ]
    },
    {
     "data": {
      "text/html": [
       "<pre>Starting blockwise querying.</pre>"
      ],
      "text/plain": [
       "Starting blockwise querying."
      ]
     },
     "metadata": {},
     "output_type": "display_data"
    },
    {
     "data": {
      "text/html": [
       "<pre>max rows per data block: 8181</pre>"
      ],
      "text/plain": [
       "max rows per data block: 8181"
      ]
     },
     "metadata": {},
     "output_type": "display_data"
    },
    {
     "data": {
      "text/html": [
       "<pre>number of reference data blocks: 4</pre>"
      ],
      "text/plain": [
       "number of reference data blocks: 4"
      ]
     },
     "metadata": {},
     "output_type": "display_data"
    },
    {
     "data": {
      "text/html": [
       "<pre>number of query data blocks: 1</pre>"
      ],
      "text/plain": [
       "number of query data blocks: 1"
      ]
     },
     "metadata": {},
     "output_type": "display_data"
    },
    {
     "data": {
      "text/html": [
       "<pre>+--------------+---------+-------------+--------------+</pre>"
      ],
      "text/plain": [
       "+--------------+---------+-------------+--------------+"
      ]
     },
     "metadata": {},
     "output_type": "display_data"
    },
    {
     "data": {
      "text/html": [
       "<pre>| Query points | # Pairs | % Complete. | Elapsed Time |</pre>"
      ],
      "text/plain": [
       "| Query points | # Pairs | % Complete. | Elapsed Time |"
      ]
     },
     "metadata": {},
     "output_type": "display_data"
    },
    {
     "data": {
      "text/html": [
       "<pre>+--------------+---------+-------------+--------------+</pre>"
      ],
      "text/plain": [
       "+--------------+---------+-------------+--------------+"
      ]
     },
     "metadata": {},
     "output_type": "display_data"
    },
    {
     "data": {
      "text/html": [
       "<pre>| 490          | 539980  | 25          | 63.859ms     |</pre>"
      ],
      "text/plain": [
       "| 490          | 539980  | 25          | 63.859ms     |"
      ]
     },
     "metadata": {},
     "output_type": "display_data"
    },
    {
     "data": {
      "text/html": [
       "<pre>| Done         | 2159920 | 100         | 100.167ms    |</pre>"
      ],
      "text/plain": [
       "| Done         | 2159920 | 100         | 100.167ms    |"
      ]
     },
     "metadata": {},
     "output_type": "display_data"
    },
    {
     "data": {
      "text/html": [
       "<pre>+--------------+---------+-------------+--------------+</pre>"
      ],
      "text/plain": [
       "+--------------+---------+-------------+--------------+"
      ]
     },
     "metadata": {},
     "output_type": "display_data"
    },
    {
     "data": {
      "text/html": [
       "<pre>Starting blockwise querying.</pre>"
      ],
      "text/plain": [
       "Starting blockwise querying."
      ]
     },
     "metadata": {},
     "output_type": "display_data"
    },
    {
     "data": {
      "text/html": [
       "<pre>max rows per data block: 8181</pre>"
      ],
      "text/plain": [
       "max rows per data block: 8181"
      ]
     },
     "metadata": {},
     "output_type": "display_data"
    },
    {
     "data": {
      "text/html": [
       "<pre>number of reference data blocks: 4</pre>"
      ],
      "text/plain": [
       "number of reference data blocks: 4"
      ]
     },
     "metadata": {},
     "output_type": "display_data"
    },
    {
     "data": {
      "text/html": [
       "<pre>number of query data blocks: 1</pre>"
      ],
      "text/plain": [
       "number of query data blocks: 1"
      ]
     },
     "metadata": {},
     "output_type": "display_data"
    },
    {
     "data": {
      "text/html": [
       "<pre>+--------------+---------+-------------+--------------+</pre>"
      ],
      "text/plain": [
       "+--------------+---------+-------------+--------------+"
      ]
     },
     "metadata": {},
     "output_type": "display_data"
    },
    {
     "data": {
      "text/html": [
       "<pre>| Query points | # Pairs | % Complete. | Elapsed Time |</pre>"
      ],
      "text/plain": [
       "| Query points | # Pairs | % Complete. | Elapsed Time |"
      ]
     },
     "metadata": {},
     "output_type": "display_data"
    },
    {
     "data": {
      "text/html": [
       "<pre>+--------------+---------+-------------+--------------+</pre>"
      ],
      "text/plain": [
       "+--------------+---------+-------------+--------------+"
      ]
     },
     "metadata": {},
     "output_type": "display_data"
    },
    {
     "data": {
      "text/html": [
       "<pre>| 490          | 539980  | 25          | 94.473ms     |</pre>"
      ],
      "text/plain": [
       "| 490          | 539980  | 25          | 94.473ms     |"
      ]
     },
     "metadata": {},
     "output_type": "display_data"
    },
    {
     "data": {
      "text/html": [
       "<pre>| Done         | 2159920 | 100         | 141.804ms    |</pre>"
      ],
      "text/plain": [
       "| Done         | 2159920 | 100         | 141.804ms    |"
      ]
     },
     "metadata": {},
     "output_type": "display_data"
    },
    {
     "data": {
      "text/html": [
       "<pre>+--------------+---------+-------------+--------------+</pre>"
      ],
      "text/plain": [
       "+--------------+---------+-------------+--------------+"
      ]
     },
     "metadata": {},
     "output_type": "display_data"
    },
    {
     "data": {
      "text/html": [
       "<pre>Starting blockwise querying.</pre>"
      ],
      "text/plain": [
       "Starting blockwise querying."
      ]
     },
     "metadata": {},
     "output_type": "display_data"
    },
    {
     "data": {
      "text/html": [
       "<pre>max rows per data block: 8181</pre>"
      ],
      "text/plain": [
       "max rows per data block: 8181"
      ]
     },
     "metadata": {},
     "output_type": "display_data"
    },
    {
     "data": {
      "text/html": [
       "<pre>number of reference data blocks: 4</pre>"
      ],
      "text/plain": [
       "number of reference data blocks: 4"
      ]
     },
     "metadata": {},
     "output_type": "display_data"
    },
    {
     "data": {
      "text/html": [
       "<pre>number of query data blocks: 1</pre>"
      ],
      "text/plain": [
       "number of query data blocks: 1"
      ]
     },
     "metadata": {},
     "output_type": "display_data"
    },
    {
     "data": {
      "text/html": [
       "<pre>+--------------+---------+-------------+--------------+</pre>"
      ],
      "text/plain": [
       "+--------------+---------+-------------+--------------+"
      ]
     },
     "metadata": {},
     "output_type": "display_data"
    },
    {
     "data": {
      "text/html": [
       "<pre>| Query points | # Pairs | % Complete. | Elapsed Time |</pre>"
      ],
      "text/plain": [
       "| Query points | # Pairs | % Complete. | Elapsed Time |"
      ]
     },
     "metadata": {},
     "output_type": "display_data"
    },
    {
     "data": {
      "text/html": [
       "<pre>+--------------+---------+-------------+--------------+</pre>"
      ],
      "text/plain": [
       "+--------------+---------+-------------+--------------+"
      ]
     },
     "metadata": {},
     "output_type": "display_data"
    },
    {
     "data": {
      "text/html": [
       "<pre>| 490          | 539980  | 25          | 44.486ms     |</pre>"
      ],
      "text/plain": [
       "| 490          | 539980  | 25          | 44.486ms     |"
      ]
     },
     "metadata": {},
     "output_type": "display_data"
    },
    {
     "data": {
      "text/html": [
       "<pre>| Done         | 2159920 | 100         | 102.681ms    |</pre>"
      ],
      "text/plain": [
       "| Done         | 2159920 | 100         | 102.681ms    |"
      ]
     },
     "metadata": {},
     "output_type": "display_data"
    },
    {
     "data": {
      "text/html": [
       "<pre>+--------------+---------+-------------+--------------+</pre>"
      ],
      "text/plain": [
       "+--------------+---------+-------------+--------------+"
      ]
     },
     "metadata": {},
     "output_type": "display_data"
    },
    {
     "name": "stdout",
     "output_type": "stream",
     "text": [
      "accuracy: {'accuracy': 0.47544204322200395}\n",
      "confusion_matrix: {'confusion_matrix': Columns:\n",
      "\ttarget_label\tint\n",
      "\tpredicted_label\tint\n",
      "\tcount\tint\n",
      "\n",
      "Rows: 23\n",
      "\n",
      "Data:\n",
      "+--------------+-----------------+-------+\n",
      "| target_label | predicted_label | count |\n",
      "+--------------+-----------------+-------+\n",
      "|      7       |        8        |   5   |\n",
      "|      7       |        4        |   2   |\n",
      "|      7       |        5        |   12  |\n",
      "|      4       |        4        |   2   |\n",
      "|      3       |        6        |   3   |\n",
      "|      4       |        5        |   7   |\n",
      "|      6       |        4        |   1   |\n",
      "|      8       |        5        |   2   |\n",
      "|      3       |        5        |   1   |\n",
      "|      4       |        6        |   7   |\n",
      "+--------------+-----------------+-------+\n",
      "[23 rows x 3 columns]\n",
      "Note: Only the head of the SFrame is printed.\n",
      "You can use print_rows(num_rows=m, num_columns=n) to print more rows and columns.}\n"
     ]
    },
    {
     "data": {
      "text/html": [
       "<pre>Starting brute force nearest neighbors model training.</pre>"
      ],
      "text/plain": [
       "Starting brute force nearest neighbors model training."
      ]
     },
     "metadata": {},
     "output_type": "display_data"
    },
    {
     "name": "stdout",
     "output_type": "stream",
     "text": [
      "Class                                : NearestNeighborClassifier\n",
      "\n",
      "Schema\n",
      "------\n",
      "Number of examples                   : 4408\n",
      "Number of feature columns            : 11\n",
      "Number of unpacked features          : 11\n",
      "Number of distance components        : 1\n",
      "Number of classes                    : 7\n",
      "\n",
      "Training Summary\n",
      "----------------\n",
      "Training time (seconds)              : 0.1942\n",
      "\n",
      "WARNING: Ignoring `roc_curve`. Not supported for multi-class classification.\n"
     ]
    },
    {
     "data": {
      "text/html": [
       "<pre>Starting blockwise querying.</pre>"
      ],
      "text/plain": [
       "Starting blockwise querying."
      ]
     },
     "metadata": {},
     "output_type": "display_data"
    },
    {
     "data": {
      "text/html": [
       "<pre>max rows per data block: 8181</pre>"
      ],
      "text/plain": [
       "max rows per data block: 8181"
      ]
     },
     "metadata": {},
     "output_type": "display_data"
    },
    {
     "data": {
      "text/html": [
       "<pre>number of reference data blocks: 4</pre>"
      ],
      "text/plain": [
       "number of reference data blocks: 4"
      ]
     },
     "metadata": {},
     "output_type": "display_data"
    },
    {
     "data": {
      "text/html": [
       "<pre>number of query data blocks: 1</pre>"
      ],
      "text/plain": [
       "number of query data blocks: 1"
      ]
     },
     "metadata": {},
     "output_type": "display_data"
    },
    {
     "data": {
      "text/html": [
       "<pre>+--------------+---------+-------------+--------------+</pre>"
      ],
      "text/plain": [
       "+--------------+---------+-------------+--------------+"
      ]
     },
     "metadata": {},
     "output_type": "display_data"
    },
    {
     "data": {
      "text/html": [
       "<pre>| Query points | # Pairs | % Complete. | Elapsed Time |</pre>"
      ],
      "text/plain": [
       "| Query points | # Pairs | % Complete. | Elapsed Time |"
      ]
     },
     "metadata": {},
     "output_type": "display_data"
    },
    {
     "data": {
      "text/html": [
       "<pre>+--------------+---------+-------------+--------------+</pre>"
      ],
      "text/plain": [
       "+--------------+---------+-------------+--------------+"
      ]
     },
     "metadata": {},
     "output_type": "display_data"
    },
    {
     "data": {
      "text/html": [
       "<pre>| 490          | 539980  | 25          | 51.713ms     |</pre>"
      ],
      "text/plain": [
       "| 490          | 539980  | 25          | 51.713ms     |"
      ]
     },
     "metadata": {},
     "output_type": "display_data"
    },
    {
     "data": {
      "text/html": [
       "<pre>| Done         | 2159920 | 100         | 85.608ms     |</pre>"
      ],
      "text/plain": [
       "| Done         | 2159920 | 100         | 85.608ms     |"
      ]
     },
     "metadata": {},
     "output_type": "display_data"
    },
    {
     "data": {
      "text/html": [
       "<pre>+--------------+---------+-------------+--------------+</pre>"
      ],
      "text/plain": [
       "+--------------+---------+-------------+--------------+"
      ]
     },
     "metadata": {},
     "output_type": "display_data"
    },
    {
     "data": {
      "text/html": [
       "<pre>Starting blockwise querying.</pre>"
      ],
      "text/plain": [
       "Starting blockwise querying."
      ]
     },
     "metadata": {},
     "output_type": "display_data"
    },
    {
     "data": {
      "text/html": [
       "<pre>max rows per data block: 8181</pre>"
      ],
      "text/plain": [
       "max rows per data block: 8181"
      ]
     },
     "metadata": {},
     "output_type": "display_data"
    },
    {
     "data": {
      "text/html": [
       "<pre>number of reference data blocks: 4</pre>"
      ],
      "text/plain": [
       "number of reference data blocks: 4"
      ]
     },
     "metadata": {},
     "output_type": "display_data"
    },
    {
     "data": {
      "text/html": [
       "<pre>number of query data blocks: 1</pre>"
      ],
      "text/plain": [
       "number of query data blocks: 1"
      ]
     },
     "metadata": {},
     "output_type": "display_data"
    },
    {
     "data": {
      "text/html": [
       "<pre>+--------------+---------+-------------+--------------+</pre>"
      ],
      "text/plain": [
       "+--------------+---------+-------------+--------------+"
      ]
     },
     "metadata": {},
     "output_type": "display_data"
    },
    {
     "data": {
      "text/html": [
       "<pre>| Query points | # Pairs | % Complete. | Elapsed Time |</pre>"
      ],
      "text/plain": [
       "| Query points | # Pairs | % Complete. | Elapsed Time |"
      ]
     },
     "metadata": {},
     "output_type": "display_data"
    },
    {
     "data": {
      "text/html": [
       "<pre>+--------------+---------+-------------+--------------+</pre>"
      ],
      "text/plain": [
       "+--------------+---------+-------------+--------------+"
      ]
     },
     "metadata": {},
     "output_type": "display_data"
    },
    {
     "data": {
      "text/html": [
       "<pre>| 490          | 539980  | 25          | 87.221ms     |</pre>"
      ],
      "text/plain": [
       "| 490          | 539980  | 25          | 87.221ms     |"
      ]
     },
     "metadata": {},
     "output_type": "display_data"
    },
    {
     "data": {
      "text/html": [
       "<pre>| Done         | 2159920 | 100         | 111.874ms    |</pre>"
      ],
      "text/plain": [
       "| Done         | 2159920 | 100         | 111.874ms    |"
      ]
     },
     "metadata": {},
     "output_type": "display_data"
    },
    {
     "data": {
      "text/html": [
       "<pre>+--------------+---------+-------------+--------------+</pre>"
      ],
      "text/plain": [
       "+--------------+---------+-------------+--------------+"
      ]
     },
     "metadata": {},
     "output_type": "display_data"
    },
    {
     "name": "stdout",
     "output_type": "stream",
     "text": [
      "WARNING: Ignoring `roc_curve`. Not supported for multi-class classification.\n"
     ]
    },
    {
     "data": {
      "text/html": [
       "<pre>Starting blockwise querying.</pre>"
      ],
      "text/plain": [
       "Starting blockwise querying."
      ]
     },
     "metadata": {},
     "output_type": "display_data"
    },
    {
     "data": {
      "text/html": [
       "<pre>max rows per data block: 8181</pre>"
      ],
      "text/plain": [
       "max rows per data block: 8181"
      ]
     },
     "metadata": {},
     "output_type": "display_data"
    },
    {
     "data": {
      "text/html": [
       "<pre>number of reference data blocks: 4</pre>"
      ],
      "text/plain": [
       "number of reference data blocks: 4"
      ]
     },
     "metadata": {},
     "output_type": "display_data"
    },
    {
     "data": {
      "text/html": [
       "<pre>number of query data blocks: 1</pre>"
      ],
      "text/plain": [
       "number of query data blocks: 1"
      ]
     },
     "metadata": {},
     "output_type": "display_data"
    },
    {
     "data": {
      "text/html": [
       "<pre>+--------------+---------+-------------+--------------+</pre>"
      ],
      "text/plain": [
       "+--------------+---------+-------------+--------------+"
      ]
     },
     "metadata": {},
     "output_type": "display_data"
    },
    {
     "data": {
      "text/html": [
       "<pre>| Query points | # Pairs | % Complete. | Elapsed Time |</pre>"
      ],
      "text/plain": [
       "| Query points | # Pairs | % Complete. | Elapsed Time |"
      ]
     },
     "metadata": {},
     "output_type": "display_data"
    },
    {
     "data": {
      "text/html": [
       "<pre>+--------------+---------+-------------+--------------+</pre>"
      ],
      "text/plain": [
       "+--------------+---------+-------------+--------------+"
      ]
     },
     "metadata": {},
     "output_type": "display_data"
    },
    {
     "data": {
      "text/html": [
       "<pre>| 490          | 539980  | 25          | 112.405ms    |</pre>"
      ],
      "text/plain": [
       "| 490          | 539980  | 25          | 112.405ms    |"
      ]
     },
     "metadata": {},
     "output_type": "display_data"
    },
    {
     "data": {
      "text/html": [
       "<pre>| Done         | 2159920 | 100         | 134.897ms    |</pre>"
      ],
      "text/plain": [
       "| Done         | 2159920 | 100         | 134.897ms    |"
      ]
     },
     "metadata": {},
     "output_type": "display_data"
    },
    {
     "data": {
      "text/html": [
       "<pre>+--------------+---------+-------------+--------------+</pre>"
      ],
      "text/plain": [
       "+--------------+---------+-------------+--------------+"
      ]
     },
     "metadata": {},
     "output_type": "display_data"
    },
    {
     "data": {
      "text/html": [
       "<pre>Starting blockwise querying.</pre>"
      ],
      "text/plain": [
       "Starting blockwise querying."
      ]
     },
     "metadata": {},
     "output_type": "display_data"
    },
    {
     "data": {
      "text/html": [
       "<pre>max rows per data block: 8181</pre>"
      ],
      "text/plain": [
       "max rows per data block: 8181"
      ]
     },
     "metadata": {},
     "output_type": "display_data"
    },
    {
     "data": {
      "text/html": [
       "<pre>number of reference data blocks: 4</pre>"
      ],
      "text/plain": [
       "number of reference data blocks: 4"
      ]
     },
     "metadata": {},
     "output_type": "display_data"
    },
    {
     "data": {
      "text/html": [
       "<pre>number of query data blocks: 1</pre>"
      ],
      "text/plain": [
       "number of query data blocks: 1"
      ]
     },
     "metadata": {},
     "output_type": "display_data"
    },
    {
     "data": {
      "text/html": [
       "<pre>+--------------+---------+-------------+--------------+</pre>"
      ],
      "text/plain": [
       "+--------------+---------+-------------+--------------+"
      ]
     },
     "metadata": {},
     "output_type": "display_data"
    },
    {
     "data": {
      "text/html": [
       "<pre>| Query points | # Pairs | % Complete. | Elapsed Time |</pre>"
      ],
      "text/plain": [
       "| Query points | # Pairs | % Complete. | Elapsed Time |"
      ]
     },
     "metadata": {},
     "output_type": "display_data"
    },
    {
     "data": {
      "text/html": [
       "<pre>+--------------+---------+-------------+--------------+</pre>"
      ],
      "text/plain": [
       "+--------------+---------+-------------+--------------+"
      ]
     },
     "metadata": {},
     "output_type": "display_data"
    },
    {
     "data": {
      "text/html": [
       "<pre>| 490          | 539980  | 25          | 86.231ms     |</pre>"
      ],
      "text/plain": [
       "| 490          | 539980  | 25          | 86.231ms     |"
      ]
     },
     "metadata": {},
     "output_type": "display_data"
    },
    {
     "data": {
      "text/html": [
       "<pre>| Done         | 2159920 | 100         | 93.62ms      |</pre>"
      ],
      "text/plain": [
       "| Done         | 2159920 | 100         | 93.62ms      |"
      ]
     },
     "metadata": {},
     "output_type": "display_data"
    },
    {
     "data": {
      "text/html": [
       "<pre>+--------------+---------+-------------+--------------+</pre>"
      ],
      "text/plain": [
       "+--------------+---------+-------------+--------------+"
      ]
     },
     "metadata": {},
     "output_type": "display_data"
    },
    {
     "data": {
      "text/html": [
       "<pre>Starting blockwise querying.</pre>"
      ],
      "text/plain": [
       "Starting blockwise querying."
      ]
     },
     "metadata": {},
     "output_type": "display_data"
    },
    {
     "data": {
      "text/html": [
       "<pre>max rows per data block: 8181</pre>"
      ],
      "text/plain": [
       "max rows per data block: 8181"
      ]
     },
     "metadata": {},
     "output_type": "display_data"
    },
    {
     "data": {
      "text/html": [
       "<pre>number of reference data blocks: 4</pre>"
      ],
      "text/plain": [
       "number of reference data blocks: 4"
      ]
     },
     "metadata": {},
     "output_type": "display_data"
    },
    {
     "data": {
      "text/html": [
       "<pre>number of query data blocks: 1</pre>"
      ],
      "text/plain": [
       "number of query data blocks: 1"
      ]
     },
     "metadata": {},
     "output_type": "display_data"
    },
    {
     "data": {
      "text/html": [
       "<pre>+--------------+---------+-------------+--------------+</pre>"
      ],
      "text/plain": [
       "+--------------+---------+-------------+--------------+"
      ]
     },
     "metadata": {},
     "output_type": "display_data"
    },
    {
     "data": {
      "text/html": [
       "<pre>| Query points | # Pairs | % Complete. | Elapsed Time |</pre>"
      ],
      "text/plain": [
       "| Query points | # Pairs | % Complete. | Elapsed Time |"
      ]
     },
     "metadata": {},
     "output_type": "display_data"
    },
    {
     "data": {
      "text/html": [
       "<pre>+--------------+---------+-------------+--------------+</pre>"
      ],
      "text/plain": [
       "+--------------+---------+-------------+--------------+"
      ]
     },
     "metadata": {},
     "output_type": "display_data"
    },
    {
     "data": {
      "text/html": [
       "<pre>| 490          | 539980  | 25          | 55.626ms     |</pre>"
      ],
      "text/plain": [
       "| 490          | 539980  | 25          | 55.626ms     |"
      ]
     },
     "metadata": {},
     "output_type": "display_data"
    },
    {
     "data": {
      "text/html": [
       "<pre>| Done         | 2159920 | 100         | 91.412ms     |</pre>"
      ],
      "text/plain": [
       "| Done         | 2159920 | 100         | 91.412ms     |"
      ]
     },
     "metadata": {},
     "output_type": "display_data"
    },
    {
     "data": {
      "text/html": [
       "<pre>+--------------+---------+-------------+--------------+</pre>"
      ],
      "text/plain": [
       "+--------------+---------+-------------+--------------+"
      ]
     },
     "metadata": {},
     "output_type": "display_data"
    },
    {
     "name": "stdout",
     "output_type": "stream",
     "text": [
      "accuracy: {'accuracy': 0.47544204322200395}\n",
      "confusion_matrix: {'confusion_matrix': Columns:\n",
      "\ttarget_label\tint\n",
      "\tpredicted_label\tint\n",
      "\tcount\tint\n",
      "\n",
      "Rows: 22\n",
      "\n",
      "Data:\n",
      "+--------------+-----------------+-------+\n",
      "| target_label | predicted_label | count |\n",
      "+--------------+-----------------+-------+\n",
      "|      8       |        5        |   1   |\n",
      "|      9       |        6        |   3   |\n",
      "|      5       |        7        |   3   |\n",
      "|      3       |        6        |   2   |\n",
      "|      9       |        5        |   1   |\n",
      "|      7       |        4        |   1   |\n",
      "|      4       |        7        |   1   |\n",
      "|      8       |        7        |   4   |\n",
      "|      8       |        6        |   15  |\n",
      "|      4       |        4        |   2   |\n",
      "+--------------+-----------------+-------+\n",
      "[22 rows x 3 columns]\n",
      "Note: Only the head of the SFrame is printed.\n",
      "You can use print_rows(num_rows=m, num_columns=n) to print more rows and columns.}\n"
     ]
    },
    {
     "data": {
      "text/html": [
       "<pre>Starting brute force nearest neighbors model training.</pre>"
      ],
      "text/plain": [
       "Starting brute force nearest neighbors model training."
      ]
     },
     "metadata": {},
     "output_type": "display_data"
    },
    {
     "name": "stdout",
     "output_type": "stream",
     "text": [
      "Class                                : NearestNeighborClassifier\n",
      "\n",
      "Schema\n",
      "------\n",
      "Number of examples                   : 4408\n",
      "Number of feature columns            : 11\n",
      "Number of unpacked features          : 11\n",
      "Number of distance components        : 1\n",
      "Number of classes                    : 7\n",
      "\n",
      "Training Summary\n",
      "----------------\n",
      "Training time (seconds)              : 0.2064\n",
      "\n",
      "WARNING: Ignoring `roc_curve`. Not supported for multi-class classification.\n"
     ]
    },
    {
     "data": {
      "text/html": [
       "<pre>Starting blockwise querying.</pre>"
      ],
      "text/plain": [
       "Starting blockwise querying."
      ]
     },
     "metadata": {},
     "output_type": "display_data"
    },
    {
     "data": {
      "text/html": [
       "<pre>max rows per data block: 8181</pre>"
      ],
      "text/plain": [
       "max rows per data block: 8181"
      ]
     },
     "metadata": {},
     "output_type": "display_data"
    },
    {
     "data": {
      "text/html": [
       "<pre>number of reference data blocks: 4</pre>"
      ],
      "text/plain": [
       "number of reference data blocks: 4"
      ]
     },
     "metadata": {},
     "output_type": "display_data"
    },
    {
     "data": {
      "text/html": [
       "<pre>number of query data blocks: 1</pre>"
      ],
      "text/plain": [
       "number of query data blocks: 1"
      ]
     },
     "metadata": {},
     "output_type": "display_data"
    },
    {
     "data": {
      "text/html": [
       "<pre>+--------------+---------+-------------+--------------+</pre>"
      ],
      "text/plain": [
       "+--------------+---------+-------------+--------------+"
      ]
     },
     "metadata": {},
     "output_type": "display_data"
    },
    {
     "data": {
      "text/html": [
       "<pre>| Query points | # Pairs | % Complete. | Elapsed Time |</pre>"
      ],
      "text/plain": [
       "| Query points | # Pairs | % Complete. | Elapsed Time |"
      ]
     },
     "metadata": {},
     "output_type": "display_data"
    },
    {
     "data": {
      "text/html": [
       "<pre>+--------------+---------+-------------+--------------+</pre>"
      ],
      "text/plain": [
       "+--------------+---------+-------------+--------------+"
      ]
     },
     "metadata": {},
     "output_type": "display_data"
    },
    {
     "data": {
      "text/html": [
       "<pre>| 490          | 539980  | 25          | 83.813ms     |</pre>"
      ],
      "text/plain": [
       "| 490          | 539980  | 25          | 83.813ms     |"
      ]
     },
     "metadata": {},
     "output_type": "display_data"
    },
    {
     "data": {
      "text/html": [
       "<pre>| Done         | 2159920 | 100         | 112.665ms    |</pre>"
      ],
      "text/plain": [
       "| Done         | 2159920 | 100         | 112.665ms    |"
      ]
     },
     "metadata": {},
     "output_type": "display_data"
    },
    {
     "data": {
      "text/html": [
       "<pre>+--------------+---------+-------------+--------------+</pre>"
      ],
      "text/plain": [
       "+--------------+---------+-------------+--------------+"
      ]
     },
     "metadata": {},
     "output_type": "display_data"
    },
    {
     "data": {
      "text/html": [
       "<pre>Starting blockwise querying.</pre>"
      ],
      "text/plain": [
       "Starting blockwise querying."
      ]
     },
     "metadata": {},
     "output_type": "display_data"
    },
    {
     "data": {
      "text/html": [
       "<pre>max rows per data block: 8181</pre>"
      ],
      "text/plain": [
       "max rows per data block: 8181"
      ]
     },
     "metadata": {},
     "output_type": "display_data"
    },
    {
     "data": {
      "text/html": [
       "<pre>number of reference data blocks: 4</pre>"
      ],
      "text/plain": [
       "number of reference data blocks: 4"
      ]
     },
     "metadata": {},
     "output_type": "display_data"
    },
    {
     "data": {
      "text/html": [
       "<pre>number of query data blocks: 1</pre>"
      ],
      "text/plain": [
       "number of query data blocks: 1"
      ]
     },
     "metadata": {},
     "output_type": "display_data"
    },
    {
     "data": {
      "text/html": [
       "<pre>+--------------+---------+-------------+--------------+</pre>"
      ],
      "text/plain": [
       "+--------------+---------+-------------+--------------+"
      ]
     },
     "metadata": {},
     "output_type": "display_data"
    },
    {
     "data": {
      "text/html": [
       "<pre>| Query points | # Pairs | % Complete. | Elapsed Time |</pre>"
      ],
      "text/plain": [
       "| Query points | # Pairs | % Complete. | Elapsed Time |"
      ]
     },
     "metadata": {},
     "output_type": "display_data"
    },
    {
     "data": {
      "text/html": [
       "<pre>+--------------+---------+-------------+--------------+</pre>"
      ],
      "text/plain": [
       "+--------------+---------+-------------+--------------+"
      ]
     },
     "metadata": {},
     "output_type": "display_data"
    },
    {
     "data": {
      "text/html": [
       "<pre>| 490          | 539980  | 25          | 40.159ms     |</pre>"
      ],
      "text/plain": [
       "| 490          | 539980  | 25          | 40.159ms     |"
      ]
     },
     "metadata": {},
     "output_type": "display_data"
    },
    {
     "data": {
      "text/html": [
       "<pre>| Done         | 2159920 | 100         | 87.462ms     |</pre>"
      ],
      "text/plain": [
       "| Done         | 2159920 | 100         | 87.462ms     |"
      ]
     },
     "metadata": {},
     "output_type": "display_data"
    },
    {
     "data": {
      "text/html": [
       "<pre>+--------------+---------+-------------+--------------+</pre>"
      ],
      "text/plain": [
       "+--------------+---------+-------------+--------------+"
      ]
     },
     "metadata": {},
     "output_type": "display_data"
    },
    {
     "name": "stdout",
     "output_type": "stream",
     "text": [
      "WARNING: Ignoring `roc_curve`. Not supported for multi-class classification.\n"
     ]
    },
    {
     "data": {
      "text/html": [
       "<pre>Starting blockwise querying.</pre>"
      ],
      "text/plain": [
       "Starting blockwise querying."
      ]
     },
     "metadata": {},
     "output_type": "display_data"
    },
    {
     "data": {
      "text/html": [
       "<pre>max rows per data block: 8181</pre>"
      ],
      "text/plain": [
       "max rows per data block: 8181"
      ]
     },
     "metadata": {},
     "output_type": "display_data"
    },
    {
     "data": {
      "text/html": [
       "<pre>number of reference data blocks: 4</pre>"
      ],
      "text/plain": [
       "number of reference data blocks: 4"
      ]
     },
     "metadata": {},
     "output_type": "display_data"
    },
    {
     "data": {
      "text/html": [
       "<pre>number of query data blocks: 1</pre>"
      ],
      "text/plain": [
       "number of query data blocks: 1"
      ]
     },
     "metadata": {},
     "output_type": "display_data"
    },
    {
     "data": {
      "text/html": [
       "<pre>+--------------+---------+-------------+--------------+</pre>"
      ],
      "text/plain": [
       "+--------------+---------+-------------+--------------+"
      ]
     },
     "metadata": {},
     "output_type": "display_data"
    },
    {
     "data": {
      "text/html": [
       "<pre>| Query points | # Pairs | % Complete. | Elapsed Time |</pre>"
      ],
      "text/plain": [
       "| Query points | # Pairs | % Complete. | Elapsed Time |"
      ]
     },
     "metadata": {},
     "output_type": "display_data"
    },
    {
     "data": {
      "text/html": [
       "<pre>+--------------+---------+-------------+--------------+</pre>"
      ],
      "text/plain": [
       "+--------------+---------+-------------+--------------+"
      ]
     },
     "metadata": {},
     "output_type": "display_data"
    },
    {
     "data": {
      "text/html": [
       "<pre>| 490          | 539980  | 25          | 64.499ms     |</pre>"
      ],
      "text/plain": [
       "| 490          | 539980  | 25          | 64.499ms     |"
      ]
     },
     "metadata": {},
     "output_type": "display_data"
    },
    {
     "data": {
      "text/html": [
       "<pre>| Done         | 2159920 | 100         | 96.392ms     |</pre>"
      ],
      "text/plain": [
       "| Done         | 2159920 | 100         | 96.392ms     |"
      ]
     },
     "metadata": {},
     "output_type": "display_data"
    },
    {
     "data": {
      "text/html": [
       "<pre>+--------------+---------+-------------+--------------+</pre>"
      ],
      "text/plain": [
       "+--------------+---------+-------------+--------------+"
      ]
     },
     "metadata": {},
     "output_type": "display_data"
    },
    {
     "data": {
      "text/html": [
       "<pre>Starting blockwise querying.</pre>"
      ],
      "text/plain": [
       "Starting blockwise querying."
      ]
     },
     "metadata": {},
     "output_type": "display_data"
    },
    {
     "data": {
      "text/html": [
       "<pre>max rows per data block: 8181</pre>"
      ],
      "text/plain": [
       "max rows per data block: 8181"
      ]
     },
     "metadata": {},
     "output_type": "display_data"
    },
    {
     "data": {
      "text/html": [
       "<pre>number of reference data blocks: 4</pre>"
      ],
      "text/plain": [
       "number of reference data blocks: 4"
      ]
     },
     "metadata": {},
     "output_type": "display_data"
    },
    {
     "data": {
      "text/html": [
       "<pre>number of query data blocks: 1</pre>"
      ],
      "text/plain": [
       "number of query data blocks: 1"
      ]
     },
     "metadata": {},
     "output_type": "display_data"
    },
    {
     "data": {
      "text/html": [
       "<pre>+--------------+---------+-------------+--------------+</pre>"
      ],
      "text/plain": [
       "+--------------+---------+-------------+--------------+"
      ]
     },
     "metadata": {},
     "output_type": "display_data"
    },
    {
     "data": {
      "text/html": [
       "<pre>| Query points | # Pairs | % Complete. | Elapsed Time |</pre>"
      ],
      "text/plain": [
       "| Query points | # Pairs | % Complete. | Elapsed Time |"
      ]
     },
     "metadata": {},
     "output_type": "display_data"
    },
    {
     "data": {
      "text/html": [
       "<pre>+--------------+---------+-------------+--------------+</pre>"
      ],
      "text/plain": [
       "+--------------+---------+-------------+--------------+"
      ]
     },
     "metadata": {},
     "output_type": "display_data"
    },
    {
     "data": {
      "text/html": [
       "<pre>| 490          | 539980  | 25          | 64.867ms     |</pre>"
      ],
      "text/plain": [
       "| 490          | 539980  | 25          | 64.867ms     |"
      ]
     },
     "metadata": {},
     "output_type": "display_data"
    },
    {
     "data": {
      "text/html": [
       "<pre>| Done         | 2159920 | 100         | 132.879ms    |</pre>"
      ],
      "text/plain": [
       "| Done         | 2159920 | 100         | 132.879ms    |"
      ]
     },
     "metadata": {},
     "output_type": "display_data"
    },
    {
     "data": {
      "text/html": [
       "<pre>+--------------+---------+-------------+--------------+</pre>"
      ],
      "text/plain": [
       "+--------------+---------+-------------+--------------+"
      ]
     },
     "metadata": {},
     "output_type": "display_data"
    },
    {
     "data": {
      "text/html": [
       "<pre>Starting blockwise querying.</pre>"
      ],
      "text/plain": [
       "Starting blockwise querying."
      ]
     },
     "metadata": {},
     "output_type": "display_data"
    },
    {
     "data": {
      "text/html": [
       "<pre>max rows per data block: 8181</pre>"
      ],
      "text/plain": [
       "max rows per data block: 8181"
      ]
     },
     "metadata": {},
     "output_type": "display_data"
    },
    {
     "data": {
      "text/html": [
       "<pre>number of reference data blocks: 4</pre>"
      ],
      "text/plain": [
       "number of reference data blocks: 4"
      ]
     },
     "metadata": {},
     "output_type": "display_data"
    },
    {
     "data": {
      "text/html": [
       "<pre>number of query data blocks: 1</pre>"
      ],
      "text/plain": [
       "number of query data blocks: 1"
      ]
     },
     "metadata": {},
     "output_type": "display_data"
    },
    {
     "data": {
      "text/html": [
       "<pre>+--------------+---------+-------------+--------------+</pre>"
      ],
      "text/plain": [
       "+--------------+---------+-------------+--------------+"
      ]
     },
     "metadata": {},
     "output_type": "display_data"
    },
    {
     "data": {
      "text/html": [
       "<pre>| Query points | # Pairs | % Complete. | Elapsed Time |</pre>"
      ],
      "text/plain": [
       "| Query points | # Pairs | % Complete. | Elapsed Time |"
      ]
     },
     "metadata": {},
     "output_type": "display_data"
    },
    {
     "data": {
      "text/html": [
       "<pre>+--------------+---------+-------------+--------------+</pre>"
      ],
      "text/plain": [
       "+--------------+---------+-------------+--------------+"
      ]
     },
     "metadata": {},
     "output_type": "display_data"
    },
    {
     "data": {
      "text/html": [
       "<pre>| 490          | 539980  | 25          | 54.165ms     |</pre>"
      ],
      "text/plain": [
       "| 490          | 539980  | 25          | 54.165ms     |"
      ]
     },
     "metadata": {},
     "output_type": "display_data"
    },
    {
     "data": {
      "text/html": [
       "<pre>| Done         | 2159920 | 100         | 72.833ms     |</pre>"
      ],
      "text/plain": [
       "| Done         | 2159920 | 100         | 72.833ms     |"
      ]
     },
     "metadata": {},
     "output_type": "display_data"
    },
    {
     "data": {
      "text/html": [
       "<pre>+--------------+---------+-------------+--------------+</pre>"
      ],
      "text/plain": [
       "+--------------+---------+-------------+--------------+"
      ]
     },
     "metadata": {},
     "output_type": "display_data"
    },
    {
     "name": "stdout",
     "output_type": "stream",
     "text": [
      "accuracy: {'accuracy': 0.47544204322200395}\n",
      "confusion_matrix: {'confusion_matrix': Columns:\n",
      "\ttarget_label\tint\n",
      "\tpredicted_label\tint\n",
      "\tcount\tint\n",
      "\n",
      "Rows: 20\n",
      "\n",
      "Data:\n",
      "+--------------+-----------------+-------+\n",
      "| target_label | predicted_label | count |\n",
      "+--------------+-----------------+-------+\n",
      "|      6       |        4        |   2   |\n",
      "|      8       |        6        |   19  |\n",
      "|      3       |        6        |   2   |\n",
      "|      8       |        7        |   3   |\n",
      "|      4       |        7        |   5   |\n",
      "|      7       |        8        |   1   |\n",
      "|      4       |        6        |   6   |\n",
      "|      5       |        4        |   2   |\n",
      "|      5       |        5        |   60  |\n",
      "|      5       |        7        |   11  |\n",
      "+--------------+-----------------+-------+\n",
      "[20 rows x 3 columns]\n",
      "Note: Only the head of the SFrame is printed.\n",
      "You can use print_rows(num_rows=m, num_columns=n) to print more rows and columns.}\n"
     ]
    },
    {
     "data": {
      "text/html": [
       "<pre>Starting brute force nearest neighbors model training.</pre>"
      ],
      "text/plain": [
       "Starting brute force nearest neighbors model training."
      ]
     },
     "metadata": {},
     "output_type": "display_data"
    },
    {
     "name": "stdout",
     "output_type": "stream",
     "text": [
      "Class                                : NearestNeighborClassifier\n",
      "\n",
      "Schema\n",
      "------\n",
      "Number of examples                   : 4408\n",
      "Number of feature columns            : 11\n",
      "Number of unpacked features          : 11\n",
      "Number of distance components        : 1\n",
      "Number of classes                    : 7\n",
      "\n",
      "Training Summary\n",
      "----------------\n",
      "Training time (seconds)              : 0.2394\n",
      "\n",
      "WARNING: Ignoring `roc_curve`. Not supported for multi-class classification.\n"
     ]
    },
    {
     "data": {
      "text/html": [
       "<pre>Starting blockwise querying.</pre>"
      ],
      "text/plain": [
       "Starting blockwise querying."
      ]
     },
     "metadata": {},
     "output_type": "display_data"
    },
    {
     "data": {
      "text/html": [
       "<pre>max rows per data block: 8181</pre>"
      ],
      "text/plain": [
       "max rows per data block: 8181"
      ]
     },
     "metadata": {},
     "output_type": "display_data"
    },
    {
     "data": {
      "text/html": [
       "<pre>number of reference data blocks: 4</pre>"
      ],
      "text/plain": [
       "number of reference data blocks: 4"
      ]
     },
     "metadata": {},
     "output_type": "display_data"
    },
    {
     "data": {
      "text/html": [
       "<pre>number of query data blocks: 1</pre>"
      ],
      "text/plain": [
       "number of query data blocks: 1"
      ]
     },
     "metadata": {},
     "output_type": "display_data"
    },
    {
     "data": {
      "text/html": [
       "<pre>+--------------+---------+-------------+--------------+</pre>"
      ],
      "text/plain": [
       "+--------------+---------+-------------+--------------+"
      ]
     },
     "metadata": {},
     "output_type": "display_data"
    },
    {
     "data": {
      "text/html": [
       "<pre>| Query points | # Pairs | % Complete. | Elapsed Time |</pre>"
      ],
      "text/plain": [
       "| Query points | # Pairs | % Complete. | Elapsed Time |"
      ]
     },
     "metadata": {},
     "output_type": "display_data"
    },
    {
     "data": {
      "text/html": [
       "<pre>+--------------+---------+-------------+--------------+</pre>"
      ],
      "text/plain": [
       "+--------------+---------+-------------+--------------+"
      ]
     },
     "metadata": {},
     "output_type": "display_data"
    },
    {
     "data": {
      "text/html": [
       "<pre>| 490          | 539980  | 25          | 63.906ms     |</pre>"
      ],
      "text/plain": [
       "| 490          | 539980  | 25          | 63.906ms     |"
      ]
     },
     "metadata": {},
     "output_type": "display_data"
    },
    {
     "data": {
      "text/html": [
       "<pre>| Done         | 2159920 | 100         | 108.653ms    |</pre>"
      ],
      "text/plain": [
       "| Done         | 2159920 | 100         | 108.653ms    |"
      ]
     },
     "metadata": {},
     "output_type": "display_data"
    },
    {
     "data": {
      "text/html": [
       "<pre>+--------------+---------+-------------+--------------+</pre>"
      ],
      "text/plain": [
       "+--------------+---------+-------------+--------------+"
      ]
     },
     "metadata": {},
     "output_type": "display_data"
    },
    {
     "data": {
      "text/html": [
       "<pre>Starting blockwise querying.</pre>"
      ],
      "text/plain": [
       "Starting blockwise querying."
      ]
     },
     "metadata": {},
     "output_type": "display_data"
    },
    {
     "data": {
      "text/html": [
       "<pre>max rows per data block: 8181</pre>"
      ],
      "text/plain": [
       "max rows per data block: 8181"
      ]
     },
     "metadata": {},
     "output_type": "display_data"
    },
    {
     "data": {
      "text/html": [
       "<pre>number of reference data blocks: 4</pre>"
      ],
      "text/plain": [
       "number of reference data blocks: 4"
      ]
     },
     "metadata": {},
     "output_type": "display_data"
    },
    {
     "data": {
      "text/html": [
       "<pre>number of query data blocks: 1</pre>"
      ],
      "text/plain": [
       "number of query data blocks: 1"
      ]
     },
     "metadata": {},
     "output_type": "display_data"
    },
    {
     "data": {
      "text/html": [
       "<pre>+--------------+---------+-------------+--------------+</pre>"
      ],
      "text/plain": [
       "+--------------+---------+-------------+--------------+"
      ]
     },
     "metadata": {},
     "output_type": "display_data"
    },
    {
     "data": {
      "text/html": [
       "<pre>| Query points | # Pairs | % Complete. | Elapsed Time |</pre>"
      ],
      "text/plain": [
       "| Query points | # Pairs | % Complete. | Elapsed Time |"
      ]
     },
     "metadata": {},
     "output_type": "display_data"
    },
    {
     "data": {
      "text/html": [
       "<pre>+--------------+---------+-------------+--------------+</pre>"
      ],
      "text/plain": [
       "+--------------+---------+-------------+--------------+"
      ]
     },
     "metadata": {},
     "output_type": "display_data"
    },
    {
     "data": {
      "text/html": [
       "<pre>| 490          | 539980  | 25          | 63.324ms     |</pre>"
      ],
      "text/plain": [
       "| 490          | 539980  | 25          | 63.324ms     |"
      ]
     },
     "metadata": {},
     "output_type": "display_data"
    },
    {
     "data": {
      "text/html": [
       "<pre>| Done         | 2159920 | 100         | 84.793ms     |</pre>"
      ],
      "text/plain": [
       "| Done         | 2159920 | 100         | 84.793ms     |"
      ]
     },
     "metadata": {},
     "output_type": "display_data"
    },
    {
     "data": {
      "text/html": [
       "<pre>+--------------+---------+-------------+--------------+</pre>"
      ],
      "text/plain": [
       "+--------------+---------+-------------+--------------+"
      ]
     },
     "metadata": {},
     "output_type": "display_data"
    },
    {
     "name": "stdout",
     "output_type": "stream",
     "text": [
      "WARNING: Ignoring `roc_curve`. Not supported for multi-class classification.\n"
     ]
    },
    {
     "data": {
      "text/html": [
       "<pre>Starting blockwise querying.</pre>"
      ],
      "text/plain": [
       "Starting blockwise querying."
      ]
     },
     "metadata": {},
     "output_type": "display_data"
    },
    {
     "data": {
      "text/html": [
       "<pre>max rows per data block: 8181</pre>"
      ],
      "text/plain": [
       "max rows per data block: 8181"
      ]
     },
     "metadata": {},
     "output_type": "display_data"
    },
    {
     "data": {
      "text/html": [
       "<pre>number of reference data blocks: 4</pre>"
      ],
      "text/plain": [
       "number of reference data blocks: 4"
      ]
     },
     "metadata": {},
     "output_type": "display_data"
    },
    {
     "data": {
      "text/html": [
       "<pre>number of query data blocks: 1</pre>"
      ],
      "text/plain": [
       "number of query data blocks: 1"
      ]
     },
     "metadata": {},
     "output_type": "display_data"
    },
    {
     "data": {
      "text/html": [
       "<pre>+--------------+---------+-------------+--------------+</pre>"
      ],
      "text/plain": [
       "+--------------+---------+-------------+--------------+"
      ]
     },
     "metadata": {},
     "output_type": "display_data"
    },
    {
     "data": {
      "text/html": [
       "<pre>| Query points | # Pairs | % Complete. | Elapsed Time |</pre>"
      ],
      "text/plain": [
       "| Query points | # Pairs | % Complete. | Elapsed Time |"
      ]
     },
     "metadata": {},
     "output_type": "display_data"
    },
    {
     "data": {
      "text/html": [
       "<pre>+--------------+---------+-------------+--------------+</pre>"
      ],
      "text/plain": [
       "+--------------+---------+-------------+--------------+"
      ]
     },
     "metadata": {},
     "output_type": "display_data"
    },
    {
     "data": {
      "text/html": [
       "<pre>| 490          | 539980  | 25          | 66.011ms     |</pre>"
      ],
      "text/plain": [
       "| 490          | 539980  | 25          | 66.011ms     |"
      ]
     },
     "metadata": {},
     "output_type": "display_data"
    },
    {
     "data": {
      "text/html": [
       "<pre>| Done         | 2159920 | 100         | 101.537ms    |</pre>"
      ],
      "text/plain": [
       "| Done         | 2159920 | 100         | 101.537ms    |"
      ]
     },
     "metadata": {},
     "output_type": "display_data"
    },
    {
     "data": {
      "text/html": [
       "<pre>+--------------+---------+-------------+--------------+</pre>"
      ],
      "text/plain": [
       "+--------------+---------+-------------+--------------+"
      ]
     },
     "metadata": {},
     "output_type": "display_data"
    },
    {
     "data": {
      "text/html": [
       "<pre>Starting blockwise querying.</pre>"
      ],
      "text/plain": [
       "Starting blockwise querying."
      ]
     },
     "metadata": {},
     "output_type": "display_data"
    },
    {
     "data": {
      "text/html": [
       "<pre>max rows per data block: 8181</pre>"
      ],
      "text/plain": [
       "max rows per data block: 8181"
      ]
     },
     "metadata": {},
     "output_type": "display_data"
    },
    {
     "data": {
      "text/html": [
       "<pre>number of reference data blocks: 4</pre>"
      ],
      "text/plain": [
       "number of reference data blocks: 4"
      ]
     },
     "metadata": {},
     "output_type": "display_data"
    },
    {
     "data": {
      "text/html": [
       "<pre>number of query data blocks: 1</pre>"
      ],
      "text/plain": [
       "number of query data blocks: 1"
      ]
     },
     "metadata": {},
     "output_type": "display_data"
    },
    {
     "data": {
      "text/html": [
       "<pre>+--------------+---------+-------------+--------------+</pre>"
      ],
      "text/plain": [
       "+--------------+---------+-------------+--------------+"
      ]
     },
     "metadata": {},
     "output_type": "display_data"
    },
    {
     "data": {
      "text/html": [
       "<pre>| Query points | # Pairs | % Complete. | Elapsed Time |</pre>"
      ],
      "text/plain": [
       "| Query points | # Pairs | % Complete. | Elapsed Time |"
      ]
     },
     "metadata": {},
     "output_type": "display_data"
    },
    {
     "data": {
      "text/html": [
       "<pre>+--------------+---------+-------------+--------------+</pre>"
      ],
      "text/plain": [
       "+--------------+---------+-------------+--------------+"
      ]
     },
     "metadata": {},
     "output_type": "display_data"
    },
    {
     "data": {
      "text/html": [
       "<pre>| 490          | 539980  | 25          | 67.534ms     |</pre>"
      ],
      "text/plain": [
       "| 490          | 539980  | 25          | 67.534ms     |"
      ]
     },
     "metadata": {},
     "output_type": "display_data"
    },
    {
     "data": {
      "text/html": [
       "<pre>| Done         | 2159920 | 100         | 79.623ms     |</pre>"
      ],
      "text/plain": [
       "| Done         | 2159920 | 100         | 79.623ms     |"
      ]
     },
     "metadata": {},
     "output_type": "display_data"
    },
    {
     "data": {
      "text/html": [
       "<pre>+--------------+---------+-------------+--------------+</pre>"
      ],
      "text/plain": [
       "+--------------+---------+-------------+--------------+"
      ]
     },
     "metadata": {},
     "output_type": "display_data"
    },
    {
     "data": {
      "text/html": [
       "<pre>Starting blockwise querying.</pre>"
      ],
      "text/plain": [
       "Starting blockwise querying."
      ]
     },
     "metadata": {},
     "output_type": "display_data"
    },
    {
     "data": {
      "text/html": [
       "<pre>max rows per data block: 8181</pre>"
      ],
      "text/plain": [
       "max rows per data block: 8181"
      ]
     },
     "metadata": {},
     "output_type": "display_data"
    },
    {
     "data": {
      "text/html": [
       "<pre>number of reference data blocks: 4</pre>"
      ],
      "text/plain": [
       "number of reference data blocks: 4"
      ]
     },
     "metadata": {},
     "output_type": "display_data"
    },
    {
     "data": {
      "text/html": [
       "<pre>number of query data blocks: 1</pre>"
      ],
      "text/plain": [
       "number of query data blocks: 1"
      ]
     },
     "metadata": {},
     "output_type": "display_data"
    },
    {
     "data": {
      "text/html": [
       "<pre>+--------------+---------+-------------+--------------+</pre>"
      ],
      "text/plain": [
       "+--------------+---------+-------------+--------------+"
      ]
     },
     "metadata": {},
     "output_type": "display_data"
    },
    {
     "data": {
      "text/html": [
       "<pre>| Query points | # Pairs | % Complete. | Elapsed Time |</pre>"
      ],
      "text/plain": [
       "| Query points | # Pairs | % Complete. | Elapsed Time |"
      ]
     },
     "metadata": {},
     "output_type": "display_data"
    },
    {
     "data": {
      "text/html": [
       "<pre>+--------------+---------+-------------+--------------+</pre>"
      ],
      "text/plain": [
       "+--------------+---------+-------------+--------------+"
      ]
     },
     "metadata": {},
     "output_type": "display_data"
    },
    {
     "data": {
      "text/html": [
       "<pre>| 490          | 539980  | 25          | 75.16ms      |</pre>"
      ],
      "text/plain": [
       "| 490          | 539980  | 25          | 75.16ms      |"
      ]
     },
     "metadata": {},
     "output_type": "display_data"
    },
    {
     "data": {
      "text/html": [
       "<pre>| Done         | 2159920 | 100         | 86.042ms     |</pre>"
      ],
      "text/plain": [
       "| Done         | 2159920 | 100         | 86.042ms     |"
      ]
     },
     "metadata": {},
     "output_type": "display_data"
    },
    {
     "data": {
      "text/html": [
       "<pre>+--------------+---------+-------------+--------------+</pre>"
      ],
      "text/plain": [
       "+--------------+---------+-------------+--------------+"
      ]
     },
     "metadata": {},
     "output_type": "display_data"
    },
    {
     "name": "stdout",
     "output_type": "stream",
     "text": [
      "accuracy: {'accuracy': 0.47544204322200395}\n",
      "confusion_matrix: {'confusion_matrix': Columns:\n",
      "\ttarget_label\tint\n",
      "\tpredicted_label\tint\n",
      "\tcount\tint\n",
      "\n",
      "Rows: 22\n",
      "\n",
      "Data:\n",
      "+--------------+-----------------+-------+\n",
      "| target_label | predicted_label | count |\n",
      "+--------------+-----------------+-------+\n",
      "|      7       |        8        |   1   |\n",
      "|      7       |        7        |   11  |\n",
      "|      9       |        6        |   1   |\n",
      "|      5       |        7        |   11  |\n",
      "|      5       |        5        |   71  |\n",
      "|      4       |        7        |   1   |\n",
      "|      8       |        7        |   2   |\n",
      "|      7       |        5        |   25  |\n",
      "|      4       |        4        |   1   |\n",
      "|      6       |        7        |   21  |\n",
      "+--------------+-----------------+-------+\n",
      "[22 rows x 3 columns]\n",
      "Note: Only the head of the SFrame is printed.\n",
      "You can use print_rows(num_rows=m, num_columns=n) to print more rows and columns.}\n"
     ]
    },
    {
     "data": {
      "text/html": [
       "<pre>Starting brute force nearest neighbors model training.</pre>"
      ],
      "text/plain": [
       "Starting brute force nearest neighbors model training."
      ]
     },
     "metadata": {},
     "output_type": "display_data"
    },
    {
     "name": "stdout",
     "output_type": "stream",
     "text": [
      "Class                                : NearestNeighborClassifier\n",
      "\n",
      "Schema\n",
      "------\n",
      "Number of examples                   : 4408\n",
      "Number of feature columns            : 11\n",
      "Number of unpacked features          : 11\n",
      "Number of distance components        : 1\n",
      "Number of classes                    : 7\n",
      "\n",
      "Training Summary\n",
      "----------------\n",
      "Training time (seconds)              : 0.3509\n",
      "\n",
      "WARNING: Ignoring `roc_curve`. Not supported for multi-class classification.\n"
     ]
    },
    {
     "data": {
      "text/html": [
       "<pre>Starting blockwise querying.</pre>"
      ],
      "text/plain": [
       "Starting blockwise querying."
      ]
     },
     "metadata": {},
     "output_type": "display_data"
    },
    {
     "data": {
      "text/html": [
       "<pre>max rows per data block: 8181</pre>"
      ],
      "text/plain": [
       "max rows per data block: 8181"
      ]
     },
     "metadata": {},
     "output_type": "display_data"
    },
    {
     "data": {
      "text/html": [
       "<pre>number of reference data blocks: 4</pre>"
      ],
      "text/plain": [
       "number of reference data blocks: 4"
      ]
     },
     "metadata": {},
     "output_type": "display_data"
    },
    {
     "data": {
      "text/html": [
       "<pre>number of query data blocks: 1</pre>"
      ],
      "text/plain": [
       "number of query data blocks: 1"
      ]
     },
     "metadata": {},
     "output_type": "display_data"
    },
    {
     "data": {
      "text/html": [
       "<pre>+--------------+---------+-------------+--------------+</pre>"
      ],
      "text/plain": [
       "+--------------+---------+-------------+--------------+"
      ]
     },
     "metadata": {},
     "output_type": "display_data"
    },
    {
     "data": {
      "text/html": [
       "<pre>| Query points | # Pairs | % Complete. | Elapsed Time |</pre>"
      ],
      "text/plain": [
       "| Query points | # Pairs | % Complete. | Elapsed Time |"
      ]
     },
     "metadata": {},
     "output_type": "display_data"
    },
    {
     "data": {
      "text/html": [
       "<pre>+--------------+---------+-------------+--------------+</pre>"
      ],
      "text/plain": [
       "+--------------+---------+-------------+--------------+"
      ]
     },
     "metadata": {},
     "output_type": "display_data"
    },
    {
     "data": {
      "text/html": [
       "<pre>| 490          | 539980  | 25          | 96.901ms     |</pre>"
      ],
      "text/plain": [
       "| 490          | 539980  | 25          | 96.901ms     |"
      ]
     },
     "metadata": {},
     "output_type": "display_data"
    },
    {
     "data": {
      "text/html": [
       "<pre>| Done         | 2159920 | 100         | 114.177ms    |</pre>"
      ],
      "text/plain": [
       "| Done         | 2159920 | 100         | 114.177ms    |"
      ]
     },
     "metadata": {},
     "output_type": "display_data"
    },
    {
     "data": {
      "text/html": [
       "<pre>+--------------+---------+-------------+--------------+</pre>"
      ],
      "text/plain": [
       "+--------------+---------+-------------+--------------+"
      ]
     },
     "metadata": {},
     "output_type": "display_data"
    },
    {
     "data": {
      "text/html": [
       "<pre>Starting blockwise querying.</pre>"
      ],
      "text/plain": [
       "Starting blockwise querying."
      ]
     },
     "metadata": {},
     "output_type": "display_data"
    },
    {
     "data": {
      "text/html": [
       "<pre>max rows per data block: 8181</pre>"
      ],
      "text/plain": [
       "max rows per data block: 8181"
      ]
     },
     "metadata": {},
     "output_type": "display_data"
    },
    {
     "data": {
      "text/html": [
       "<pre>number of reference data blocks: 4</pre>"
      ],
      "text/plain": [
       "number of reference data blocks: 4"
      ]
     },
     "metadata": {},
     "output_type": "display_data"
    },
    {
     "data": {
      "text/html": [
       "<pre>number of query data blocks: 1</pre>"
      ],
      "text/plain": [
       "number of query data blocks: 1"
      ]
     },
     "metadata": {},
     "output_type": "display_data"
    },
    {
     "data": {
      "text/html": [
       "<pre>+--------------+---------+-------------+--------------+</pre>"
      ],
      "text/plain": [
       "+--------------+---------+-------------+--------------+"
      ]
     },
     "metadata": {},
     "output_type": "display_data"
    },
    {
     "data": {
      "text/html": [
       "<pre>| Query points | # Pairs | % Complete. | Elapsed Time |</pre>"
      ],
      "text/plain": [
       "| Query points | # Pairs | % Complete. | Elapsed Time |"
      ]
     },
     "metadata": {},
     "output_type": "display_data"
    },
    {
     "data": {
      "text/html": [
       "<pre>+--------------+---------+-------------+--------------+</pre>"
      ],
      "text/plain": [
       "+--------------+---------+-------------+--------------+"
      ]
     },
     "metadata": {},
     "output_type": "display_data"
    },
    {
     "data": {
      "text/html": [
       "<pre>| 490          | 539980  | 25          | 53.182ms     |</pre>"
      ],
      "text/plain": [
       "| 490          | 539980  | 25          | 53.182ms     |"
      ]
     },
     "metadata": {},
     "output_type": "display_data"
    },
    {
     "data": {
      "text/html": [
       "<pre>| Done         | 2159920 | 100         | 95.97ms      |</pre>"
      ],
      "text/plain": [
       "| Done         | 2159920 | 100         | 95.97ms      |"
      ]
     },
     "metadata": {},
     "output_type": "display_data"
    },
    {
     "data": {
      "text/html": [
       "<pre>+--------------+---------+-------------+--------------+</pre>"
      ],
      "text/plain": [
       "+--------------+---------+-------------+--------------+"
      ]
     },
     "metadata": {},
     "output_type": "display_data"
    },
    {
     "name": "stdout",
     "output_type": "stream",
     "text": [
      "WARNING: Ignoring `roc_curve`. Not supported for multi-class classification.\n"
     ]
    },
    {
     "data": {
      "text/html": [
       "<pre>Starting blockwise querying.</pre>"
      ],
      "text/plain": [
       "Starting blockwise querying."
      ]
     },
     "metadata": {},
     "output_type": "display_data"
    },
    {
     "data": {
      "text/html": [
       "<pre>max rows per data block: 8181</pre>"
      ],
      "text/plain": [
       "max rows per data block: 8181"
      ]
     },
     "metadata": {},
     "output_type": "display_data"
    },
    {
     "data": {
      "text/html": [
       "<pre>number of reference data blocks: 4</pre>"
      ],
      "text/plain": [
       "number of reference data blocks: 4"
      ]
     },
     "metadata": {},
     "output_type": "display_data"
    },
    {
     "data": {
      "text/html": [
       "<pre>number of query data blocks: 1</pre>"
      ],
      "text/plain": [
       "number of query data blocks: 1"
      ]
     },
     "metadata": {},
     "output_type": "display_data"
    },
    {
     "data": {
      "text/html": [
       "<pre>+--------------+---------+-------------+--------------+</pre>"
      ],
      "text/plain": [
       "+--------------+---------+-------------+--------------+"
      ]
     },
     "metadata": {},
     "output_type": "display_data"
    },
    {
     "data": {
      "text/html": [
       "<pre>| Query points | # Pairs | % Complete. | Elapsed Time |</pre>"
      ],
      "text/plain": [
       "| Query points | # Pairs | % Complete. | Elapsed Time |"
      ]
     },
     "metadata": {},
     "output_type": "display_data"
    },
    {
     "data": {
      "text/html": [
       "<pre>+--------------+---------+-------------+--------------+</pre>"
      ],
      "text/plain": [
       "+--------------+---------+-------------+--------------+"
      ]
     },
     "metadata": {},
     "output_type": "display_data"
    },
    {
     "data": {
      "text/html": [
       "<pre>| 490          | 539980  | 25          | 48.838ms     |</pre>"
      ],
      "text/plain": [
       "| 490          | 539980  | 25          | 48.838ms     |"
      ]
     },
     "metadata": {},
     "output_type": "display_data"
    },
    {
     "data": {
      "text/html": [
       "<pre>| Done         | 2159920 | 100         | 85.353ms     |</pre>"
      ],
      "text/plain": [
       "| Done         | 2159920 | 100         | 85.353ms     |"
      ]
     },
     "metadata": {},
     "output_type": "display_data"
    },
    {
     "data": {
      "text/html": [
       "<pre>+--------------+---------+-------------+--------------+</pre>"
      ],
      "text/plain": [
       "+--------------+---------+-------------+--------------+"
      ]
     },
     "metadata": {},
     "output_type": "display_data"
    },
    {
     "data": {
      "text/html": [
       "<pre>Starting blockwise querying.</pre>"
      ],
      "text/plain": [
       "Starting blockwise querying."
      ]
     },
     "metadata": {},
     "output_type": "display_data"
    },
    {
     "data": {
      "text/html": [
       "<pre>max rows per data block: 8181</pre>"
      ],
      "text/plain": [
       "max rows per data block: 8181"
      ]
     },
     "metadata": {},
     "output_type": "display_data"
    },
    {
     "data": {
      "text/html": [
       "<pre>number of reference data blocks: 4</pre>"
      ],
      "text/plain": [
       "number of reference data blocks: 4"
      ]
     },
     "metadata": {},
     "output_type": "display_data"
    },
    {
     "data": {
      "text/html": [
       "<pre>number of query data blocks: 1</pre>"
      ],
      "text/plain": [
       "number of query data blocks: 1"
      ]
     },
     "metadata": {},
     "output_type": "display_data"
    },
    {
     "data": {
      "text/html": [
       "<pre>+--------------+---------+-------------+--------------+</pre>"
      ],
      "text/plain": [
       "+--------------+---------+-------------+--------------+"
      ]
     },
     "metadata": {},
     "output_type": "display_data"
    },
    {
     "data": {
      "text/html": [
       "<pre>| Query points | # Pairs | % Complete. | Elapsed Time |</pre>"
      ],
      "text/plain": [
       "| Query points | # Pairs | % Complete. | Elapsed Time |"
      ]
     },
     "metadata": {},
     "output_type": "display_data"
    },
    {
     "data": {
      "text/html": [
       "<pre>+--------------+---------+-------------+--------------+</pre>"
      ],
      "text/plain": [
       "+--------------+---------+-------------+--------------+"
      ]
     },
     "metadata": {},
     "output_type": "display_data"
    },
    {
     "data": {
      "text/html": [
       "<pre>| 490          | 539980  | 25          | 77.541ms     |</pre>"
      ],
      "text/plain": [
       "| 490          | 539980  | 25          | 77.541ms     |"
      ]
     },
     "metadata": {},
     "output_type": "display_data"
    },
    {
     "data": {
      "text/html": [
       "<pre>| Done         | 2159920 | 100         | 88.186ms     |</pre>"
      ],
      "text/plain": [
       "| Done         | 2159920 | 100         | 88.186ms     |"
      ]
     },
     "metadata": {},
     "output_type": "display_data"
    },
    {
     "data": {
      "text/html": [
       "<pre>+--------------+---------+-------------+--------------+</pre>"
      ],
      "text/plain": [
       "+--------------+---------+-------------+--------------+"
      ]
     },
     "metadata": {},
     "output_type": "display_data"
    },
    {
     "data": {
      "text/html": [
       "<pre>Starting blockwise querying.</pre>"
      ],
      "text/plain": [
       "Starting blockwise querying."
      ]
     },
     "metadata": {},
     "output_type": "display_data"
    },
    {
     "data": {
      "text/html": [
       "<pre>max rows per data block: 8181</pre>"
      ],
      "text/plain": [
       "max rows per data block: 8181"
      ]
     },
     "metadata": {},
     "output_type": "display_data"
    },
    {
     "data": {
      "text/html": [
       "<pre>number of reference data blocks: 4</pre>"
      ],
      "text/plain": [
       "number of reference data blocks: 4"
      ]
     },
     "metadata": {},
     "output_type": "display_data"
    },
    {
     "data": {
      "text/html": [
       "<pre>number of query data blocks: 1</pre>"
      ],
      "text/plain": [
       "number of query data blocks: 1"
      ]
     },
     "metadata": {},
     "output_type": "display_data"
    },
    {
     "data": {
      "text/html": [
       "<pre>+--------------+---------+-------------+--------------+</pre>"
      ],
      "text/plain": [
       "+--------------+---------+-------------+--------------+"
      ]
     },
     "metadata": {},
     "output_type": "display_data"
    },
    {
     "data": {
      "text/html": [
       "<pre>| Query points | # Pairs | % Complete. | Elapsed Time |</pre>"
      ],
      "text/plain": [
       "| Query points | # Pairs | % Complete. | Elapsed Time |"
      ]
     },
     "metadata": {},
     "output_type": "display_data"
    },
    {
     "data": {
      "text/html": [
       "<pre>+--------------+---------+-------------+--------------+</pre>"
      ],
      "text/plain": [
       "+--------------+---------+-------------+--------------+"
      ]
     },
     "metadata": {},
     "output_type": "display_data"
    },
    {
     "data": {
      "text/html": [
       "<pre>| 490          | 539980  | 25          | 63.615ms     |</pre>"
      ],
      "text/plain": [
       "| 490          | 539980  | 25          | 63.615ms     |"
      ]
     },
     "metadata": {},
     "output_type": "display_data"
    },
    {
     "data": {
      "text/html": [
       "<pre>| Done         | 2159920 | 100         | 88.266ms     |</pre>"
      ],
      "text/plain": [
       "| Done         | 2159920 | 100         | 88.266ms     |"
      ]
     },
     "metadata": {},
     "output_type": "display_data"
    },
    {
     "data": {
      "text/html": [
       "<pre>+--------------+---------+-------------+--------------+</pre>"
      ],
      "text/plain": [
       "+--------------+---------+-------------+--------------+"
      ]
     },
     "metadata": {},
     "output_type": "display_data"
    },
    {
     "name": "stdout",
     "output_type": "stream",
     "text": [
      "accuracy: {'accuracy': 0.47544204322200395}\n",
      "confusion_matrix: {'confusion_matrix': Columns:\n",
      "\ttarget_label\tint\n",
      "\tpredicted_label\tint\n",
      "\tcount\tint\n",
      "\n",
      "Rows: 20\n",
      "\n",
      "Data:\n",
      "+--------------+-----------------+-------+\n",
      "| target_label | predicted_label | count |\n",
      "+--------------+-----------------+-------+\n",
      "|      6       |        4        |   1   |\n",
      "|      6       |        7        |   24  |\n",
      "|      4       |        5        |   12  |\n",
      "|      8       |        6        |   3   |\n",
      "|      4       |        7        |   2   |\n",
      "|      8       |        7        |   2   |\n",
      "|      7       |        6        |   23  |\n",
      "|      4       |        6        |   11  |\n",
      "|      5       |        4        |   2   |\n",
      "|      8       |        5        |   8   |\n",
      "+--------------+-----------------+-------+\n",
      "[20 rows x 3 columns]\n",
      "Note: Only the head of the SFrame is printed.\n",
      "You can use print_rows(num_rows=m, num_columns=n) to print more rows and columns.}\n"
     ]
    },
    {
     "data": {
      "text/html": [
       "<pre>Starting brute force nearest neighbors model training.</pre>"
      ],
      "text/plain": [
       "Starting brute force nearest neighbors model training."
      ]
     },
     "metadata": {},
     "output_type": "display_data"
    },
    {
     "name": "stdout",
     "output_type": "stream",
     "text": [
      "Class                                : NearestNeighborClassifier\n",
      "\n",
      "Schema\n",
      "------\n",
      "Number of examples                   : 4408\n",
      "Number of feature columns            : 11\n",
      "Number of unpacked features          : 11\n",
      "Number of distance components        : 1\n",
      "Number of classes                    : 7\n",
      "\n",
      "Training Summary\n",
      "----------------\n",
      "Training time (seconds)              : 0.216\n",
      "\n",
      "WARNING: Ignoring `roc_curve`. Not supported for multi-class classification.\n"
     ]
    },
    {
     "data": {
      "text/html": [
       "<pre>Starting blockwise querying.</pre>"
      ],
      "text/plain": [
       "Starting blockwise querying."
      ]
     },
     "metadata": {},
     "output_type": "display_data"
    },
    {
     "data": {
      "text/html": [
       "<pre>max rows per data block: 8181</pre>"
      ],
      "text/plain": [
       "max rows per data block: 8181"
      ]
     },
     "metadata": {},
     "output_type": "display_data"
    },
    {
     "data": {
      "text/html": [
       "<pre>number of reference data blocks: 4</pre>"
      ],
      "text/plain": [
       "number of reference data blocks: 4"
      ]
     },
     "metadata": {},
     "output_type": "display_data"
    },
    {
     "data": {
      "text/html": [
       "<pre>number of query data blocks: 1</pre>"
      ],
      "text/plain": [
       "number of query data blocks: 1"
      ]
     },
     "metadata": {},
     "output_type": "display_data"
    },
    {
     "data": {
      "text/html": [
       "<pre>+--------------+---------+-------------+--------------+</pre>"
      ],
      "text/plain": [
       "+--------------+---------+-------------+--------------+"
      ]
     },
     "metadata": {},
     "output_type": "display_data"
    },
    {
     "data": {
      "text/html": [
       "<pre>| Query points | # Pairs | % Complete. | Elapsed Time |</pre>"
      ],
      "text/plain": [
       "| Query points | # Pairs | % Complete. | Elapsed Time |"
      ]
     },
     "metadata": {},
     "output_type": "display_data"
    },
    {
     "data": {
      "text/html": [
       "<pre>+--------------+---------+-------------+--------------+</pre>"
      ],
      "text/plain": [
       "+--------------+---------+-------------+--------------+"
      ]
     },
     "metadata": {},
     "output_type": "display_data"
    },
    {
     "data": {
      "text/html": [
       "<pre>| 490          | 539980  | 25          | 124.025ms    |</pre>"
      ],
      "text/plain": [
       "| 490          | 539980  | 25          | 124.025ms    |"
      ]
     },
     "metadata": {},
     "output_type": "display_data"
    },
    {
     "data": {
      "text/html": [
       "<pre>| Done         | 2159920 | 100         | 161.615ms    |</pre>"
      ],
      "text/plain": [
       "| Done         | 2159920 | 100         | 161.615ms    |"
      ]
     },
     "metadata": {},
     "output_type": "display_data"
    },
    {
     "data": {
      "text/html": [
       "<pre>+--------------+---------+-------------+--------------+</pre>"
      ],
      "text/plain": [
       "+--------------+---------+-------------+--------------+"
      ]
     },
     "metadata": {},
     "output_type": "display_data"
    },
    {
     "data": {
      "text/html": [
       "<pre>Starting blockwise querying.</pre>"
      ],
      "text/plain": [
       "Starting blockwise querying."
      ]
     },
     "metadata": {},
     "output_type": "display_data"
    },
    {
     "data": {
      "text/html": [
       "<pre>max rows per data block: 8181</pre>"
      ],
      "text/plain": [
       "max rows per data block: 8181"
      ]
     },
     "metadata": {},
     "output_type": "display_data"
    },
    {
     "data": {
      "text/html": [
       "<pre>number of reference data blocks: 4</pre>"
      ],
      "text/plain": [
       "number of reference data blocks: 4"
      ]
     },
     "metadata": {},
     "output_type": "display_data"
    },
    {
     "data": {
      "text/html": [
       "<pre>number of query data blocks: 1</pre>"
      ],
      "text/plain": [
       "number of query data blocks: 1"
      ]
     },
     "metadata": {},
     "output_type": "display_data"
    },
    {
     "data": {
      "text/html": [
       "<pre>+--------------+---------+-------------+--------------+</pre>"
      ],
      "text/plain": [
       "+--------------+---------+-------------+--------------+"
      ]
     },
     "metadata": {},
     "output_type": "display_data"
    },
    {
     "data": {
      "text/html": [
       "<pre>| Query points | # Pairs | % Complete. | Elapsed Time |</pre>"
      ],
      "text/plain": [
       "| Query points | # Pairs | % Complete. | Elapsed Time |"
      ]
     },
     "metadata": {},
     "output_type": "display_data"
    },
    {
     "data": {
      "text/html": [
       "<pre>+--------------+---------+-------------+--------------+</pre>"
      ],
      "text/plain": [
       "+--------------+---------+-------------+--------------+"
      ]
     },
     "metadata": {},
     "output_type": "display_data"
    },
    {
     "data": {
      "text/html": [
       "<pre>| 490          | 539980  | 25          | 102.44ms     |</pre>"
      ],
      "text/plain": [
       "| 490          | 539980  | 25          | 102.44ms     |"
      ]
     },
     "metadata": {},
     "output_type": "display_data"
    },
    {
     "data": {
      "text/html": [
       "<pre>| Done         | 2159920 | 100         | 105.79ms     |</pre>"
      ],
      "text/plain": [
       "| Done         | 2159920 | 100         | 105.79ms     |"
      ]
     },
     "metadata": {},
     "output_type": "display_data"
    },
    {
     "data": {
      "text/html": [
       "<pre>+--------------+---------+-------------+--------------+</pre>"
      ],
      "text/plain": [
       "+--------------+---------+-------------+--------------+"
      ]
     },
     "metadata": {},
     "output_type": "display_data"
    },
    {
     "name": "stdout",
     "output_type": "stream",
     "text": [
      "WARNING: Ignoring `roc_curve`. Not supported for multi-class classification.\n"
     ]
    },
    {
     "data": {
      "text/html": [
       "<pre>Starting blockwise querying.</pre>"
      ],
      "text/plain": [
       "Starting blockwise querying."
      ]
     },
     "metadata": {},
     "output_type": "display_data"
    },
    {
     "data": {
      "text/html": [
       "<pre>max rows per data block: 8181</pre>"
      ],
      "text/plain": [
       "max rows per data block: 8181"
      ]
     },
     "metadata": {},
     "output_type": "display_data"
    },
    {
     "data": {
      "text/html": [
       "<pre>number of reference data blocks: 4</pre>"
      ],
      "text/plain": [
       "number of reference data blocks: 4"
      ]
     },
     "metadata": {},
     "output_type": "display_data"
    },
    {
     "data": {
      "text/html": [
       "<pre>number of query data blocks: 1</pre>"
      ],
      "text/plain": [
       "number of query data blocks: 1"
      ]
     },
     "metadata": {},
     "output_type": "display_data"
    },
    {
     "data": {
      "text/html": [
       "<pre>+--------------+---------+-------------+--------------+</pre>"
      ],
      "text/plain": [
       "+--------------+---------+-------------+--------------+"
      ]
     },
     "metadata": {},
     "output_type": "display_data"
    },
    {
     "data": {
      "text/html": [
       "<pre>| Query points | # Pairs | % Complete. | Elapsed Time |</pre>"
      ],
      "text/plain": [
       "| Query points | # Pairs | % Complete. | Elapsed Time |"
      ]
     },
     "metadata": {},
     "output_type": "display_data"
    },
    {
     "data": {
      "text/html": [
       "<pre>+--------------+---------+-------------+--------------+</pre>"
      ],
      "text/plain": [
       "+--------------+---------+-------------+--------------+"
      ]
     },
     "metadata": {},
     "output_type": "display_data"
    },
    {
     "data": {
      "text/html": [
       "<pre>| 490          | 539980  | 25          | 81.729ms     |</pre>"
      ],
      "text/plain": [
       "| 490          | 539980  | 25          | 81.729ms     |"
      ]
     },
     "metadata": {},
     "output_type": "display_data"
    },
    {
     "data": {
      "text/html": [
       "<pre>| Done         | 2159920 | 100         | 118.896ms    |</pre>"
      ],
      "text/plain": [
       "| Done         | 2159920 | 100         | 118.896ms    |"
      ]
     },
     "metadata": {},
     "output_type": "display_data"
    },
    {
     "data": {
      "text/html": [
       "<pre>+--------------+---------+-------------+--------------+</pre>"
      ],
      "text/plain": [
       "+--------------+---------+-------------+--------------+"
      ]
     },
     "metadata": {},
     "output_type": "display_data"
    },
    {
     "data": {
      "text/html": [
       "<pre>Starting blockwise querying.</pre>"
      ],
      "text/plain": [
       "Starting blockwise querying."
      ]
     },
     "metadata": {},
     "output_type": "display_data"
    },
    {
     "data": {
      "text/html": [
       "<pre>max rows per data block: 8181</pre>"
      ],
      "text/plain": [
       "max rows per data block: 8181"
      ]
     },
     "metadata": {},
     "output_type": "display_data"
    },
    {
     "data": {
      "text/html": [
       "<pre>number of reference data blocks: 4</pre>"
      ],
      "text/plain": [
       "number of reference data blocks: 4"
      ]
     },
     "metadata": {},
     "output_type": "display_data"
    },
    {
     "data": {
      "text/html": [
       "<pre>number of query data blocks: 1</pre>"
      ],
      "text/plain": [
       "number of query data blocks: 1"
      ]
     },
     "metadata": {},
     "output_type": "display_data"
    },
    {
     "data": {
      "text/html": [
       "<pre>+--------------+---------+-------------+--------------+</pre>"
      ],
      "text/plain": [
       "+--------------+---------+-------------+--------------+"
      ]
     },
     "metadata": {},
     "output_type": "display_data"
    },
    {
     "data": {
      "text/html": [
       "<pre>| Query points | # Pairs | % Complete. | Elapsed Time |</pre>"
      ],
      "text/plain": [
       "| Query points | # Pairs | % Complete. | Elapsed Time |"
      ]
     },
     "metadata": {},
     "output_type": "display_data"
    },
    {
     "data": {
      "text/html": [
       "<pre>+--------------+---------+-------------+--------------+</pre>"
      ],
      "text/plain": [
       "+--------------+---------+-------------+--------------+"
      ]
     },
     "metadata": {},
     "output_type": "display_data"
    },
    {
     "data": {
      "text/html": [
       "<pre>| 490          | 539980  | 25          | 66.549ms     |</pre>"
      ],
      "text/plain": [
       "| 490          | 539980  | 25          | 66.549ms     |"
      ]
     },
     "metadata": {},
     "output_type": "display_data"
    },
    {
     "data": {
      "text/html": [
       "<pre>| Done         | 2159920 | 100         | 111.359ms    |</pre>"
      ],
      "text/plain": [
       "| Done         | 2159920 | 100         | 111.359ms    |"
      ]
     },
     "metadata": {},
     "output_type": "display_data"
    },
    {
     "data": {
      "text/html": [
       "<pre>+--------------+---------+-------------+--------------+</pre>"
      ],
      "text/plain": [
       "+--------------+---------+-------------+--------------+"
      ]
     },
     "metadata": {},
     "output_type": "display_data"
    },
    {
     "data": {
      "text/html": [
       "<pre>Starting blockwise querying.</pre>"
      ],
      "text/plain": [
       "Starting blockwise querying."
      ]
     },
     "metadata": {},
     "output_type": "display_data"
    },
    {
     "data": {
      "text/html": [
       "<pre>max rows per data block: 8181</pre>"
      ],
      "text/plain": [
       "max rows per data block: 8181"
      ]
     },
     "metadata": {},
     "output_type": "display_data"
    },
    {
     "data": {
      "text/html": [
       "<pre>number of reference data blocks: 4</pre>"
      ],
      "text/plain": [
       "number of reference data blocks: 4"
      ]
     },
     "metadata": {},
     "output_type": "display_data"
    },
    {
     "data": {
      "text/html": [
       "<pre>number of query data blocks: 1</pre>"
      ],
      "text/plain": [
       "number of query data blocks: 1"
      ]
     },
     "metadata": {},
     "output_type": "display_data"
    },
    {
     "data": {
      "text/html": [
       "<pre>+--------------+---------+-------------+--------------+</pre>"
      ],
      "text/plain": [
       "+--------------+---------+-------------+--------------+"
      ]
     },
     "metadata": {},
     "output_type": "display_data"
    },
    {
     "data": {
      "text/html": [
       "<pre>| Query points | # Pairs | % Complete. | Elapsed Time |</pre>"
      ],
      "text/plain": [
       "| Query points | # Pairs | % Complete. | Elapsed Time |"
      ]
     },
     "metadata": {},
     "output_type": "display_data"
    },
    {
     "data": {
      "text/html": [
       "<pre>+--------------+---------+-------------+--------------+</pre>"
      ],
      "text/plain": [
       "+--------------+---------+-------------+--------------+"
      ]
     },
     "metadata": {},
     "output_type": "display_data"
    },
    {
     "data": {
      "text/html": [
       "<pre>| 490          | 1079960 | 50          | 55.901ms     |</pre>"
      ],
      "text/plain": [
       "| 490          | 1079960 | 50          | 55.901ms     |"
      ]
     },
     "metadata": {},
     "output_type": "display_data"
    },
    {
     "data": {
      "text/html": [
       "<pre>| Done         | 2159920 | 100         | 89.862ms     |</pre>"
      ],
      "text/plain": [
       "| Done         | 2159920 | 100         | 89.862ms     |"
      ]
     },
     "metadata": {},
     "output_type": "display_data"
    },
    {
     "data": {
      "text/html": [
       "<pre>+--------------+---------+-------------+--------------+</pre>"
      ],
      "text/plain": [
       "+--------------+---------+-------------+--------------+"
      ]
     },
     "metadata": {},
     "output_type": "display_data"
    },
    {
     "name": "stdout",
     "output_type": "stream",
     "text": [
      "accuracy: {'accuracy': 0.47544204322200395}\n",
      "confusion_matrix: {'confusion_matrix': Columns:\n",
      "\ttarget_label\tint\n",
      "\tpredicted_label\tint\n",
      "\tcount\tint\n",
      "\n",
      "Rows: 20\n",
      "\n",
      "Data:\n",
      "+--------------+-----------------+-------+\n",
      "| target_label | predicted_label | count |\n",
      "+--------------+-----------------+-------+\n",
      "|      7       |        8        |   1   |\n",
      "|      7       |        7        |   26  |\n",
      "|      8       |        7        |   5   |\n",
      "|      4       |        8        |   1   |\n",
      "|      6       |        4        |   3   |\n",
      "|      6       |        7        |   37  |\n",
      "|      8       |        6        |   14  |\n",
      "|      4       |        6        |   2   |\n",
      "|      5       |        4        |   2   |\n",
      "|      8       |        5        |   2   |\n",
      "+--------------+-----------------+-------+\n",
      "[20 rows x 3 columns]\n",
      "Note: Only the head of the SFrame is printed.\n",
      "You can use print_rows(num_rows=m, num_columns=n) to print more rows and columns.}\n"
     ]
    },
    {
     "data": {
      "text/html": [
       "<pre>Starting brute force nearest neighbors model training.</pre>"
      ],
      "text/plain": [
       "Starting brute force nearest neighbors model training."
      ]
     },
     "metadata": {},
     "output_type": "display_data"
    },
    {
     "name": "stdout",
     "output_type": "stream",
     "text": [
      "Class                                : NearestNeighborClassifier\n",
      "\n",
      "Schema\n",
      "------\n",
      "Number of examples                   : 4408\n",
      "Number of feature columns            : 11\n",
      "Number of unpacked features          : 11\n",
      "Number of distance components        : 1\n",
      "Number of classes                    : 7\n",
      "\n",
      "Training Summary\n",
      "----------------\n",
      "Training time (seconds)              : 0.1999\n",
      "\n",
      "WARNING: Ignoring `roc_curve`. Not supported for multi-class classification.\n"
     ]
    },
    {
     "data": {
      "text/html": [
       "<pre>Starting blockwise querying.</pre>"
      ],
      "text/plain": [
       "Starting blockwise querying."
      ]
     },
     "metadata": {},
     "output_type": "display_data"
    },
    {
     "data": {
      "text/html": [
       "<pre>max rows per data block: 8181</pre>"
      ],
      "text/plain": [
       "max rows per data block: 8181"
      ]
     },
     "metadata": {},
     "output_type": "display_data"
    },
    {
     "data": {
      "text/html": [
       "<pre>number of reference data blocks: 4</pre>"
      ],
      "text/plain": [
       "number of reference data blocks: 4"
      ]
     },
     "metadata": {},
     "output_type": "display_data"
    },
    {
     "data": {
      "text/html": [
       "<pre>number of query data blocks: 1</pre>"
      ],
      "text/plain": [
       "number of query data blocks: 1"
      ]
     },
     "metadata": {},
     "output_type": "display_data"
    },
    {
     "data": {
      "text/html": [
       "<pre>+--------------+---------+-------------+--------------+</pre>"
      ],
      "text/plain": [
       "+--------------+---------+-------------+--------------+"
      ]
     },
     "metadata": {},
     "output_type": "display_data"
    },
    {
     "data": {
      "text/html": [
       "<pre>| Query points | # Pairs | % Complete. | Elapsed Time |</pre>"
      ],
      "text/plain": [
       "| Query points | # Pairs | % Complete. | Elapsed Time |"
      ]
     },
     "metadata": {},
     "output_type": "display_data"
    },
    {
     "data": {
      "text/html": [
       "<pre>+--------------+---------+-------------+--------------+</pre>"
      ],
      "text/plain": [
       "+--------------+---------+-------------+--------------+"
      ]
     },
     "metadata": {},
     "output_type": "display_data"
    },
    {
     "data": {
      "text/html": [
       "<pre>| 490          | 539980  | 25          | 87.442ms     |</pre>"
      ],
      "text/plain": [
       "| 490          | 539980  | 25          | 87.442ms     |"
      ]
     },
     "metadata": {},
     "output_type": "display_data"
    },
    {
     "data": {
      "text/html": [
       "<pre>| Done         | 2159920 | 100         | 125.571ms    |</pre>"
      ],
      "text/plain": [
       "| Done         | 2159920 | 100         | 125.571ms    |"
      ]
     },
     "metadata": {},
     "output_type": "display_data"
    },
    {
     "data": {
      "text/html": [
       "<pre>+--------------+---------+-------------+--------------+</pre>"
      ],
      "text/plain": [
       "+--------------+---------+-------------+--------------+"
      ]
     },
     "metadata": {},
     "output_type": "display_data"
    },
    {
     "data": {
      "text/html": [
       "<pre>Starting blockwise querying.</pre>"
      ],
      "text/plain": [
       "Starting blockwise querying."
      ]
     },
     "metadata": {},
     "output_type": "display_data"
    },
    {
     "data": {
      "text/html": [
       "<pre>max rows per data block: 8181</pre>"
      ],
      "text/plain": [
       "max rows per data block: 8181"
      ]
     },
     "metadata": {},
     "output_type": "display_data"
    },
    {
     "data": {
      "text/html": [
       "<pre>number of reference data blocks: 4</pre>"
      ],
      "text/plain": [
       "number of reference data blocks: 4"
      ]
     },
     "metadata": {},
     "output_type": "display_data"
    },
    {
     "data": {
      "text/html": [
       "<pre>number of query data blocks: 1</pre>"
      ],
      "text/plain": [
       "number of query data blocks: 1"
      ]
     },
     "metadata": {},
     "output_type": "display_data"
    },
    {
     "data": {
      "text/html": [
       "<pre>+--------------+---------+-------------+--------------+</pre>"
      ],
      "text/plain": [
       "+--------------+---------+-------------+--------------+"
      ]
     },
     "metadata": {},
     "output_type": "display_data"
    },
    {
     "data": {
      "text/html": [
       "<pre>| Query points | # Pairs | % Complete. | Elapsed Time |</pre>"
      ],
      "text/plain": [
       "| Query points | # Pairs | % Complete. | Elapsed Time |"
      ]
     },
     "metadata": {},
     "output_type": "display_data"
    },
    {
     "data": {
      "text/html": [
       "<pre>+--------------+---------+-------------+--------------+</pre>"
      ],
      "text/plain": [
       "+--------------+---------+-------------+--------------+"
      ]
     },
     "metadata": {},
     "output_type": "display_data"
    },
    {
     "data": {
      "text/html": [
       "<pre>| 490          | 539980  | 25          | 170.066ms    |</pre>"
      ],
      "text/plain": [
       "| 490          | 539980  | 25          | 170.066ms    |"
      ]
     },
     "metadata": {},
     "output_type": "display_data"
    },
    {
     "data": {
      "text/html": [
       "<pre>| Done         | 2159920 | 100         | 176.281ms    |</pre>"
      ],
      "text/plain": [
       "| Done         | 2159920 | 100         | 176.281ms    |"
      ]
     },
     "metadata": {},
     "output_type": "display_data"
    },
    {
     "data": {
      "text/html": [
       "<pre>+--------------+---------+-------------+--------------+</pre>"
      ],
      "text/plain": [
       "+--------------+---------+-------------+--------------+"
      ]
     },
     "metadata": {},
     "output_type": "display_data"
    },
    {
     "name": "stdout",
     "output_type": "stream",
     "text": [
      "WARNING: Ignoring `roc_curve`. Not supported for multi-class classification.\n"
     ]
    },
    {
     "data": {
      "text/html": [
       "<pre>Starting blockwise querying.</pre>"
      ],
      "text/plain": [
       "Starting blockwise querying."
      ]
     },
     "metadata": {},
     "output_type": "display_data"
    },
    {
     "data": {
      "text/html": [
       "<pre>max rows per data block: 8181</pre>"
      ],
      "text/plain": [
       "max rows per data block: 8181"
      ]
     },
     "metadata": {},
     "output_type": "display_data"
    },
    {
     "data": {
      "text/html": [
       "<pre>number of reference data blocks: 4</pre>"
      ],
      "text/plain": [
       "number of reference data blocks: 4"
      ]
     },
     "metadata": {},
     "output_type": "display_data"
    },
    {
     "data": {
      "text/html": [
       "<pre>number of query data blocks: 1</pre>"
      ],
      "text/plain": [
       "number of query data blocks: 1"
      ]
     },
     "metadata": {},
     "output_type": "display_data"
    },
    {
     "data": {
      "text/html": [
       "<pre>+--------------+---------+-------------+--------------+</pre>"
      ],
      "text/plain": [
       "+--------------+---------+-------------+--------------+"
      ]
     },
     "metadata": {},
     "output_type": "display_data"
    },
    {
     "data": {
      "text/html": [
       "<pre>| Query points | # Pairs | % Complete. | Elapsed Time |</pre>"
      ],
      "text/plain": [
       "| Query points | # Pairs | % Complete. | Elapsed Time |"
      ]
     },
     "metadata": {},
     "output_type": "display_data"
    },
    {
     "data": {
      "text/html": [
       "<pre>+--------------+---------+-------------+--------------+</pre>"
      ],
      "text/plain": [
       "+--------------+---------+-------------+--------------+"
      ]
     },
     "metadata": {},
     "output_type": "display_data"
    },
    {
     "data": {
      "text/html": [
       "<pre>| 490          | 539980  | 25          | 81.875ms     |</pre>"
      ],
      "text/plain": [
       "| 490          | 539980  | 25          | 81.875ms     |"
      ]
     },
     "metadata": {},
     "output_type": "display_data"
    },
    {
     "data": {
      "text/html": [
       "<pre>| Done         | 2159920 | 100         | 87.986ms     |</pre>"
      ],
      "text/plain": [
       "| Done         | 2159920 | 100         | 87.986ms     |"
      ]
     },
     "metadata": {},
     "output_type": "display_data"
    },
    {
     "data": {
      "text/html": [
       "<pre>+--------------+---------+-------------+--------------+</pre>"
      ],
      "text/plain": [
       "+--------------+---------+-------------+--------------+"
      ]
     },
     "metadata": {},
     "output_type": "display_data"
    },
    {
     "data": {
      "text/html": [
       "<pre>Starting blockwise querying.</pre>"
      ],
      "text/plain": [
       "Starting blockwise querying."
      ]
     },
     "metadata": {},
     "output_type": "display_data"
    },
    {
     "data": {
      "text/html": [
       "<pre>max rows per data block: 8181</pre>"
      ],
      "text/plain": [
       "max rows per data block: 8181"
      ]
     },
     "metadata": {},
     "output_type": "display_data"
    },
    {
     "data": {
      "text/html": [
       "<pre>number of reference data blocks: 4</pre>"
      ],
      "text/plain": [
       "number of reference data blocks: 4"
      ]
     },
     "metadata": {},
     "output_type": "display_data"
    },
    {
     "data": {
      "text/html": [
       "<pre>number of query data blocks: 1</pre>"
      ],
      "text/plain": [
       "number of query data blocks: 1"
      ]
     },
     "metadata": {},
     "output_type": "display_data"
    },
    {
     "data": {
      "text/html": [
       "<pre>+--------------+---------+-------------+--------------+</pre>"
      ],
      "text/plain": [
       "+--------------+---------+-------------+--------------+"
      ]
     },
     "metadata": {},
     "output_type": "display_data"
    },
    {
     "data": {
      "text/html": [
       "<pre>| Query points | # Pairs | % Complete. | Elapsed Time |</pre>"
      ],
      "text/plain": [
       "| Query points | # Pairs | % Complete. | Elapsed Time |"
      ]
     },
     "metadata": {},
     "output_type": "display_data"
    },
    {
     "data": {
      "text/html": [
       "<pre>+--------------+---------+-------------+--------------+</pre>"
      ],
      "text/plain": [
       "+--------------+---------+-------------+--------------+"
      ]
     },
     "metadata": {},
     "output_type": "display_data"
    },
    {
     "data": {
      "text/html": [
       "<pre>| 490          | 539980  | 25          | 53.576ms     |</pre>"
      ],
      "text/plain": [
       "| 490          | 539980  | 25          | 53.576ms     |"
      ]
     },
     "metadata": {},
     "output_type": "display_data"
    },
    {
     "data": {
      "text/html": [
       "<pre>| Done         | 2159920 | 100         | 93.339ms     |</pre>"
      ],
      "text/plain": [
       "| Done         | 2159920 | 100         | 93.339ms     |"
      ]
     },
     "metadata": {},
     "output_type": "display_data"
    },
    {
     "data": {
      "text/html": [
       "<pre>+--------------+---------+-------------+--------------+</pre>"
      ],
      "text/plain": [
       "+--------------+---------+-------------+--------------+"
      ]
     },
     "metadata": {},
     "output_type": "display_data"
    },
    {
     "data": {
      "text/html": [
       "<pre>Starting blockwise querying.</pre>"
      ],
      "text/plain": [
       "Starting blockwise querying."
      ]
     },
     "metadata": {},
     "output_type": "display_data"
    },
    {
     "data": {
      "text/html": [
       "<pre>max rows per data block: 8181</pre>"
      ],
      "text/plain": [
       "max rows per data block: 8181"
      ]
     },
     "metadata": {},
     "output_type": "display_data"
    },
    {
     "data": {
      "text/html": [
       "<pre>number of reference data blocks: 4</pre>"
      ],
      "text/plain": [
       "number of reference data blocks: 4"
      ]
     },
     "metadata": {},
     "output_type": "display_data"
    },
    {
     "data": {
      "text/html": [
       "<pre>number of query data blocks: 1</pre>"
      ],
      "text/plain": [
       "number of query data blocks: 1"
      ]
     },
     "metadata": {},
     "output_type": "display_data"
    },
    {
     "data": {
      "text/html": [
       "<pre>+--------------+---------+-------------+--------------+</pre>"
      ],
      "text/plain": [
       "+--------------+---------+-------------+--------------+"
      ]
     },
     "metadata": {},
     "output_type": "display_data"
    },
    {
     "data": {
      "text/html": [
       "<pre>| Query points | # Pairs | % Complete. | Elapsed Time |</pre>"
      ],
      "text/plain": [
       "| Query points | # Pairs | % Complete. | Elapsed Time |"
      ]
     },
     "metadata": {},
     "output_type": "display_data"
    },
    {
     "data": {
      "text/html": [
       "<pre>+--------------+---------+-------------+--------------+</pre>"
      ],
      "text/plain": [
       "+--------------+---------+-------------+--------------+"
      ]
     },
     "metadata": {},
     "output_type": "display_data"
    },
    {
     "data": {
      "text/html": [
       "<pre>| 490          | 539980  | 25          | 81.654ms     |</pre>"
      ],
      "text/plain": [
       "| 490          | 539980  | 25          | 81.654ms     |"
      ]
     },
     "metadata": {},
     "output_type": "display_data"
    },
    {
     "data": {
      "text/html": [
       "<pre>| Done         | 2159920 | 100         | 100.773ms    |</pre>"
      ],
      "text/plain": [
       "| Done         | 2159920 | 100         | 100.773ms    |"
      ]
     },
     "metadata": {},
     "output_type": "display_data"
    },
    {
     "data": {
      "text/html": [
       "<pre>+--------------+---------+-------------+--------------+</pre>"
      ],
      "text/plain": [
       "+--------------+---------+-------------+--------------+"
      ]
     },
     "metadata": {},
     "output_type": "display_data"
    },
    {
     "name": "stdout",
     "output_type": "stream",
     "text": [
      "accuracy: {'accuracy': 0.47544204322200395}\n",
      "confusion_matrix: {'confusion_matrix': Columns:\n",
      "\ttarget_label\tint\n",
      "\tpredicted_label\tint\n",
      "\tcount\tint\n",
      "\n",
      "Rows: 21\n",
      "\n",
      "Data:\n",
      "+--------------+-----------------+-------+\n",
      "| target_label | predicted_label | count |\n",
      "+--------------+-----------------+-------+\n",
      "|      7       |        8        |   1   |\n",
      "|      3       |        6        |   4   |\n",
      "|      5       |        4        |   1   |\n",
      "|      4       |        6        |   4   |\n",
      "|      7       |        4        |   1   |\n",
      "|      4       |        5        |   4   |\n",
      "|      8       |        5        |   2   |\n",
      "|      7       |        5        |   4   |\n",
      "|      4       |        4        |   1   |\n",
      "|      6       |        4        |   3   |\n",
      "+--------------+-----------------+-------+\n",
      "[21 rows x 3 columns]\n",
      "Note: Only the head of the SFrame is printed.\n",
      "You can use print_rows(num_rows=m, num_columns=n) to print more rows and columns.}\n"
     ]
    },
    {
     "data": {
      "text/html": [
       "<pre>Starting brute force nearest neighbors model training.</pre>"
      ],
      "text/plain": [
       "Starting brute force nearest neighbors model training."
      ]
     },
     "metadata": {},
     "output_type": "display_data"
    },
    {
     "name": "stdout",
     "output_type": "stream",
     "text": [
      "Class                                : NearestNeighborClassifier\n",
      "\n",
      "Schema\n",
      "------\n",
      "Number of examples                   : 4408\n",
      "Number of feature columns            : 11\n",
      "Number of unpacked features          : 11\n",
      "Number of distance components        : 1\n",
      "Number of classes                    : 7\n",
      "\n",
      "Training Summary\n",
      "----------------\n",
      "Training time (seconds)              : 0.1736\n",
      "\n",
      "WARNING: Ignoring `roc_curve`. Not supported for multi-class classification.\n"
     ]
    },
    {
     "data": {
      "text/html": [
       "<pre>Starting blockwise querying.</pre>"
      ],
      "text/plain": [
       "Starting blockwise querying."
      ]
     },
     "metadata": {},
     "output_type": "display_data"
    },
    {
     "data": {
      "text/html": [
       "<pre>max rows per data block: 8181</pre>"
      ],
      "text/plain": [
       "max rows per data block: 8181"
      ]
     },
     "metadata": {},
     "output_type": "display_data"
    },
    {
     "data": {
      "text/html": [
       "<pre>number of reference data blocks: 4</pre>"
      ],
      "text/plain": [
       "number of reference data blocks: 4"
      ]
     },
     "metadata": {},
     "output_type": "display_data"
    },
    {
     "data": {
      "text/html": [
       "<pre>number of query data blocks: 1</pre>"
      ],
      "text/plain": [
       "number of query data blocks: 1"
      ]
     },
     "metadata": {},
     "output_type": "display_data"
    },
    {
     "data": {
      "text/html": [
       "<pre>+--------------+---------+-------------+--------------+</pre>"
      ],
      "text/plain": [
       "+--------------+---------+-------------+--------------+"
      ]
     },
     "metadata": {},
     "output_type": "display_data"
    },
    {
     "data": {
      "text/html": [
       "<pre>| Query points | # Pairs | % Complete. | Elapsed Time |</pre>"
      ],
      "text/plain": [
       "| Query points | # Pairs | % Complete. | Elapsed Time |"
      ]
     },
     "metadata": {},
     "output_type": "display_data"
    },
    {
     "data": {
      "text/html": [
       "<pre>+--------------+---------+-------------+--------------+</pre>"
      ],
      "text/plain": [
       "+--------------+---------+-------------+--------------+"
      ]
     },
     "metadata": {},
     "output_type": "display_data"
    },
    {
     "data": {
      "text/html": [
       "<pre>| 490          | 539980  | 25          | 59.303ms     |</pre>"
      ],
      "text/plain": [
       "| 490          | 539980  | 25          | 59.303ms     |"
      ]
     },
     "metadata": {},
     "output_type": "display_data"
    },
    {
     "data": {
      "text/html": [
       "<pre>| Done         | 2159920 | 100         | 73.359ms     |</pre>"
      ],
      "text/plain": [
       "| Done         | 2159920 | 100         | 73.359ms     |"
      ]
     },
     "metadata": {},
     "output_type": "display_data"
    },
    {
     "data": {
      "text/html": [
       "<pre>+--------------+---------+-------------+--------------+</pre>"
      ],
      "text/plain": [
       "+--------------+---------+-------------+--------------+"
      ]
     },
     "metadata": {},
     "output_type": "display_data"
    },
    {
     "data": {
      "text/html": [
       "<pre>Starting blockwise querying.</pre>"
      ],
      "text/plain": [
       "Starting blockwise querying."
      ]
     },
     "metadata": {},
     "output_type": "display_data"
    },
    {
     "data": {
      "text/html": [
       "<pre>max rows per data block: 8181</pre>"
      ],
      "text/plain": [
       "max rows per data block: 8181"
      ]
     },
     "metadata": {},
     "output_type": "display_data"
    },
    {
     "data": {
      "text/html": [
       "<pre>number of reference data blocks: 4</pre>"
      ],
      "text/plain": [
       "number of reference data blocks: 4"
      ]
     },
     "metadata": {},
     "output_type": "display_data"
    },
    {
     "data": {
      "text/html": [
       "<pre>number of query data blocks: 1</pre>"
      ],
      "text/plain": [
       "number of query data blocks: 1"
      ]
     },
     "metadata": {},
     "output_type": "display_data"
    },
    {
     "data": {
      "text/html": [
       "<pre>+--------------+---------+-------------+--------------+</pre>"
      ],
      "text/plain": [
       "+--------------+---------+-------------+--------------+"
      ]
     },
     "metadata": {},
     "output_type": "display_data"
    },
    {
     "data": {
      "text/html": [
       "<pre>| Query points | # Pairs | % Complete. | Elapsed Time |</pre>"
      ],
      "text/plain": [
       "| Query points | # Pairs | % Complete. | Elapsed Time |"
      ]
     },
     "metadata": {},
     "output_type": "display_data"
    },
    {
     "data": {
      "text/html": [
       "<pre>+--------------+---------+-------------+--------------+</pre>"
      ],
      "text/plain": [
       "+--------------+---------+-------------+--------------+"
      ]
     },
     "metadata": {},
     "output_type": "display_data"
    },
    {
     "data": {
      "text/html": [
       "<pre>| 490          | 539980  | 25          | 54.303ms     |</pre>"
      ],
      "text/plain": [
       "| 490          | 539980  | 25          | 54.303ms     |"
      ]
     },
     "metadata": {},
     "output_type": "display_data"
    },
    {
     "data": {
      "text/html": [
       "<pre>| Done         | 2159920 | 100         | 108.682ms    |</pre>"
      ],
      "text/plain": [
       "| Done         | 2159920 | 100         | 108.682ms    |"
      ]
     },
     "metadata": {},
     "output_type": "display_data"
    },
    {
     "data": {
      "text/html": [
       "<pre>+--------------+---------+-------------+--------------+</pre>"
      ],
      "text/plain": [
       "+--------------+---------+-------------+--------------+"
      ]
     },
     "metadata": {},
     "output_type": "display_data"
    },
    {
     "name": "stdout",
     "output_type": "stream",
     "text": [
      "WARNING: Ignoring `roc_curve`. Not supported for multi-class classification.\n"
     ]
    },
    {
     "data": {
      "text/html": [
       "<pre>Starting blockwise querying.</pre>"
      ],
      "text/plain": [
       "Starting blockwise querying."
      ]
     },
     "metadata": {},
     "output_type": "display_data"
    },
    {
     "data": {
      "text/html": [
       "<pre>max rows per data block: 8181</pre>"
      ],
      "text/plain": [
       "max rows per data block: 8181"
      ]
     },
     "metadata": {},
     "output_type": "display_data"
    },
    {
     "data": {
      "text/html": [
       "<pre>number of reference data blocks: 4</pre>"
      ],
      "text/plain": [
       "number of reference data blocks: 4"
      ]
     },
     "metadata": {},
     "output_type": "display_data"
    },
    {
     "data": {
      "text/html": [
       "<pre>number of query data blocks: 1</pre>"
      ],
      "text/plain": [
       "number of query data blocks: 1"
      ]
     },
     "metadata": {},
     "output_type": "display_data"
    },
    {
     "data": {
      "text/html": [
       "<pre>+--------------+---------+-------------+--------------+</pre>"
      ],
      "text/plain": [
       "+--------------+---------+-------------+--------------+"
      ]
     },
     "metadata": {},
     "output_type": "display_data"
    },
    {
     "data": {
      "text/html": [
       "<pre>| Query points | # Pairs | % Complete. | Elapsed Time |</pre>"
      ],
      "text/plain": [
       "| Query points | # Pairs | % Complete. | Elapsed Time |"
      ]
     },
     "metadata": {},
     "output_type": "display_data"
    },
    {
     "data": {
      "text/html": [
       "<pre>+--------------+---------+-------------+--------------+</pre>"
      ],
      "text/plain": [
       "+--------------+---------+-------------+--------------+"
      ]
     },
     "metadata": {},
     "output_type": "display_data"
    },
    {
     "data": {
      "text/html": [
       "<pre>| 490          | 539980  | 25          | 65.189ms     |</pre>"
      ],
      "text/plain": [
       "| 490          | 539980  | 25          | 65.189ms     |"
      ]
     },
     "metadata": {},
     "output_type": "display_data"
    },
    {
     "data": {
      "text/html": [
       "<pre>| Done         | 2159920 | 100         | 91.949ms     |</pre>"
      ],
      "text/plain": [
       "| Done         | 2159920 | 100         | 91.949ms     |"
      ]
     },
     "metadata": {},
     "output_type": "display_data"
    },
    {
     "data": {
      "text/html": [
       "<pre>+--------------+---------+-------------+--------------+</pre>"
      ],
      "text/plain": [
       "+--------------+---------+-------------+--------------+"
      ]
     },
     "metadata": {},
     "output_type": "display_data"
    },
    {
     "data": {
      "text/html": [
       "<pre>Starting blockwise querying.</pre>"
      ],
      "text/plain": [
       "Starting blockwise querying."
      ]
     },
     "metadata": {},
     "output_type": "display_data"
    },
    {
     "data": {
      "text/html": [
       "<pre>max rows per data block: 8181</pre>"
      ],
      "text/plain": [
       "max rows per data block: 8181"
      ]
     },
     "metadata": {},
     "output_type": "display_data"
    },
    {
     "data": {
      "text/html": [
       "<pre>number of reference data blocks: 4</pre>"
      ],
      "text/plain": [
       "number of reference data blocks: 4"
      ]
     },
     "metadata": {},
     "output_type": "display_data"
    },
    {
     "data": {
      "text/html": [
       "<pre>number of query data blocks: 1</pre>"
      ],
      "text/plain": [
       "number of query data blocks: 1"
      ]
     },
     "metadata": {},
     "output_type": "display_data"
    },
    {
     "data": {
      "text/html": [
       "<pre>+--------------+---------+-------------+--------------+</pre>"
      ],
      "text/plain": [
       "+--------------+---------+-------------+--------------+"
      ]
     },
     "metadata": {},
     "output_type": "display_data"
    },
    {
     "data": {
      "text/html": [
       "<pre>| Query points | # Pairs | % Complete. | Elapsed Time |</pre>"
      ],
      "text/plain": [
       "| Query points | # Pairs | % Complete. | Elapsed Time |"
      ]
     },
     "metadata": {},
     "output_type": "display_data"
    },
    {
     "data": {
      "text/html": [
       "<pre>+--------------+---------+-------------+--------------+</pre>"
      ],
      "text/plain": [
       "+--------------+---------+-------------+--------------+"
      ]
     },
     "metadata": {},
     "output_type": "display_data"
    },
    {
     "data": {
      "text/html": [
       "<pre>| 490          | 539980  | 25          | 65.665ms     |</pre>"
      ],
      "text/plain": [
       "| 490          | 539980  | 25          | 65.665ms     |"
      ]
     },
     "metadata": {},
     "output_type": "display_data"
    },
    {
     "data": {
      "text/html": [
       "<pre>| Done         | 2159920 | 100         | 85.428ms     |</pre>"
      ],
      "text/plain": [
       "| Done         | 2159920 | 100         | 85.428ms     |"
      ]
     },
     "metadata": {},
     "output_type": "display_data"
    },
    {
     "data": {
      "text/html": [
       "<pre>+--------------+---------+-------------+--------------+</pre>"
      ],
      "text/plain": [
       "+--------------+---------+-------------+--------------+"
      ]
     },
     "metadata": {},
     "output_type": "display_data"
    },
    {
     "data": {
      "text/html": [
       "<pre>Starting blockwise querying.</pre>"
      ],
      "text/plain": [
       "Starting blockwise querying."
      ]
     },
     "metadata": {},
     "output_type": "display_data"
    },
    {
     "data": {
      "text/html": [
       "<pre>max rows per data block: 8181</pre>"
      ],
      "text/plain": [
       "max rows per data block: 8181"
      ]
     },
     "metadata": {},
     "output_type": "display_data"
    },
    {
     "data": {
      "text/html": [
       "<pre>number of reference data blocks: 4</pre>"
      ],
      "text/plain": [
       "number of reference data blocks: 4"
      ]
     },
     "metadata": {},
     "output_type": "display_data"
    },
    {
     "data": {
      "text/html": [
       "<pre>number of query data blocks: 1</pre>"
      ],
      "text/plain": [
       "number of query data blocks: 1"
      ]
     },
     "metadata": {},
     "output_type": "display_data"
    },
    {
     "data": {
      "text/html": [
       "<pre>+--------------+---------+-------------+--------------+</pre>"
      ],
      "text/plain": [
       "+--------------+---------+-------------+--------------+"
      ]
     },
     "metadata": {},
     "output_type": "display_data"
    },
    {
     "data": {
      "text/html": [
       "<pre>| Query points | # Pairs | % Complete. | Elapsed Time |</pre>"
      ],
      "text/plain": [
       "| Query points | # Pairs | % Complete. | Elapsed Time |"
      ]
     },
     "metadata": {},
     "output_type": "display_data"
    },
    {
     "data": {
      "text/html": [
       "<pre>+--------------+---------+-------------+--------------+</pre>"
      ],
      "text/plain": [
       "+--------------+---------+-------------+--------------+"
      ]
     },
     "metadata": {},
     "output_type": "display_data"
    },
    {
     "data": {
      "text/html": [
       "<pre>| 490          | 539980  | 25          | 79.076ms     |</pre>"
      ],
      "text/plain": [
       "| 490          | 539980  | 25          | 79.076ms     |"
      ]
     },
     "metadata": {},
     "output_type": "display_data"
    },
    {
     "data": {
      "text/html": [
       "<pre>| Done         | 2159920 | 100         | 101.236ms    |</pre>"
      ],
      "text/plain": [
       "| Done         | 2159920 | 100         | 101.236ms    |"
      ]
     },
     "metadata": {},
     "output_type": "display_data"
    },
    {
     "data": {
      "text/html": [
       "<pre>+--------------+---------+-------------+--------------+</pre>"
      ],
      "text/plain": [
       "+--------------+---------+-------------+--------------+"
      ]
     },
     "metadata": {},
     "output_type": "display_data"
    },
    {
     "name": "stdout",
     "output_type": "stream",
     "text": [
      "accuracy: {'accuracy': 0.47544204322200395}\n",
      "confusion_matrix: {'confusion_matrix': Columns:\n",
      "\ttarget_label\tint\n",
      "\tpredicted_label\tint\n",
      "\tcount\tint\n",
      "\n",
      "Rows: 19\n",
      "\n",
      "Data:\n",
      "+--------------+-----------------+-------+\n",
      "| target_label | predicted_label | count |\n",
      "+--------------+-----------------+-------+\n",
      "|      4       |        7        |   1   |\n",
      "|      8       |        7        |   8   |\n",
      "|      4       |        5        |   4   |\n",
      "|      7       |        8        |   1   |\n",
      "|      7       |        7        |   22  |\n",
      "|      7       |        5        |   17  |\n",
      "|      6       |        4        |   2   |\n",
      "|      4       |        6        |   7   |\n",
      "|      3       |        5        |   1   |\n",
      "|      8       |        5        |   1   |\n",
      "+--------------+-----------------+-------+\n",
      "[19 rows x 3 columns]\n",
      "Note: Only the head of the SFrame is printed.\n",
      "You can use print_rows(num_rows=m, num_columns=n) to print more rows and columns.}\n"
     ]
    },
    {
     "data": {
      "text/html": [
       "<pre>Starting brute force nearest neighbors model training.</pre>"
      ],
      "text/plain": [
       "Starting brute force nearest neighbors model training."
      ]
     },
     "metadata": {},
     "output_type": "display_data"
    },
    {
     "name": "stdout",
     "output_type": "stream",
     "text": [
      "Class                                : NearestNeighborClassifier\n",
      "\n",
      "Schema\n",
      "------\n",
      "Number of examples                   : 4409\n",
      "Number of feature columns            : 11\n",
      "Number of unpacked features          : 11\n",
      "Number of distance components        : 1\n",
      "Number of classes                    : 7\n",
      "\n",
      "Training Summary\n",
      "----------------\n",
      "Training time (seconds)              : 0.1718\n",
      "\n",
      "WARNING: Ignoring `roc_curve`. Not supported for multi-class classification.\n"
     ]
    },
    {
     "data": {
      "text/html": [
       "<pre>Starting blockwise querying.</pre>"
      ],
      "text/plain": [
       "Starting blockwise querying."
      ]
     },
     "metadata": {},
     "output_type": "display_data"
    },
    {
     "data": {
      "text/html": [
       "<pre>max rows per data block: 8181</pre>"
      ],
      "text/plain": [
       "max rows per data block: 8181"
      ]
     },
     "metadata": {},
     "output_type": "display_data"
    },
    {
     "data": {
      "text/html": [
       "<pre>number of reference data blocks: 4</pre>"
      ],
      "text/plain": [
       "number of reference data blocks: 4"
      ]
     },
     "metadata": {},
     "output_type": "display_data"
    },
    {
     "data": {
      "text/html": [
       "<pre>number of query data blocks: 1</pre>"
      ],
      "text/plain": [
       "number of query data blocks: 1"
      ]
     },
     "metadata": {},
     "output_type": "display_data"
    },
    {
     "data": {
      "text/html": [
       "<pre>+--------------+---------+-------------+--------------+</pre>"
      ],
      "text/plain": [
       "+--------------+---------+-------------+--------------+"
      ]
     },
     "metadata": {},
     "output_type": "display_data"
    },
    {
     "data": {
      "text/html": [
       "<pre>| Query points | # Pairs | % Complete. | Elapsed Time |</pre>"
      ],
      "text/plain": [
       "| Query points | # Pairs | % Complete. | Elapsed Time |"
      ]
     },
     "metadata": {},
     "output_type": "display_data"
    },
    {
     "data": {
      "text/html": [
       "<pre>+--------------+---------+-------------+--------------+</pre>"
      ],
      "text/plain": [
       "+--------------+---------+-------------+--------------+"
      ]
     },
     "metadata": {},
     "output_type": "display_data"
    },
    {
     "data": {
      "text/html": [
       "<pre>| 489          | 538878  | 24.9943     | 47.749ms     |</pre>"
      ],
      "text/plain": [
       "| 489          | 538878  | 24.9943     | 47.749ms     |"
      ]
     },
     "metadata": {},
     "output_type": "display_data"
    },
    {
     "data": {
      "text/html": [
       "<pre>| Done         | 2156001 | 100         | 71.914ms     |</pre>"
      ],
      "text/plain": [
       "| Done         | 2156001 | 100         | 71.914ms     |"
      ]
     },
     "metadata": {},
     "output_type": "display_data"
    },
    {
     "data": {
      "text/html": [
       "<pre>+--------------+---------+-------------+--------------+</pre>"
      ],
      "text/plain": [
       "+--------------+---------+-------------+--------------+"
      ]
     },
     "metadata": {},
     "output_type": "display_data"
    },
    {
     "data": {
      "text/html": [
       "<pre>Starting blockwise querying.</pre>"
      ],
      "text/plain": [
       "Starting blockwise querying."
      ]
     },
     "metadata": {},
     "output_type": "display_data"
    },
    {
     "data": {
      "text/html": [
       "<pre>max rows per data block: 8181</pre>"
      ],
      "text/plain": [
       "max rows per data block: 8181"
      ]
     },
     "metadata": {},
     "output_type": "display_data"
    },
    {
     "data": {
      "text/html": [
       "<pre>number of reference data blocks: 4</pre>"
      ],
      "text/plain": [
       "number of reference data blocks: 4"
      ]
     },
     "metadata": {},
     "output_type": "display_data"
    },
    {
     "data": {
      "text/html": [
       "<pre>number of query data blocks: 1</pre>"
      ],
      "text/plain": [
       "number of query data blocks: 1"
      ]
     },
     "metadata": {},
     "output_type": "display_data"
    },
    {
     "data": {
      "text/html": [
       "<pre>+--------------+---------+-------------+--------------+</pre>"
      ],
      "text/plain": [
       "+--------------+---------+-------------+--------------+"
      ]
     },
     "metadata": {},
     "output_type": "display_data"
    },
    {
     "data": {
      "text/html": [
       "<pre>| Query points | # Pairs | % Complete. | Elapsed Time |</pre>"
      ],
      "text/plain": [
       "| Query points | # Pairs | % Complete. | Elapsed Time |"
      ]
     },
     "metadata": {},
     "output_type": "display_data"
    },
    {
     "data": {
      "text/html": [
       "<pre>+--------------+---------+-------------+--------------+</pre>"
      ],
      "text/plain": [
       "+--------------+---------+-------------+--------------+"
      ]
     },
     "metadata": {},
     "output_type": "display_data"
    },
    {
     "data": {
      "text/html": [
       "<pre>| 489          | 538878  | 24.9943     | 77.781ms     |</pre>"
      ],
      "text/plain": [
       "| 489          | 538878  | 24.9943     | 77.781ms     |"
      ]
     },
     "metadata": {},
     "output_type": "display_data"
    },
    {
     "data": {
      "text/html": [
       "<pre>| Done         | 2156001 | 100         | 90.029ms     |</pre>"
      ],
      "text/plain": [
       "| Done         | 2156001 | 100         | 90.029ms     |"
      ]
     },
     "metadata": {},
     "output_type": "display_data"
    },
    {
     "data": {
      "text/html": [
       "<pre>+--------------+---------+-------------+--------------+</pre>"
      ],
      "text/plain": [
       "+--------------+---------+-------------+--------------+"
      ]
     },
     "metadata": {},
     "output_type": "display_data"
    },
    {
     "name": "stdout",
     "output_type": "stream",
     "text": [
      "WARNING: Ignoring `roc_curve`. Not supported for multi-class classification.\n"
     ]
    },
    {
     "data": {
      "text/html": [
       "<pre>Starting blockwise querying.</pre>"
      ],
      "text/plain": [
       "Starting blockwise querying."
      ]
     },
     "metadata": {},
     "output_type": "display_data"
    },
    {
     "data": {
      "text/html": [
       "<pre>max rows per data block: 8181</pre>"
      ],
      "text/plain": [
       "max rows per data block: 8181"
      ]
     },
     "metadata": {},
     "output_type": "display_data"
    },
    {
     "data": {
      "text/html": [
       "<pre>number of reference data blocks: 4</pre>"
      ],
      "text/plain": [
       "number of reference data blocks: 4"
      ]
     },
     "metadata": {},
     "output_type": "display_data"
    },
    {
     "data": {
      "text/html": [
       "<pre>number of query data blocks: 1</pre>"
      ],
      "text/plain": [
       "number of query data blocks: 1"
      ]
     },
     "metadata": {},
     "output_type": "display_data"
    },
    {
     "data": {
      "text/html": [
       "<pre>+--------------+---------+-------------+--------------+</pre>"
      ],
      "text/plain": [
       "+--------------+---------+-------------+--------------+"
      ]
     },
     "metadata": {},
     "output_type": "display_data"
    },
    {
     "data": {
      "text/html": [
       "<pre>| Query points | # Pairs | % Complete. | Elapsed Time |</pre>"
      ],
      "text/plain": [
       "| Query points | # Pairs | % Complete. | Elapsed Time |"
      ]
     },
     "metadata": {},
     "output_type": "display_data"
    },
    {
     "data": {
      "text/html": [
       "<pre>+--------------+---------+-------------+--------------+</pre>"
      ],
      "text/plain": [
       "+--------------+---------+-------------+--------------+"
      ]
     },
     "metadata": {},
     "output_type": "display_data"
    },
    {
     "data": {
      "text/html": [
       "<pre>| 489          | 538878  | 24.9943     | 52.248ms     |</pre>"
      ],
      "text/plain": [
       "| 489          | 538878  | 24.9943     | 52.248ms     |"
      ]
     },
     "metadata": {},
     "output_type": "display_data"
    },
    {
     "data": {
      "text/html": [
       "<pre>| Done         | 2156001 | 100         | 113.463ms    |</pre>"
      ],
      "text/plain": [
       "| Done         | 2156001 | 100         | 113.463ms    |"
      ]
     },
     "metadata": {},
     "output_type": "display_data"
    },
    {
     "data": {
      "text/html": [
       "<pre>+--------------+---------+-------------+--------------+</pre>"
      ],
      "text/plain": [
       "+--------------+---------+-------------+--------------+"
      ]
     },
     "metadata": {},
     "output_type": "display_data"
    },
    {
     "data": {
      "text/html": [
       "<pre>Starting blockwise querying.</pre>"
      ],
      "text/plain": [
       "Starting blockwise querying."
      ]
     },
     "metadata": {},
     "output_type": "display_data"
    },
    {
     "data": {
      "text/html": [
       "<pre>max rows per data block: 8181</pre>"
      ],
      "text/plain": [
       "max rows per data block: 8181"
      ]
     },
     "metadata": {},
     "output_type": "display_data"
    },
    {
     "data": {
      "text/html": [
       "<pre>number of reference data blocks: 4</pre>"
      ],
      "text/plain": [
       "number of reference data blocks: 4"
      ]
     },
     "metadata": {},
     "output_type": "display_data"
    },
    {
     "data": {
      "text/html": [
       "<pre>number of query data blocks: 1</pre>"
      ],
      "text/plain": [
       "number of query data blocks: 1"
      ]
     },
     "metadata": {},
     "output_type": "display_data"
    },
    {
     "data": {
      "text/html": [
       "<pre>+--------------+---------+-------------+--------------+</pre>"
      ],
      "text/plain": [
       "+--------------+---------+-------------+--------------+"
      ]
     },
     "metadata": {},
     "output_type": "display_data"
    },
    {
     "data": {
      "text/html": [
       "<pre>| Query points | # Pairs | % Complete. | Elapsed Time |</pre>"
      ],
      "text/plain": [
       "| Query points | # Pairs | % Complete. | Elapsed Time |"
      ]
     },
     "metadata": {},
     "output_type": "display_data"
    },
    {
     "data": {
      "text/html": [
       "<pre>+--------------+---------+-------------+--------------+</pre>"
      ],
      "text/plain": [
       "+--------------+---------+-------------+--------------+"
      ]
     },
     "metadata": {},
     "output_type": "display_data"
    },
    {
     "data": {
      "text/html": [
       "<pre>| 489          | 538878  | 24.9943     | 57.718ms     |</pre>"
      ],
      "text/plain": [
       "| 489          | 538878  | 24.9943     | 57.718ms     |"
      ]
     },
     "metadata": {},
     "output_type": "display_data"
    },
    {
     "data": {
      "text/html": [
       "<pre>| Done         | 2156001 | 100         | 82.578ms     |</pre>"
      ],
      "text/plain": [
       "| Done         | 2156001 | 100         | 82.578ms     |"
      ]
     },
     "metadata": {},
     "output_type": "display_data"
    },
    {
     "data": {
      "text/html": [
       "<pre>+--------------+---------+-------------+--------------+</pre>"
      ],
      "text/plain": [
       "+--------------+---------+-------------+--------------+"
      ]
     },
     "metadata": {},
     "output_type": "display_data"
    },
    {
     "data": {
      "text/html": [
       "<pre>Starting blockwise querying.</pre>"
      ],
      "text/plain": [
       "Starting blockwise querying."
      ]
     },
     "metadata": {},
     "output_type": "display_data"
    },
    {
     "data": {
      "text/html": [
       "<pre>max rows per data block: 8181</pre>"
      ],
      "text/plain": [
       "max rows per data block: 8181"
      ]
     },
     "metadata": {},
     "output_type": "display_data"
    },
    {
     "data": {
      "text/html": [
       "<pre>number of reference data blocks: 4</pre>"
      ],
      "text/plain": [
       "number of reference data blocks: 4"
      ]
     },
     "metadata": {},
     "output_type": "display_data"
    },
    {
     "data": {
      "text/html": [
       "<pre>number of query data blocks: 1</pre>"
      ],
      "text/plain": [
       "number of query data blocks: 1"
      ]
     },
     "metadata": {},
     "output_type": "display_data"
    },
    {
     "data": {
      "text/html": [
       "<pre>+--------------+---------+-------------+--------------+</pre>"
      ],
      "text/plain": [
       "+--------------+---------+-------------+--------------+"
      ]
     },
     "metadata": {},
     "output_type": "display_data"
    },
    {
     "data": {
      "text/html": [
       "<pre>| Query points | # Pairs | % Complete. | Elapsed Time |</pre>"
      ],
      "text/plain": [
       "| Query points | # Pairs | % Complete. | Elapsed Time |"
      ]
     },
     "metadata": {},
     "output_type": "display_data"
    },
    {
     "data": {
      "text/html": [
       "<pre>+--------------+---------+-------------+--------------+</pre>"
      ],
      "text/plain": [
       "+--------------+---------+-------------+--------------+"
      ]
     },
     "metadata": {},
     "output_type": "display_data"
    },
    {
     "data": {
      "text/html": [
       "<pre>| 489          | 538878  | 24.9943     | 53.294ms     |</pre>"
      ],
      "text/plain": [
       "| 489          | 538878  | 24.9943     | 53.294ms     |"
      ]
     },
     "metadata": {},
     "output_type": "display_data"
    },
    {
     "data": {
      "text/html": [
       "<pre>| Done         | 2156001 | 100         | 70.357ms     |</pre>"
      ],
      "text/plain": [
       "| Done         | 2156001 | 100         | 70.357ms     |"
      ]
     },
     "metadata": {},
     "output_type": "display_data"
    },
    {
     "data": {
      "text/html": [
       "<pre>+--------------+---------+-------------+--------------+</pre>"
      ],
      "text/plain": [
       "+--------------+---------+-------------+--------------+"
      ]
     },
     "metadata": {},
     "output_type": "display_data"
    },
    {
     "name": "stdout",
     "output_type": "stream",
     "text": [
      "accuracy: {'accuracy': 0.47544204322200395}\n",
      "confusion_matrix: {'confusion_matrix': Columns:\n",
      "\ttarget_label\tint\n",
      "\tpredicted_label\tint\n",
      "\tcount\tint\n",
      "\n",
      "Rows: 19\n",
      "\n",
      "Data:\n",
      "+--------------+-----------------+-------+\n",
      "| target_label | predicted_label | count |\n",
      "+--------------+-----------------+-------+\n",
      "|      4       |        7        |   2   |\n",
      "|      7       |        6        |   40  |\n",
      "|      6       |        4        |   1   |\n",
      "|      6       |        7        |   62  |\n",
      "|      6       |        8        |   4   |\n",
      "|      7       |        8        |   3   |\n",
      "|      4       |        4        |   1   |\n",
      "|      7       |        5        |   7   |\n",
      "|      5       |        4        |   1   |\n",
      "|      4       |        6        |   8   |\n",
      "+--------------+-----------------+-------+\n",
      "[19 rows x 3 columns]\n",
      "Note: Only the head of the SFrame is printed.\n",
      "You can use print_rows(num_rows=m, num_columns=n) to print more rows and columns.}\n"
     ]
    },
    {
     "data": {
      "text/html": [
       "<pre>Starting brute force nearest neighbors model training.</pre>"
      ],
      "text/plain": [
       "Starting brute force nearest neighbors model training."
      ]
     },
     "metadata": {},
     "output_type": "display_data"
    },
    {
     "name": "stdout",
     "output_type": "stream",
     "text": [
      "Class                                : NearestNeighborClassifier\n",
      "\n",
      "Schema\n",
      "------\n",
      "Number of examples                   : 4409\n",
      "Number of feature columns            : 11\n",
      "Number of unpacked features          : 11\n",
      "Number of distance components        : 1\n",
      "Number of classes                    : 7\n",
      "\n",
      "Training Summary\n",
      "----------------\n",
      "Training time (seconds)              : 0.1555\n",
      "\n",
      "WARNING: Ignoring `roc_curve`. Not supported for multi-class classification.\n"
     ]
    },
    {
     "data": {
      "text/html": [
       "<pre>Starting blockwise querying.</pre>"
      ],
      "text/plain": [
       "Starting blockwise querying."
      ]
     },
     "metadata": {},
     "output_type": "display_data"
    },
    {
     "data": {
      "text/html": [
       "<pre>max rows per data block: 8181</pre>"
      ],
      "text/plain": [
       "max rows per data block: 8181"
      ]
     },
     "metadata": {},
     "output_type": "display_data"
    },
    {
     "data": {
      "text/html": [
       "<pre>number of reference data blocks: 4</pre>"
      ],
      "text/plain": [
       "number of reference data blocks: 4"
      ]
     },
     "metadata": {},
     "output_type": "display_data"
    },
    {
     "data": {
      "text/html": [
       "<pre>number of query data blocks: 1</pre>"
      ],
      "text/plain": [
       "number of query data blocks: 1"
      ]
     },
     "metadata": {},
     "output_type": "display_data"
    },
    {
     "data": {
      "text/html": [
       "<pre>+--------------+---------+-------------+--------------+</pre>"
      ],
      "text/plain": [
       "+--------------+---------+-------------+--------------+"
      ]
     },
     "metadata": {},
     "output_type": "display_data"
    },
    {
     "data": {
      "text/html": [
       "<pre>| Query points | # Pairs | % Complete. | Elapsed Time |</pre>"
      ],
      "text/plain": [
       "| Query points | # Pairs | % Complete. | Elapsed Time |"
      ]
     },
     "metadata": {},
     "output_type": "display_data"
    },
    {
     "data": {
      "text/html": [
       "<pre>+--------------+---------+-------------+--------------+</pre>"
      ],
      "text/plain": [
       "+--------------+---------+-------------+--------------+"
      ]
     },
     "metadata": {},
     "output_type": "display_data"
    },
    {
     "data": {
      "text/html": [
       "<pre>| 489          | 538878  | 24.9943     | 72.748ms     |</pre>"
      ],
      "text/plain": [
       "| 489          | 538878  | 24.9943     | 72.748ms     |"
      ]
     },
     "metadata": {},
     "output_type": "display_data"
    },
    {
     "data": {
      "text/html": [
       "<pre>| Done         | 2156001 | 100         | 82.676ms     |</pre>"
      ],
      "text/plain": [
       "| Done         | 2156001 | 100         | 82.676ms     |"
      ]
     },
     "metadata": {},
     "output_type": "display_data"
    },
    {
     "data": {
      "text/html": [
       "<pre>+--------------+---------+-------------+--------------+</pre>"
      ],
      "text/plain": [
       "+--------------+---------+-------------+--------------+"
      ]
     },
     "metadata": {},
     "output_type": "display_data"
    },
    {
     "data": {
      "text/html": [
       "<pre>Starting blockwise querying.</pre>"
      ],
      "text/plain": [
       "Starting blockwise querying."
      ]
     },
     "metadata": {},
     "output_type": "display_data"
    },
    {
     "data": {
      "text/html": [
       "<pre>max rows per data block: 8181</pre>"
      ],
      "text/plain": [
       "max rows per data block: 8181"
      ]
     },
     "metadata": {},
     "output_type": "display_data"
    },
    {
     "data": {
      "text/html": [
       "<pre>number of reference data blocks: 4</pre>"
      ],
      "text/plain": [
       "number of reference data blocks: 4"
      ]
     },
     "metadata": {},
     "output_type": "display_data"
    },
    {
     "data": {
      "text/html": [
       "<pre>number of query data blocks: 1</pre>"
      ],
      "text/plain": [
       "number of query data blocks: 1"
      ]
     },
     "metadata": {},
     "output_type": "display_data"
    },
    {
     "data": {
      "text/html": [
       "<pre>+--------------+---------+-------------+--------------+</pre>"
      ],
      "text/plain": [
       "+--------------+---------+-------------+--------------+"
      ]
     },
     "metadata": {},
     "output_type": "display_data"
    },
    {
     "data": {
      "text/html": [
       "<pre>| Query points | # Pairs | % Complete. | Elapsed Time |</pre>"
      ],
      "text/plain": [
       "| Query points | # Pairs | % Complete. | Elapsed Time |"
      ]
     },
     "metadata": {},
     "output_type": "display_data"
    },
    {
     "data": {
      "text/html": [
       "<pre>+--------------+---------+-------------+--------------+</pre>"
      ],
      "text/plain": [
       "+--------------+---------+-------------+--------------+"
      ]
     },
     "metadata": {},
     "output_type": "display_data"
    },
    {
     "data": {
      "text/html": [
       "<pre>| 489          | 538878  | 24.9943     | 43.049ms     |</pre>"
      ],
      "text/plain": [
       "| 489          | 538878  | 24.9943     | 43.049ms     |"
      ]
     },
     "metadata": {},
     "output_type": "display_data"
    },
    {
     "data": {
      "text/html": [
       "<pre>| Done         | 2156001 | 100         | 84.782ms     |</pre>"
      ],
      "text/plain": [
       "| Done         | 2156001 | 100         | 84.782ms     |"
      ]
     },
     "metadata": {},
     "output_type": "display_data"
    },
    {
     "data": {
      "text/html": [
       "<pre>+--------------+---------+-------------+--------------+</pre>"
      ],
      "text/plain": [
       "+--------------+---------+-------------+--------------+"
      ]
     },
     "metadata": {},
     "output_type": "display_data"
    },
    {
     "name": "stdout",
     "output_type": "stream",
     "text": [
      "WARNING: Ignoring `roc_curve`. Not supported for multi-class classification.\n"
     ]
    },
    {
     "data": {
      "text/html": [
       "<pre>Starting blockwise querying.</pre>"
      ],
      "text/plain": [
       "Starting blockwise querying."
      ]
     },
     "metadata": {},
     "output_type": "display_data"
    },
    {
     "data": {
      "text/html": [
       "<pre>max rows per data block: 8181</pre>"
      ],
      "text/plain": [
       "max rows per data block: 8181"
      ]
     },
     "metadata": {},
     "output_type": "display_data"
    },
    {
     "data": {
      "text/html": [
       "<pre>number of reference data blocks: 4</pre>"
      ],
      "text/plain": [
       "number of reference data blocks: 4"
      ]
     },
     "metadata": {},
     "output_type": "display_data"
    },
    {
     "data": {
      "text/html": [
       "<pre>number of query data blocks: 1</pre>"
      ],
      "text/plain": [
       "number of query data blocks: 1"
      ]
     },
     "metadata": {},
     "output_type": "display_data"
    },
    {
     "data": {
      "text/html": [
       "<pre>+--------------+---------+-------------+--------------+</pre>"
      ],
      "text/plain": [
       "+--------------+---------+-------------+--------------+"
      ]
     },
     "metadata": {},
     "output_type": "display_data"
    },
    {
     "data": {
      "text/html": [
       "<pre>| Query points | # Pairs | % Complete. | Elapsed Time |</pre>"
      ],
      "text/plain": [
       "| Query points | # Pairs | % Complete. | Elapsed Time |"
      ]
     },
     "metadata": {},
     "output_type": "display_data"
    },
    {
     "data": {
      "text/html": [
       "<pre>+--------------+---------+-------------+--------------+</pre>"
      ],
      "text/plain": [
       "+--------------+---------+-------------+--------------+"
      ]
     },
     "metadata": {},
     "output_type": "display_data"
    },
    {
     "data": {
      "text/html": [
       "<pre>| 489          | 538878  | 24.9943     | 47.841ms     |</pre>"
      ],
      "text/plain": [
       "| 489          | 538878  | 24.9943     | 47.841ms     |"
      ]
     },
     "metadata": {},
     "output_type": "display_data"
    },
    {
     "data": {
      "text/html": [
       "<pre>| Done         | 2156001 | 100         | 93.162ms     |</pre>"
      ],
      "text/plain": [
       "| Done         | 2156001 | 100         | 93.162ms     |"
      ]
     },
     "metadata": {},
     "output_type": "display_data"
    },
    {
     "data": {
      "text/html": [
       "<pre>+--------------+---------+-------------+--------------+</pre>"
      ],
      "text/plain": [
       "+--------------+---------+-------------+--------------+"
      ]
     },
     "metadata": {},
     "output_type": "display_data"
    },
    {
     "data": {
      "text/html": [
       "<pre>Starting blockwise querying.</pre>"
      ],
      "text/plain": [
       "Starting blockwise querying."
      ]
     },
     "metadata": {},
     "output_type": "display_data"
    },
    {
     "data": {
      "text/html": [
       "<pre>max rows per data block: 8181</pre>"
      ],
      "text/plain": [
       "max rows per data block: 8181"
      ]
     },
     "metadata": {},
     "output_type": "display_data"
    },
    {
     "data": {
      "text/html": [
       "<pre>number of reference data blocks: 4</pre>"
      ],
      "text/plain": [
       "number of reference data blocks: 4"
      ]
     },
     "metadata": {},
     "output_type": "display_data"
    },
    {
     "data": {
      "text/html": [
       "<pre>number of query data blocks: 1</pre>"
      ],
      "text/plain": [
       "number of query data blocks: 1"
      ]
     },
     "metadata": {},
     "output_type": "display_data"
    },
    {
     "data": {
      "text/html": [
       "<pre>+--------------+---------+-------------+--------------+</pre>"
      ],
      "text/plain": [
       "+--------------+---------+-------------+--------------+"
      ]
     },
     "metadata": {},
     "output_type": "display_data"
    },
    {
     "data": {
      "text/html": [
       "<pre>| Query points | # Pairs | % Complete. | Elapsed Time |</pre>"
      ],
      "text/plain": [
       "| Query points | # Pairs | % Complete. | Elapsed Time |"
      ]
     },
     "metadata": {},
     "output_type": "display_data"
    },
    {
     "data": {
      "text/html": [
       "<pre>+--------------+---------+-------------+--------------+</pre>"
      ],
      "text/plain": [
       "+--------------+---------+-------------+--------------+"
      ]
     },
     "metadata": {},
     "output_type": "display_data"
    },
    {
     "data": {
      "text/html": [
       "<pre>| 489          | 538878  | 24.9943     | 40.75ms      |</pre>"
      ],
      "text/plain": [
       "| 489          | 538878  | 24.9943     | 40.75ms      |"
      ]
     },
     "metadata": {},
     "output_type": "display_data"
    },
    {
     "data": {
      "text/html": [
       "<pre>| Done         | 2156001 | 100         | 87.924ms     |</pre>"
      ],
      "text/plain": [
       "| Done         | 2156001 | 100         | 87.924ms     |"
      ]
     },
     "metadata": {},
     "output_type": "display_data"
    },
    {
     "data": {
      "text/html": [
       "<pre>+--------------+---------+-------------+--------------+</pre>"
      ],
      "text/plain": [
       "+--------------+---------+-------------+--------------+"
      ]
     },
     "metadata": {},
     "output_type": "display_data"
    },
    {
     "data": {
      "text/html": [
       "<pre>Starting blockwise querying.</pre>"
      ],
      "text/plain": [
       "Starting blockwise querying."
      ]
     },
     "metadata": {},
     "output_type": "display_data"
    },
    {
     "data": {
      "text/html": [
       "<pre>max rows per data block: 8181</pre>"
      ],
      "text/plain": [
       "max rows per data block: 8181"
      ]
     },
     "metadata": {},
     "output_type": "display_data"
    },
    {
     "data": {
      "text/html": [
       "<pre>number of reference data blocks: 4</pre>"
      ],
      "text/plain": [
       "number of reference data blocks: 4"
      ]
     },
     "metadata": {},
     "output_type": "display_data"
    },
    {
     "data": {
      "text/html": [
       "<pre>number of query data blocks: 1</pre>"
      ],
      "text/plain": [
       "number of query data blocks: 1"
      ]
     },
     "metadata": {},
     "output_type": "display_data"
    },
    {
     "data": {
      "text/html": [
       "<pre>+--------------+---------+-------------+--------------+</pre>"
      ],
      "text/plain": [
       "+--------------+---------+-------------+--------------+"
      ]
     },
     "metadata": {},
     "output_type": "display_data"
    },
    {
     "data": {
      "text/html": [
       "<pre>| Query points | # Pairs | % Complete. | Elapsed Time |</pre>"
      ],
      "text/plain": [
       "| Query points | # Pairs | % Complete. | Elapsed Time |"
      ]
     },
     "metadata": {},
     "output_type": "display_data"
    },
    {
     "data": {
      "text/html": [
       "<pre>+--------------+---------+-------------+--------------+</pre>"
      ],
      "text/plain": [
       "+--------------+---------+-------------+--------------+"
      ]
     },
     "metadata": {},
     "output_type": "display_data"
    },
    {
     "data": {
      "text/html": [
       "<pre>| 489          | 538878  | 24.9943     | 49.895ms     |</pre>"
      ],
      "text/plain": [
       "| 489          | 538878  | 24.9943     | 49.895ms     |"
      ]
     },
     "metadata": {},
     "output_type": "display_data"
    },
    {
     "data": {
      "text/html": [
       "<pre>| Done         | 2156001 | 100         | 84.387ms     |</pre>"
      ],
      "text/plain": [
       "| Done         | 2156001 | 100         | 84.387ms     |"
      ]
     },
     "metadata": {},
     "output_type": "display_data"
    },
    {
     "data": {
      "text/html": [
       "<pre>+--------------+---------+-------------+--------------+</pre>"
      ],
      "text/plain": [
       "+--------------+---------+-------------+--------------+"
      ]
     },
     "metadata": {},
     "output_type": "display_data"
    },
    {
     "name": "stdout",
     "output_type": "stream",
     "text": [
      "accuracy: {'accuracy': 0.47544204322200395}\n",
      "confusion_matrix: {'confusion_matrix': Columns:\n",
      "\ttarget_label\tint\n",
      "\tpredicted_label\tint\n",
      "\tcount\tint\n",
      "\n",
      "Rows: 19\n",
      "\n",
      "Data:\n",
      "+--------------+-----------------+-------+\n",
      "| target_label | predicted_label | count |\n",
      "+--------------+-----------------+-------+\n",
      "|      8       |        6        |   3   |\n",
      "|      4       |        5        |   4   |\n",
      "|      6       |        5        |   43  |\n",
      "|      8       |        7        |   2   |\n",
      "|      5       |        4        |   1   |\n",
      "|      4       |        6        |   5   |\n",
      "|      7       |        4        |   1   |\n",
      "|      7       |        5        |   8   |\n",
      "|      6       |        7        |   65  |\n",
      "|      6       |        8        |   5   |\n",
      "+--------------+-----------------+-------+\n",
      "[19 rows x 3 columns]\n",
      "Note: Only the head of the SFrame is printed.\n",
      "You can use print_rows(num_rows=m, num_columns=n) to print more rows and columns.}\n"
     ]
    }
   ],
   "source": [
    "for train,validation in folds:\n",
    "    knn = graphlab.nearest_neighbor_classifier.create(train,target='quality',distance='cosine')\n",
    "    knn.summary()\n",
    "    eva1 = knn.evaluate(validation,metric='accuracy',max_neighbors=10)\n",
    "    eva2 = knn.evaluate(validation,metric='confusion_matrix',max_neighbors=10)\n",
    "    pre = knn.predict(validation,max_neighbors=10)\n",
    "    print 'accuracy:', eva\n",
    "    print 'confusion_matrix:' ,eva2"
   ]
  },
  {
   "cell_type": "markdown",
   "metadata": {},
   "source": [
    "## 2.7 using k-fold cross validate with chebyshev distance"
   ]
  },
  {
   "cell_type": "code",
   "execution_count": 141,
   "metadata": {
    "collapsed": false
   },
   "outputs": [
    {
     "name": "stdout",
     "output_type": "stream",
     "text": [
      "time: 0.000767230987549\n",
      "accuracy: 0.395918367347\n",
      "Confusion matrix, without normalization\n",
      "[[  0   1   2   1   0   0]\n",
      " [  0   1   6   9   0   0]\n",
      " [  0   0  58  93  11   1]\n",
      " [  0   1  72 126  14   0]\n",
      " [  0   1  17  51   9   0]\n",
      " [  0   0   0  11   5   0]]\n",
      "time: 0.000631093978882\n",
      "accuracy: 0.422448979592\n",
      "Confusion matrix, without normalization\n",
      "[[  0   1   0   1   0   0   0]\n",
      " [  0   0   9  10   0   0   0]\n",
      " [  0   5  81  57   5   0   0]\n",
      " [  0   0  65 107  17   2   0]\n",
      " [  0   0  16  70  19   0   0]\n",
      " [  0   0   7  13   1   0   0]\n",
      " [  0   0   1   3   0   0   0]]\n",
      "time: 0.000849008560181\n",
      "accuracy: 0.383673469388\n",
      "Confusion matrix, without normalization\n",
      "[[  0   0   1   2   0   0]\n",
      " [  0   0   9  12   1   0]\n",
      " [  0   2  58  69   8   0]\n",
      " [  0   0  68 118  20   0]\n",
      " [  0   2  18  64  12   0]\n",
      " [  0   0   7  13   6   0]]\n",
      "time: 0.000625133514404\n",
      "accuracy: 0.4\n",
      "Confusion matrix, without normalization\n",
      "[[  0   0   2   1   0   0   0]\n",
      " [  0   2  10   9   0   0   0]\n",
      " [  0   6  66  65  13   2   0]\n",
      " [  0   1  89 120  18   0   0]\n",
      " [  0   0  23  43   8   0   0]\n",
      " [  0   0   5   3   3   0   0]\n",
      " [  0   0   0   1   0   0   0]]\n",
      "time: 0.000640869140625\n",
      "accuracy: 0.459183673469\n",
      "Confusion matrix, without normalization\n",
      "[[  0   0   2   0   0   0]\n",
      " [  0   1  18   7   1   0]\n",
      " [  0   0  98  92  10   2]\n",
      " [  0   0  60 115  17   3]\n",
      " [  0   0   7  33  11   0]\n",
      " [  0   0   2  11   0   0]]\n",
      "time: 0.0011420249939\n",
      "accuracy: 0.359183673469\n",
      "Confusion matrix, without normalization\n",
      "[[  0   8   4   0   0]\n",
      " [  1  56  97   9   0]\n",
      " [  4  63 104  21   0]\n",
      " [  0  13  73  16   0]\n",
      " [  0   3  17   1   0]]\n",
      "time: 0.000909805297852\n",
      "accuracy: 0.432653061224\n",
      "Confusion matrix, without normalization\n",
      "[[  0   0   1   2   1   0]\n",
      " [  0   1   4   4   0   0]\n",
      " [  0   4  32  56   7   0]\n",
      " [  0   6  42 159  32   2]\n",
      " [  0   1  19  73  19   0]\n",
      " [  0   1   4  14   5   1]]\n",
      "time: 0.000827074050903\n",
      "accuracy: 0.428571428571\n",
      "Confusion matrix, without normalization\n",
      "[[  0   0   1   0   0   0]\n",
      " [  0   0   4   8   0   0]\n",
      " [  0   3  49  72   3   0]\n",
      " [  0   1  45 150  18   2]\n",
      " [  0   0  23  78  11   0]\n",
      " [  0   0   3   9  10   0]]\n",
      "time: 0.000611066818237\n",
      "accuracy: 0.458077709611\n",
      "Confusion matrix, without normalization\n",
      "[[  1   7   6   1   0]\n",
      " [  2  68  63  17   0]\n",
      " [  1  53 147  35   1]\n",
      " [  0  13  48   8   3]\n",
      " [  0  10   2   3   0]]\n",
      "time: 0.000625848770142\n",
      "accuracy: 0.458077709611\n",
      "Confusion matrix, without normalization\n",
      "[[  0   0   1   0   0   0]\n",
      " [  0   1   7   2   0   0]\n",
      " [  0   3  39  59  15   0]\n",
      " [  0   0  52 171  55   1]\n",
      " [  0   0  10  55  13   0]\n",
      " [  0   0   1   4   0   0]]\n"
     ]
    }
   ],
   "source": [
    "knn_model_with10N_kfold('brute','chebyshev')"
   ]
  },
  {
   "cell_type": "code",
   "execution_count": null,
   "metadata": {
    "collapsed": true
   },
   "outputs": [],
   "source": []
  }
 ],
 "metadata": {
  "kernelspec": {
   "display_name": "Python 2",
   "language": "python",
   "name": "python2"
  },
  "language_info": {
   "codemirror_mode": {
    "name": "ipython",
    "version": 2
   },
   "file_extension": ".py",
   "mimetype": "text/x-python",
   "name": "python",
   "nbconvert_exporter": "python",
   "pygments_lexer": "ipython2",
   "version": "2.7.12"
  }
 },
 "nbformat": 4,
 "nbformat_minor": 0
}
